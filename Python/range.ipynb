{
 "cells": [
  {
   "cell_type": "markdown",
   "id": "1c5d0b33-7119-451e-974a-d9413083f042",
   "metadata": {},
   "source": [
    "Range()"
   ]
  },
  {
   "cell_type": "code",
   "execution_count": null,
   "id": "aa8793b7-a927-4721-891c-a0b4b7bfff16",
   "metadata": {},
   "outputs": [],
   "source": [
    "#range(start,stop,step)"
   ]
  },
  {
   "cell_type": "code",
   "execution_count": 5,
   "id": "a598bae1-f362-42a4-b3f8-0ab47d5ac866",
   "metadata": {},
   "outputs": [
    {
     "data": {
      "text/plain": [
       "[10, 11, 12, 13, 14, 15, 16, 17, 18, 19]"
      ]
     },
     "execution_count": 5,
     "metadata": {},
     "output_type": "execute_result"
    }
   ],
   "source": [
    "list(range(10,20)) #example creating list using range(). With two arguments"
   ]
  },
  {
   "cell_type": "code",
   "execution_count": 6,
   "id": "fb27ab7d-91a2-45df-a573-e5e11ecf571f",
   "metadata": {},
   "outputs": [
    {
     "data": {
      "text/plain": [
       "[10, 13, 16, 19]"
      ]
     },
     "execution_count": 6,
     "metadata": {},
     "output_type": "execute_result"
    }
   ],
   "source": [
    "list(range(10,20,3)) # with three arguments "
   ]
  },
  {
   "cell_type": "code",
   "execution_count": 7,
   "id": "da21b9f3-3bbc-4348-85f3-7758db03cacc",
   "metadata": {},
   "outputs": [
    {
     "ename": "TypeError",
     "evalue": "range expected at most 3 arguments, got 4",
     "output_type": "error",
     "traceback": [
      "\u001b[1;31m---------------------------------------------------------------------------\u001b[0m",
      "\u001b[1;31mTypeError\u001b[0m                                 Traceback (most recent call last)",
      "Cell \u001b[1;32mIn[7], line 1\u001b[0m\n\u001b[1;32m----> 1\u001b[0m \u001b[38;5;28mlist\u001b[39m(\u001b[38;5;28mrange\u001b[39m(\u001b[38;5;241m10\u001b[39m,\u001b[38;5;241m20\u001b[39m,\u001b[38;5;241m5\u001b[39m,\u001b[38;5;241m4\u001b[39m))\n",
      "\u001b[1;31mTypeError\u001b[0m: range expected at most 3 arguments, got 4"
     ]
    }
   ],
   "source": [
    "list(range(10,20,5,4)) # it show error because you can pass only three arguments."
   ]
  },
  {
   "cell_type": "code",
   "execution_count": 8,
   "id": "35d4b082-da05-4e14-a224-cd46318a6944",
   "metadata": {},
   "outputs": [],
   "source": [
    "r =list(range(10,20,5,)) # storing in variable."
   ]
  },
  {
   "cell_type": "code",
   "execution_count": 9,
   "id": "f9eea6b7-bf35-4dd5-8a65-2183903bd268",
   "metadata": {},
   "outputs": [
    {
     "data": {
      "text/plain": [
       "[10, 15]"
      ]
     },
     "execution_count": 9,
     "metadata": {},
     "output_type": "execute_result"
    }
   ],
   "source": [
    "r"
   ]
  },
  {
   "cell_type": "code",
   "execution_count": 10,
   "id": "a4f4f1d8-f4a4-406b-a406-c2dddcbf1d1e",
   "metadata": {},
   "outputs": [
    {
     "name": "stdout",
     "output_type": "stream",
     "text": [
      "10\n",
      "15\n"
     ]
    }
   ],
   "source": [
    "for i in r : \n",
    "    print(i)"
   ]
  },
  {
   "cell_type": "code",
   "execution_count": 11,
   "id": "7fb36b4f-277f-474b-bfe9-9bea7a486e36",
   "metadata": {},
   "outputs": [],
   "source": [
    "a=range(0,10)"
   ]
  },
  {
   "cell_type": "code",
   "execution_count": 12,
   "id": "985b68b3-dc1c-4248-9bd5-40f195121b1e",
   "metadata": {},
   "outputs": [
    {
     "data": {
      "text/plain": [
       "range(0, 10)"
      ]
     },
     "execution_count": 12,
     "metadata": {},
     "output_type": "execute_result"
    }
   ],
   "source": [
    "a"
   ]
  },
  {
   "cell_type": "code",
   "execution_count": 13,
   "id": "d8e6415d-af78-409e-9cfe-c6ef7f483a28",
   "metadata": {},
   "outputs": [
    {
     "data": {
      "text/plain": [
       "[0, 1, 2, 3, 4, 5, 6, 7, 8, 9]"
      ]
     },
     "execution_count": 13,
     "metadata": {},
     "output_type": "execute_result"
    }
   ],
   "source": [
    "list(a)"
   ]
  },
  {
   "cell_type": "markdown",
   "id": "9a936b45-3fc7-4a6a-8465-ba1897d2a50e",
   "metadata": {},
   "source": [
    "#Advance slicing"
   ]
  },
  {
   "cell_type": "code",
   "execution_count": 14,
   "id": "eb20d92f-0da0-4be2-a0a4-e9bcf66200cc",
   "metadata": {},
   "outputs": [],
   "source": [
    "l = [ 1,2,3,'sayed',True,5]"
   ]
  },
  {
   "cell_type": "code",
   "execution_count": 15,
   "id": "1dc8811a-7e4c-449d-b39e-70064af3f3c1",
   "metadata": {},
   "outputs": [
    {
     "data": {
      "text/plain": [
       "[1, 2, 3, 'sayed', True, 5]"
      ]
     },
     "execution_count": 15,
     "metadata": {},
     "output_type": "execute_result"
    }
   ],
   "source": [
    "l"
   ]
  },
  {
   "cell_type": "code",
   "execution_count": 16,
   "id": "b1251bf0-9f86-4994-8beb-14078e61ce69",
   "metadata": {},
   "outputs": [
    {
     "data": {
      "text/plain": [
       "[1, 2, 3, 'sayed', True, 5]"
      ]
     },
     "execution_count": 16,
     "metadata": {},
     "output_type": "execute_result"
    }
   ],
   "source": [
    "l[:]"
   ]
  },
  {
   "cell_type": "code",
   "execution_count": 17,
   "id": "62900e9e-2128-4d24-9467-0ca22f3b7f60",
   "metadata": {},
   "outputs": [
    {
     "data": {
      "text/plain": [
       "[2, 3, 'sayed', True, 5]"
      ]
     },
     "execution_count": 17,
     "metadata": {},
     "output_type": "execute_result"
    }
   ],
   "source": [
    "l[1:] #forward slicing"
   ]
  },
  {
   "cell_type": "code",
   "execution_count": 18,
   "id": "1d5e655f-a680-452f-9ae0-5ceaf916fc3c",
   "metadata": {},
   "outputs": [
    {
     "data": {
      "text/plain": [
       "['sayed', True, 5]"
      ]
     },
     "execution_count": 18,
     "metadata": {},
     "output_type": "execute_result"
    }
   ],
   "source": [
    "l[-3:]"
   ]
  },
  {
   "cell_type": "code",
   "execution_count": 19,
   "id": "ca993d8c-260e-44fb-9bc2-d7948ca9143e",
   "metadata": {},
   "outputs": [],
   "source": [
    "#step slicing"
   ]
  },
  {
   "cell_type": "code",
   "execution_count": 20,
   "id": "74367129-a34f-4f4e-998b-fc76cf31f033",
   "metadata": {},
   "outputs": [
    {
     "data": {
      "text/plain": [
       "[1, 2, 3, 'sayed', True, 5]"
      ]
     },
     "execution_count": 20,
     "metadata": {},
     "output_type": "execute_result"
    }
   ],
   "source": [
    "l"
   ]
  },
  {
   "cell_type": "code",
   "execution_count": 21,
   "id": "5d4cac87-3ead-46f4-88b5-6c907c71325e",
   "metadata": {},
   "outputs": [
    {
     "data": {
      "text/plain": [
       "[3]"
      ]
     },
     "execution_count": 21,
     "metadata": {},
     "output_type": "execute_result"
    }
   ],
   "source": [
    "l[2:4:2]"
   ]
  },
  {
   "cell_type": "code",
   "execution_count": 22,
   "id": "21741a88-8356-437b-bebb-8158371da96b",
   "metadata": {},
   "outputs": [
    {
     "data": {
      "text/plain": [
       "[5, True, 'sayed', 3, 2, 1]"
      ]
     },
     "execution_count": 22,
     "metadata": {},
     "output_type": "execute_result"
    }
   ],
   "source": [
    "l[::-1] # reverse list items"
   ]
  },
  {
   "cell_type": "code",
   "execution_count": 23,
   "id": "0ee2d781-2d57-43ea-8a0a-126d9396ea10",
   "metadata": {},
   "outputs": [
    {
     "data": {
      "text/plain": [
       "[]"
      ]
     },
     "execution_count": 23,
     "metadata": {},
     "output_type": "execute_result"
    }
   ],
   "source": [
    "l[-2:4]"
   ]
  },
  {
   "cell_type": "code",
   "execution_count": 24,
   "id": "2085d5cb-1ab5-4b76-a4ec-0d589d43bdfb",
   "metadata": {},
   "outputs": [
    {
     "data": {
      "text/plain": [
       "[5, 'sayed', 2]"
      ]
     },
     "execution_count": 24,
     "metadata": {},
     "output_type": "execute_result"
    }
   ],
   "source": [
    "l[::-2]"
   ]
  },
  {
   "cell_type": "code",
   "execution_count": null,
   "id": "05377378-5520-4a1c-8b9b-0fc0c09a9137",
   "metadata": {},
   "outputs": [],
   "source": []
  },
  {
   "cell_type": "code",
   "execution_count": null,
   "id": "6f69fef6-256c-497e-b09f-4923d14d1a72",
   "metadata": {},
   "outputs": [],
   "source": []
  },
  {
   "cell_type": "code",
   "execution_count": null,
   "id": "f38a42f1-9221-4808-b5a8-4ccb8346855b",
   "metadata": {},
   "outputs": [],
   "source": []
  }
 ],
 "metadata": {
  "kernelspec": {
   "display_name": "Python 3 (ipykernel)",
   "language": "python",
   "name": "python3"
  },
  "language_info": {
   "codemirror_mode": {
    "name": "ipython",
    "version": 3
   },
   "file_extension": ".py",
   "mimetype": "text/x-python",
   "name": "python",
   "nbconvert_exporter": "python",
   "pygments_lexer": "ipython3",
   "version": "3.13.5"
  }
 },
 "nbformat": 4,
 "nbformat_minor": 5
}
