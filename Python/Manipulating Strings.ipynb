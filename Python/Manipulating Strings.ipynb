{
 "cells": [
  {
   "cell_type": "markdown",
   "id": "057d2f25-9016-4157-8357-8d66a547b786",
   "metadata": {},
   "source": [
    "Manipuating strings"
   ]
  },
  {
   "cell_type": "code",
   "execution_count": 1,
   "id": "aecf3900-2a37-4645-85ef-f5d398d6ee9e",
   "metadata": {},
   "outputs": [
    {
     "name": "stdout",
     "output_type": "stream",
     "text": [
      "hello \n",
      " how are uhhh \n"
     ]
    }
   ],
   "source": [
    "print(\"hello \\n how are uhhh \") # \\nfor new line"
   ]
  },
  {
   "cell_type": "code",
   "execution_count": 2,
   "id": "24de678a-2930-48f0-ab7c-3e341cf9566c",
   "metadata": {},
   "outputs": [
    {
     "name": "stdout",
     "output_type": "stream",
     "text": [
      " it' okk\n"
     ]
    }
   ],
   "source": [
    "print( \" it\\' okk\")"
   ]
  },
  {
   "cell_type": "code",
   "execution_count": 3,
   "id": "bb8ca64b-5ead-4ccb-93f3-f3a250fd3d90",
   "metadata": {},
   "outputs": [
    {
     "name": "stdout",
     "output_type": "stream",
     "text": [
      "hello\n"
     ]
    }
   ],
   "source": [
    "print( \"helloo\\b\" ) # \\b for backspace"
   ]
  },
  {
   "cell_type": "code",
   "execution_count": 4,
   "id": "0a5dbe7c-97ab-4c50-a79f-b0f36726e4b6",
   "metadata": {},
   "outputs": [
    {
     "name": "stdout",
     "output_type": "stream",
     "text": [
      " it\"s ok \n"
     ]
    }
   ],
   "source": [
    "print( ' it\\\"s ok ')"
   ]
  },
  {
   "cell_type": "code",
   "execution_count": 5,
   "id": "cffcdb44-d633-432f-adaa-8eee57e0947c",
   "metadata": {},
   "outputs": [
    {
     "name": "stdout",
     "output_type": "stream",
     "text": [
      "hello\tworld\n"
     ]
    }
   ],
   "source": [
    "\n",
    "print(\"hello\\tworld\")"
   ]
  },
  {
   "cell_type": "code",
   "execution_count": 6,
   "id": "d1d50165-4aa1-461c-931d-9784d0a4b9e8",
   "metadata": {},
   "outputs": [
    {
     "name": "stdout",
     "output_type": "stream",
     "text": [
      " world\n"
     ]
    }
   ],
   "source": [
    "print(\" hello\\r world\")"
   ]
  },
  {
   "cell_type": "markdown",
   "id": "4099ca49-e9a7-4ea7-be31-01fa0cb4af71",
   "metadata": {},
   "source": [
    "Raw Strings"
   ]
  },
  {
   "cell_type": "code",
   "execution_count": 7,
   "id": "5f93337a-197b-4bbd-9c23-1f71baa26b28",
   "metadata": {},
   "outputs": [
    {
     "name": "stdout",
     "output_type": "stream",
     "text": [
      "hello \\n how are you \\n bye \n"
     ]
    }
   ],
   "source": [
    "print(r\"hello \\n how are you \\n bye \")"
   ]
  },
  {
   "cell_type": "markdown",
   "id": "bdcf5690-0057-4260-816e-f49ed4ce7f40",
   "metadata": {},
   "source": [
    "Multiline String"
   ]
  },
  {
   "cell_type": "code",
   "execution_count": 8,
   "id": "7fa6ed8d-414b-4d29-805c-56e3f1c302d6",
   "metadata": {},
   "outputs": [
    {
     "name": "stdout",
     "output_type": "stream",
     "text": [
      " hello \n",
      "how are you guys,\n",
      "my name is rehan.\n",
      "This is multiline string.\n"
     ]
    }
   ],
   "source": [
    "print(''' hello \n",
    "how are you guys,\n",
    "my name is rehan.\n",
    "This is multiline string.''')"
   ]
  },
  {
   "cell_type": "code",
   "execution_count": 9,
   "id": "b03bf6fe-134f-4d6f-aa50-a1bf485a4e80",
   "metadata": {},
   "outputs": [],
   "source": [
    "name=\"sayedur\""
   ]
  },
  {
   "cell_type": "code",
   "execution_count": 10,
   "id": "d8e06713-b127-4073-adf7-01bcea6718b0",
   "metadata": {},
   "outputs": [
    {
     "data": {
      "text/plain": [
       "'sayedur'"
      ]
     },
     "execution_count": 10,
     "metadata": {},
     "output_type": "execute_result"
    }
   ],
   "source": [
    "name"
   ]
  },
  {
   "cell_type": "code",
   "execution_count": 11,
   "id": "7042a4b9-0671-4dea-a157-4b127a293fe9",
   "metadata": {},
   "outputs": [
    {
     "data": {
      "text/plain": [
       "'s'"
      ]
     },
     "execution_count": 11,
     "metadata": {},
     "output_type": "execute_result"
    }
   ],
   "source": [
    "name[0]"
   ]
  },
  {
   "cell_type": "code",
   "execution_count": 12,
   "id": "0878935b-b5a6-471c-bbb2-95debae58222",
   "metadata": {},
   "outputs": [
    {
     "data": {
      "text/plain": [
       "'r'"
      ]
     },
     "execution_count": 12,
     "metadata": {},
     "output_type": "execute_result"
    }
   ],
   "source": [
    "name[-1]"
   ]
  },
  {
   "cell_type": "code",
   "execution_count": 13,
   "id": "df904819-8026-48b1-8044-198c7e89084d",
   "metadata": {},
   "outputs": [
    {
     "data": {
      "text/plain": [
       "'say'"
      ]
     },
     "execution_count": 13,
     "metadata": {},
     "output_type": "execute_result"
    }
   ],
   "source": [
    "name[0:3]"
   ]
  },
  {
   "cell_type": "code",
   "execution_count": 14,
   "id": "3f46454b-3776-42aa-ba1c-245911db112a",
   "metadata": {},
   "outputs": [
    {
     "data": {
      "text/plain": [
       "'sayed'"
      ]
     },
     "execution_count": 14,
     "metadata": {},
     "output_type": "execute_result"
    }
   ],
   "source": [
    "name[0:5]"
   ]
  },
  {
   "cell_type": "code",
   "execution_count": 15,
   "id": "cd24dbac-1349-483d-9bbb-0bc79409fecf",
   "metadata": {},
   "outputs": [
    {
     "data": {
      "text/plain": [
       "'rudeyas'"
      ]
     },
     "execution_count": 15,
     "metadata": {},
     "output_type": "execute_result"
    }
   ],
   "source": [
    "name[::-1] #reverse string"
   ]
  },
  {
   "cell_type": "code",
   "execution_count": 16,
   "id": "1d4446c2-3a1f-4d4b-a0c2-3f025c9354f8",
   "metadata": {},
   "outputs": [],
   "source": [
    "a=\"fine\""
   ]
  },
  {
   "cell_type": "code",
   "execution_count": 17,
   "id": "150a5e57-a748-4268-8e67-dca8a1a836a8",
   "metadata": {},
   "outputs": [
    {
     "ename": "TypeError",
     "evalue": "'str' object does not support item assignment",
     "output_type": "error",
     "traceback": [
      "\u001b[1;31m---------------------------------------------------------------------------\u001b[0m",
      "\u001b[1;31mTypeError\u001b[0m                                 Traceback (most recent call last)",
      "Cell \u001b[1;32mIn[17], line 1\u001b[0m\n\u001b[1;32m----> 1\u001b[0m a[\u001b[38;5;241m0\u001b[39m]\u001b[38;5;241m=\u001b[39m\u001b[38;5;124m\"\u001b[39m\u001b[38;5;124md\u001b[39m\u001b[38;5;124m\"\u001b[39m\n",
      "\u001b[1;31mTypeError\u001b[0m: 'str' object does not support item assignment"
     ]
    }
   ],
   "source": [
    "a[0]=\"d\" #if you want to change fine into dine and try this way it show you a error"
   ]
  },
  {
   "cell_type": "code",
   "execution_count": 18,
   "id": "63cc76ce-4751-478e-ad66-9cdf8e3f2ea4",
   "metadata": {},
   "outputs": [],
   "source": [
    "#Logic for change fine into dine"
   ]
  },
  {
   "cell_type": "code",
   "execution_count": 19,
   "id": "2d134b9f-bdf7-47ab-a4bf-b3c5a8ecdb9e",
   "metadata": {},
   "outputs": [
    {
     "data": {
      "text/plain": [
       "'ine'"
      ]
     },
     "execution_count": 19,
     "metadata": {},
     "output_type": "execute_result"
    }
   ],
   "source": [
    "a[1:]"
   ]
  },
  {
   "cell_type": "code",
   "execution_count": 20,
   "id": "5ebb3575-20c0-4964-b8b7-6bbcfe4aaec7",
   "metadata": {},
   "outputs": [
    {
     "data": {
      "text/plain": [
       "'dine'"
      ]
     },
     "execution_count": 20,
     "metadata": {},
     "output_type": "execute_result"
    }
   ],
   "source": [
    "\"d\" + a[1:]"
   ]
  },
  {
   "cell_type": "code",
   "execution_count": 21,
   "id": "bd6a27b4-a589-4171-9d69-26c56ff2c888",
   "metadata": {},
   "outputs": [],
   "source": [
    "#in or not in"
   ]
  },
  {
   "cell_type": "code",
   "execution_count": 22,
   "id": "16939e1c-dca9-4717-8571-eb290b13b6f9",
   "metadata": {},
   "outputs": [
    {
     "data": {
      "text/plain": [
       "True"
      ]
     },
     "execution_count": 22,
     "metadata": {},
     "output_type": "execute_result"
    }
   ],
   "source": [
    "\"hello\"in\"hello world\""
   ]
  },
  {
   "cell_type": "code",
   "execution_count": 23,
   "id": "8dc22f69-e298-4388-8a32-8928b2f4630c",
   "metadata": {},
   "outputs": [
    {
     "data": {
      "text/plain": [
       "False"
      ]
     },
     "execution_count": 23,
     "metadata": {},
     "output_type": "execute_result"
    }
   ],
   "source": [
    "\"hello\" in \" hii world\""
   ]
  },
  {
   "cell_type": "code",
   "execution_count": 24,
   "id": "5227d37c-bb60-4e4c-bcac-9e8ff84dcb70",
   "metadata": {},
   "outputs": [
    {
     "data": {
      "text/plain": [
       "True"
      ]
     },
     "execution_count": 24,
     "metadata": {},
     "output_type": "execute_result"
    }
   ],
   "source": [
    "\"hello\" not in \"hii world\"\n"
   ]
  },
  {
   "cell_type": "code",
   "execution_count": 25,
   "id": "75183664-481a-4797-8231-2ecb2b8562d4",
   "metadata": {},
   "outputs": [
    {
     "data": {
      "text/plain": [
       "'sayedur'"
      ]
     },
     "execution_count": 25,
     "metadata": {},
     "output_type": "execute_result"
    }
   ],
   "source": [
    "name"
   ]
  },
  {
   "cell_type": "code",
   "execution_count": 26,
   "id": "8cdb0665-c3b1-4414-9b5a-a97a5435235c",
   "metadata": {},
   "outputs": [
    {
     "data": {
      "text/plain": [
       "'SAYEDUR'"
      ]
     },
     "execution_count": 26,
     "metadata": {},
     "output_type": "execute_result"
    }
   ],
   "source": [
    "name.upper()"
   ]
  },
  {
   "cell_type": "code",
   "execution_count": 27,
   "id": "4955d349-9609-48cf-9a80-a4a00e9469d6",
   "metadata": {},
   "outputs": [
    {
     "data": {
      "text/plain": [
       "'sayedur'"
      ]
     },
     "execution_count": 27,
     "metadata": {},
     "output_type": "execute_result"
    }
   ],
   "source": [
    "name.lower()"
   ]
  },
  {
   "cell_type": "code",
   "execution_count": 28,
   "id": "9beefe3b-95b8-4fca-9635-65b0f2889384",
   "metadata": {},
   "outputs": [
    {
     "data": {
      "text/plain": [
       "'Sayedur'"
      ]
     },
     "execution_count": 28,
     "metadata": {},
     "output_type": "execute_result"
    }
   ],
   "source": [
    "name.title()"
   ]
  },
  {
   "cell_type": "code",
   "execution_count": 29,
   "id": "cf2b9ef5-49f9-4fb0-a295-db04573893cf",
   "metadata": {},
   "outputs": [
    {
     "data": {
      "text/plain": [
       "'sayedur'"
      ]
     },
     "execution_count": 29,
     "metadata": {},
     "output_type": "execute_result"
    }
   ],
   "source": [
    "name"
   ]
  },
  {
   "cell_type": "code",
   "execution_count": 30,
   "id": "d9361383-dc8d-478f-b9bb-39d35ea6adae",
   "metadata": {},
   "outputs": [
    {
     "data": {
      "text/plain": [
       "False"
      ]
     },
     "execution_count": 30,
     "metadata": {},
     "output_type": "execute_result"
    }
   ],
   "source": [
    "name.isupper()"
   ]
  },
  {
   "cell_type": "code",
   "execution_count": 31,
   "id": "ac1e165c-3977-4807-b051-f7318122a9e7",
   "metadata": {},
   "outputs": [
    {
     "data": {
      "text/plain": [
       "True"
      ]
     },
     "execution_count": 31,
     "metadata": {},
     "output_type": "execute_result"
    }
   ],
   "source": [
    "name.islower()"
   ]
  },
  {
   "cell_type": "code",
   "execution_count": 32,
   "id": "644eecec-96b1-47d3-a0e3-8d52679541e4",
   "metadata": {},
   "outputs": [
    {
     "data": {
      "text/plain": [
       "'sayedur'"
      ]
     },
     "execution_count": 32,
     "metadata": {},
     "output_type": "execute_result"
    }
   ],
   "source": [
    "name"
   ]
  },
  {
   "cell_type": "code",
   "execution_count": 33,
   "id": "e2e1717d-088c-44cc-b803-2b526b50ee22",
   "metadata": {},
   "outputs": [
    {
     "data": {
      "text/plain": [
       "True"
      ]
     },
     "execution_count": 33,
     "metadata": {},
     "output_type": "execute_result"
    }
   ],
   "source": [
    "name.isalpha()"
   ]
  },
  {
   "cell_type": "code",
   "execution_count": 34,
   "id": "bf1b9094-1254-49e2-bbdd-a5a051460ea4",
   "metadata": {},
   "outputs": [],
   "source": [
    "b=\"abc12\""
   ]
  },
  {
   "cell_type": "code",
   "execution_count": 35,
   "id": "2895035a-20b9-4019-ad25-e36f02c97707",
   "metadata": {},
   "outputs": [
    {
     "data": {
      "text/plain": [
       "'abc12'"
      ]
     },
     "execution_count": 35,
     "metadata": {},
     "output_type": "execute_result"
    }
   ],
   "source": [
    "b"
   ]
  },
  {
   "cell_type": "code",
   "execution_count": 36,
   "id": "de5e1355-6a82-4afb-9bfb-92a3b3a1f92c",
   "metadata": {},
   "outputs": [
    {
     "data": {
      "text/plain": [
       "False"
      ]
     },
     "execution_count": 36,
     "metadata": {},
     "output_type": "execute_result"
    }
   ],
   "source": [
    "b.isalpha() #isalpha()\treturns `True` if the string consists only of letters."
   ]
  },
  {
   "cell_type": "code",
   "execution_count": 37,
   "id": "9b081e97-1092-4584-899d-df2b9bbcca50",
   "metadata": {},
   "outputs": [
    {
     "data": {
      "text/plain": [
       "False"
      ]
     },
     "execution_count": 37,
     "metadata": {},
     "output_type": "execute_result"
    }
   ],
   "source": [
    "b.isnumeric()"
   ]
  },
  {
   "cell_type": "code",
   "execution_count": 38,
   "id": "8604b5a2-c88d-42b9-a1eb-3dc11e966ecd",
   "metadata": {},
   "outputs": [],
   "source": [
    "b=\"123\""
   ]
  },
  {
   "cell_type": "code",
   "execution_count": 39,
   "id": "6a7ad4c5-3d70-4a50-aa8c-4db7e5fb568c",
   "metadata": {},
   "outputs": [
    {
     "data": {
      "text/plain": [
       "'123'"
      ]
     },
     "execution_count": 39,
     "metadata": {},
     "output_type": "execute_result"
    }
   ],
   "source": [
    "b"
   ]
  },
  {
   "cell_type": "code",
   "execution_count": 40,
   "id": "2ec3eddf-3d99-46c8-897a-231c0bb18957",
   "metadata": {},
   "outputs": [
    {
     "data": {
      "text/plain": [
       "True"
      ]
     },
     "execution_count": 40,
     "metadata": {},
     "output_type": "execute_result"
    }
   ],
   "source": [
    "b.isnumeric() #isnumeric()\treturns `True` if the string consists only of letters and numbers."
   ]
  },
  {
   "cell_type": "code",
   "execution_count": 41,
   "id": "9ceab3d9-e0b3-4edb-a18b-21f180dccbc1",
   "metadata": {},
   "outputs": [
    {
     "data": {
      "text/plain": [
       "'sayedur'"
      ]
     },
     "execution_count": 41,
     "metadata": {},
     "output_type": "execute_result"
    }
   ],
   "source": [
    "name"
   ]
  },
  {
   "cell_type": "code",
   "execution_count": 42,
   "id": "2d4f9291-cb86-4d02-b5e3-77805cb6e2b7",
   "metadata": {},
   "outputs": [
    {
     "data": {
      "text/plain": [
       "True"
      ]
     },
     "execution_count": 42,
     "metadata": {},
     "output_type": "execute_result"
    }
   ],
   "source": [
    "name.startswith('s')"
   ]
  },
  {
   "cell_type": "code",
   "execution_count": 43,
   "id": "9c5611b3-e4e3-4416-981c-c60783222db2",
   "metadata": {},
   "outputs": [
    {
     "data": {
      "text/plain": [
       "True"
      ]
     },
     "execution_count": 43,
     "metadata": {},
     "output_type": "execute_result"
    }
   ],
   "source": [
    "name.endswith('r')"
   ]
  },
  {
   "cell_type": "code",
   "execution_count": 44,
   "id": "ded2c7d4-4c2d-4c0a-b7fe-1bf77e8e6bad",
   "metadata": {},
   "outputs": [
    {
     "data": {
      "text/plain": [
       "['my', ' name', ' is', ' sayedur']"
      ]
     },
     "execution_count": 44,
     "metadata": {},
     "output_type": "execute_result"
    }
   ],
   "source": [
    "list1 = ['my',' name',' is',' sayedur']\n",
    "list1"
   ]
  },
  {
   "cell_type": "code",
   "execution_count": 45,
   "id": "3aaf6a7a-d38d-4d45-985f-3e312fec623a",
   "metadata": {},
   "outputs": [
    {
     "data": {
      "text/plain": [
       "'my name is sayedur'"
      ]
     },
     "execution_count": 45,
     "metadata": {},
     "output_type": "execute_result"
    }
   ],
   "source": [
    "''.join(list1) "
   ]
  },
  {
   "cell_type": "code",
   "execution_count": 46,
   "id": "34f0aff9-3d25-484f-bf64-69fe047c8bdd",
   "metadata": {},
   "outputs": [
    {
     "data": {
      "text/plain": [
       "'sayedur'"
      ]
     },
     "execution_count": 46,
     "metadata": {},
     "output_type": "execute_result"
    }
   ],
   "source": [
    "name"
   ]
  },
  {
   "cell_type": "code",
   "execution_count": 47,
   "id": "7a1f0652-97bc-4a60-bcc5-6725915025de",
   "metadata": {},
   "outputs": [
    {
     "data": {
      "text/plain": [
       "['sayedur']"
      ]
     },
     "execution_count": 47,
     "metadata": {},
     "output_type": "execute_result"
    }
   ],
   "source": [
    "name.split()"
   ]
  },
  {
   "cell_type": "code",
   "execution_count": 48,
   "id": "5f5ecae0-867b-4802-b0ef-8a9a9e703d28",
   "metadata": {},
   "outputs": [],
   "source": [
    "#justifying\n"
   ]
  },
  {
   "cell_type": "code",
   "execution_count": 49,
   "id": "8debc276-c0a8-423a-8002-c6dd4fdb376f",
   "metadata": {},
   "outputs": [
    {
     "data": {
      "text/plain": [
       "'sayedur'"
      ]
     },
     "execution_count": 49,
     "metadata": {},
     "output_type": "execute_result"
    }
   ],
   "source": [
    "name"
   ]
  },
  {
   "cell_type": "code",
   "execution_count": 50,
   "id": "38e45284-2e26-4795-a783-72f0f8080deb",
   "metadata": {},
   "outputs": [
    {
     "data": {
      "text/plain": [
       "'   sayedur'"
      ]
     },
     "execution_count": 50,
     "metadata": {},
     "output_type": "execute_result"
    }
   ],
   "source": [
    "name.rjust(10)"
   ]
  },
  {
   "cell_type": "code",
   "execution_count": 51,
   "id": "4a23cd89-2116-46b2-9092-b7fc9eb2824a",
   "metadata": {},
   "outputs": [
    {
     "data": {
      "text/plain": [
       "'*************sayedur'"
      ]
     },
     "execution_count": 51,
     "metadata": {},
     "output_type": "execute_result"
    }
   ],
   "source": [
    "name.rjust(20,'*')"
   ]
  },
  {
   "cell_type": "code",
   "execution_count": 52,
   "id": "b2d7e31e-2a49-409b-86fd-1733f34ba440",
   "metadata": {},
   "outputs": [
    {
     "data": {
      "text/plain": [
       "'sayedur   '"
      ]
     },
     "execution_count": 52,
     "metadata": {},
     "output_type": "execute_result"
    }
   ],
   "source": [
    "name.ljust(10)"
   ]
  },
  {
   "cell_type": "code",
   "execution_count": 53,
   "id": "bec31437-1268-47d3-9aea-10666814cf4c",
   "metadata": {},
   "outputs": [
    {
     "data": {
      "text/plain": [
       "'      sayedur       '"
      ]
     },
     "execution_count": 53,
     "metadata": {},
     "output_type": "execute_result"
    }
   ],
   "source": [
    "name.center(20)"
   ]
  },
  {
   "cell_type": "code",
   "execution_count": 54,
   "id": "f7fea8fd-c385-4274-af9b-8d633d9c8bd3",
   "metadata": {},
   "outputs": [
    {
     "data": {
      "text/plain": [
       "'======sayedur======='"
      ]
     },
     "execution_count": 54,
     "metadata": {},
     "output_type": "execute_result"
    }
   ],
   "source": [
    "name.center(20,'=')"
   ]
  },
  {
   "cell_type": "code",
   "execution_count": 55,
   "id": "02cb6bbe-342f-4b0a-8e2e-cd09c5d477d0",
   "metadata": {},
   "outputs": [],
   "source": [
    "name = '    sayedur   '"
   ]
  },
  {
   "cell_type": "code",
   "execution_count": 56,
   "id": "9dff7c3e-c856-4b9e-a2c3-88827e6cff13",
   "metadata": {},
   "outputs": [
    {
     "data": {
      "text/plain": [
       "'    sayedur   '"
      ]
     },
     "execution_count": 56,
     "metadata": {},
     "output_type": "execute_result"
    }
   ],
   "source": [
    "name"
   ]
  },
  {
   "cell_type": "code",
   "execution_count": 57,
   "id": "a3c4d3c5-235b-4361-a719-4b74fb19350d",
   "metadata": {},
   "outputs": [
    {
     "data": {
      "text/plain": [
       "'    sayedur'"
      ]
     },
     "execution_count": 57,
     "metadata": {},
     "output_type": "execute_result"
    }
   ],
   "source": [
    "name.rstrip()"
   ]
  },
  {
   "cell_type": "code",
   "execution_count": 58,
   "id": "1430a9c6-2db6-4307-a263-f99ec58098cc",
   "metadata": {},
   "outputs": [
    {
     "data": {
      "text/plain": [
       "'    sayedur'"
      ]
     },
     "execution_count": 58,
     "metadata": {},
     "output_type": "execute_result"
    }
   ],
   "source": [
    "'    sayedur'"
   ]
  },
  {
   "cell_type": "code",
   "execution_count": 59,
   "id": "d1658529-9c1c-4d3b-8f42-1ce70953d820",
   "metadata": {},
   "outputs": [
    {
     "data": {
      "text/plain": [
       "'sayedur   '"
      ]
     },
     "execution_count": 59,
     "metadata": {},
     "output_type": "execute_result"
    }
   ],
   "source": [
    "name.lstrip()"
   ]
  },
  {
   "cell_type": "code",
   "execution_count": 60,
   "id": "b790aa79-f6e8-4c54-b38c-81da1753957e",
   "metadata": {},
   "outputs": [
    {
     "data": {
      "text/plain": [
       "'sayedur'"
      ]
     },
     "execution_count": 60,
     "metadata": {},
     "output_type": "execute_result"
    }
   ],
   "source": [
    "name.strip()\n"
   ]
  },
  {
   "cell_type": "code",
   "execution_count": 61,
   "id": "5f5bd184-cac1-4193-ade8-dea8d47514dd",
   "metadata": {},
   "outputs": [
    {
     "data": {
      "text/plain": [
       "' hello guys my name is sayeduuu '"
      ]
     },
     "execution_count": 61,
     "metadata": {},
     "output_type": "execute_result"
    }
   ],
   "source": [
    "str = \" hello guys my name is sayeduuu \"\n",
    "str\n"
   ]
  },
  {
   "cell_type": "code",
   "execution_count": 62,
   "id": "80605c7c-ffb4-42d0-af7e-ce044c9790b3",
   "metadata": {},
   "outputs": [
    {
     "data": {
      "text/plain": [
       "3"
      ]
     },
     "execution_count": 62,
     "metadata": {},
     "output_type": "execute_result"
    }
   ],
   "source": [
    "str.count('e')"
   ]
  },
  {
   "cell_type": "code",
   "execution_count": 63,
   "id": "718706a0-67a3-4769-b9a2-0fa6f20f1b60",
   "metadata": {},
   "outputs": [
    {
     "data": {
      "text/plain": [
       "32"
      ]
     },
     "execution_count": 63,
     "metadata": {},
     "output_type": "execute_result"
    }
   ],
   "source": [
    "len(str)"
   ]
  },
  {
   "cell_type": "code",
   "execution_count": 64,
   "id": "087bbb3a-1c9d-402d-89e2-3d36ef250562",
   "metadata": {},
   "outputs": [
    {
     "data": {
      "text/plain": [
       "' hello guys my name is sayeduuu '"
      ]
     },
     "execution_count": 64,
     "metadata": {},
     "output_type": "execute_result"
    }
   ],
   "source": [
    "str"
   ]
  },
  {
   "cell_type": "code",
   "execution_count": 65,
   "id": "e6f960bd-8aea-4215-8027-56cebcdd198a",
   "metadata": {},
   "outputs": [
    {
     "data": {
      "text/plain": [
       "' hello bro my name is sayeduuu '"
      ]
     },
     "execution_count": 65,
     "metadata": {},
     "output_type": "execute_result"
    }
   ],
   "source": [
    "str.replace(\"guys\",\"bro\")"
   ]
  },
  {
   "cell_type": "code",
   "execution_count": 66,
   "id": "2222676f-492d-4c7b-aebf-16647040ec71",
   "metadata": {},
   "outputs": [
    {
     "data": {
      "text/plain": [
       "'    sayedur   '"
      ]
     },
     "execution_count": 66,
     "metadata": {},
     "output_type": "execute_result"
    }
   ],
   "source": [
    "name"
   ]
  },
  {
   "cell_type": "code",
   "execution_count": 67,
   "id": "5fecc941-be7f-4d0f-8fd3-eb4257043227",
   "metadata": {},
   "outputs": [
    {
     "data": {
      "text/plain": [
       "'    sayedur   '"
      ]
     },
     "execution_count": 67,
     "metadata": {},
     "output_type": "execute_result"
    }
   ],
   "source": [
    "name.capitalize()"
   ]
  },
  {
   "cell_type": "code",
   "execution_count": 68,
   "id": "684400ce-4d67-4f58-9e33-6474a3708ece",
   "metadata": {},
   "outputs": [
    {
     "data": {
      "text/plain": [
       "' HELLO '"
      ]
     },
     "execution_count": 68,
     "metadata": {},
     "output_type": "execute_result"
    }
   ],
   "source": [
    "x = ' HELLO '\n",
    "x"
   ]
  },
  {
   "cell_type": "code",
   "execution_count": 69,
   "id": "f2ffdc15-009a-4808-948a-6916d5f65b03",
   "metadata": {},
   "outputs": [
    {
     "data": {
      "text/plain": [
       "' hello '"
      ]
     },
     "execution_count": 69,
     "metadata": {},
     "output_type": "execute_result"
    }
   ],
   "source": [
    "x.lower()\n"
   ]
  },
  {
   "cell_type": "code",
   "execution_count": 70,
   "id": "2cdac492-34c5-41b4-b904-0a7ebf646d14",
   "metadata": {},
   "outputs": [
    {
     "data": {
      "text/plain": [
       "' HELLO '"
      ]
     },
     "execution_count": 70,
     "metadata": {},
     "output_type": "execute_result"
    }
   ],
   "source": [
    "x"
   ]
  },
  {
   "cell_type": "code",
   "execution_count": 71,
   "id": "e5bcdb72-b7b0-4c19-830a-dd08f7dd21b0",
   "metadata": {},
   "outputs": [
    {
     "data": {
      "text/plain": [
       "' hello '"
      ]
     },
     "execution_count": 71,
     "metadata": {},
     "output_type": "execute_result"
    }
   ],
   "source": [
    "\n",
    "x.swapcase()"
   ]
  },
  {
   "cell_type": "code",
   "execution_count": 72,
   "id": "2c616d68-279e-4d8d-8241-de608167e3e9",
   "metadata": {},
   "outputs": [],
   "source": [
    "\n",
    "#concat\n"
   ]
  },
  {
   "cell_type": "code",
   "execution_count": 73,
   "id": "3d02c37c-0ae2-4aef-95bb-c8a0e3c2cc0f",
   "metadata": {},
   "outputs": [
    {
     "data": {
      "text/plain": [
       "'hellosayeduuu'"
      ]
     },
     "execution_count": 73,
     "metadata": {},
     "output_type": "execute_result"
    }
   ],
   "source": [
    "'hello' + 'sayeduuu'"
   ]
  },
  {
   "cell_type": "code",
   "execution_count": 74,
   "id": "163c8b92-cdab-4444-bce0-14a08e458512",
   "metadata": {},
   "outputs": [
    {
     "data": {
      "text/plain": [
       "' HELLO '"
      ]
     },
     "execution_count": 74,
     "metadata": {},
     "output_type": "execute_result"
    }
   ],
   "source": [
    "x"
   ]
  },
  {
   "cell_type": "code",
   "execution_count": 75,
   "id": "4c5c6bb4-6b76-4bbd-9955-ef5c446f3f21",
   "metadata": {},
   "outputs": [
    {
     "data": {
      "text/plain": [
       "'1 HELLO 2 HELLO 3 HELLO 4'"
      ]
     },
     "execution_count": 75,
     "metadata": {},
     "output_type": "execute_result"
    }
   ],
   "source": [
    "x.join('1234')"
   ]
  },
  {
   "cell_type": "code",
   "execution_count": 76,
   "id": "6e900ad1-d25d-4c4e-8d42-6d5106c23e12",
   "metadata": {},
   "outputs": [
    {
     "data": {
      "text/plain": [
       "' HELLO '"
      ]
     },
     "execution_count": 76,
     "metadata": {},
     "output_type": "execute_result"
    }
   ],
   "source": [
    "x"
   ]
  },
  {
   "cell_type": "code",
   "execution_count": 77,
   "id": "19fdb608-1fe8-4e16-9aea-b84121321022",
   "metadata": {},
   "outputs": [],
   "source": [
    "str=\"Hello guys how are uhhh??\""
   ]
  },
  {
   "cell_type": "code",
   "execution_count": 78,
   "id": "5200f65a-ed64-4b81-ad81-9da2e095460f",
   "metadata": {},
   "outputs": [
    {
     "data": {
      "text/plain": [
       "'Hello guys how are uhhh??'"
      ]
     },
     "execution_count": 78,
     "metadata": {},
     "output_type": "execute_result"
    }
   ],
   "source": [
    "str"
   ]
  },
  {
   "cell_type": "code",
   "execution_count": null,
   "id": "529db824-883d-4f27-b9c9-580138706e18",
   "metadata": {},
   "outputs": [],
   "source": []
  },
  {
   "cell_type": "code",
   "execution_count": null,
   "id": "93c29d80-ce26-4532-884c-17be3c0cf2fe",
   "metadata": {},
   "outputs": [],
   "source": []
  },
  {
   "cell_type": "code",
   "execution_count": null,
   "id": "eb975ad7-22ff-4977-83af-641d77f3a48b",
   "metadata": {},
   "outputs": [],
   "source": []
  }
 ],
 "metadata": {
  "kernelspec": {
   "display_name": "Python 3 (ipykernel)",
   "language": "python",
   "name": "python3"
  },
  "language_info": {
   "codemirror_mode": {
    "name": "ipython",
    "version": 3
   },
   "file_extension": ".py",
   "mimetype": "text/x-python",
   "name": "python",
   "nbconvert_exporter": "python",
   "pygments_lexer": "ipython3",
   "version": "3.13.5"
  }
 },
 "nbformat": 4,
 "nbformat_minor": 5
}
