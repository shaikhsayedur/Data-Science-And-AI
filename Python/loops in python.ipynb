{
 "cells": [
  {
   "cell_type": "code",
   "execution_count": 1,
   "id": "77ec4771-f68b-494d-888d-1e33008aa5fd",
   "metadata": {},
   "outputs": [
    {
     "name": "stdout",
     "output_type": "stream",
     "text": [
      "15\n",
      "30\n",
      "40\n"
     ]
    }
   ],
   "source": [
    "nums=[22,15,18,21,26,30,40]\n",
    "for num in nums:\n",
    "    if num % 5 == 0:\n",
    "        print(num)"
   ]
  },
  {
   "cell_type": "code",
   "execution_count": 2,
   "id": "3f97dd26-b7ad-4c36-9494-8f6f6f2b9fa8",
   "metadata": {},
   "outputs": [
    {
     "name": "stdout",
     "output_type": "stream",
     "text": [
      "25\n",
      "30\n",
      "35\n"
     ]
    }
   ],
   "source": [
    "nums = [12,14,18,21,25,30,35]\n",
    "\n",
    "for num in nums:\n",
    "    if num % 5 == 0:\n",
    "        print(num)  "
   ]
  },
  {
   "cell_type": "code",
   "execution_count": 3,
   "id": "7fcd5dd4-0542-49a9-acde-9aefcb0e599b",
   "metadata": {},
   "outputs": [
    {
     "name": "stdout",
     "output_type": "stream",
     "text": [
      "25\n",
      "20\n"
     ]
    }
   ],
   "source": [
    "nums = [12,14,18,21,25,20]\n",
    "\n",
    "for num in nums:\n",
    "    if num % 5 == 0:\n",
    "        print(num)  "
   ]
  },
  {
   "cell_type": "code",
   "execution_count": 4,
   "id": "1bc9faae-be1a-4181-af4c-b6b23aeb3820",
   "metadata": {},
   "outputs": [
    {
     "name": "stdout",
     "output_type": "stream",
     "text": [
      "20\n"
     ]
    }
   ],
   "source": [
    "nums = [12,14,18,21,20,25]\n",
    "\n",
    "for num in nums:\n",
    "    if num % 5 == 0:\n",
    "        print(num)  \n",
    "        break"
   ]
  },
  {
   "cell_type": "code",
   "execution_count": 5,
   "id": "6f15e89f-983c-482b-8f5f-26428f2794c4",
   "metadata": {},
   "outputs": [
    {
     "name": "stdout",
     "output_type": "stream",
     "text": [
      "10\n"
     ]
    }
   ],
   "source": [
    "nums = [10,14,18,21,5,10]\n",
    "\n",
    "for num in nums:\n",
    "    if num % 5 == 0:\n",
    "        print(num)  \n",
    "        break #it will print only 1 number then it break        "
   ]
  },
  {
   "cell_type": "code",
   "execution_count": 6,
   "id": "49e8ec0b-dc79-4bad-8eba-6bd0b0df3ede",
   "metadata": {},
   "outputs": [],
   "source": [
    "nums = [7,14,18,21,23,27] #hear there is no number which is divisible by 5 we got output as blank\n",
    "\n",
    "for num in nums:\n",
    "    if num % 5 == 0:\n",
    "        print(num)  \n",
    "        break"
   ]
  },
  {
   "cell_type": "code",
   "execution_count": 7,
   "id": "e1854b54-1fd6-4347-be51-2792ccce1496",
   "metadata": {},
   "outputs": [
    {
     "name": "stdout",
     "output_type": "stream",
     "text": [
      "Number nhi mila bhaiiii \n",
      "Number nhi mila bhaiiii \n",
      "Number nhi mila bhaiiii \n",
      "Number nhi mila bhaiiii \n",
      "Number nhi mila bhaiiii \n",
      "Number nhi mila bhaiiii \n",
      "Number nhi mila bhaiiii \n"
     ]
    }
   ],
   "source": [
    "nums = [7,14,18,21,23,27,29] #hear there is no number which is divisible by 5 we got output as blank\n",
    "\n",
    "for num in nums:\n",
    "    if num % 5 == 0:\n",
    "        print(num)  \n",
    "        break\n",
    "    else:\n",
    "        print('Number nhi mila bhaiiii ') #every iteration it cheking condition        "
   ]
  },
  {
   "cell_type": "code",
   "execution_count": 8,
   "id": "5543afcd-1e2f-458e-8115-d0750755342d",
   "metadata": {},
   "outputs": [
    {
     "name": "stdout",
     "output_type": "stream",
     "text": [
      "Number nhi mila\n",
      "Number nhi mila\n"
     ]
    }
   ],
   "source": [
    "nums = [7,14] #hear there is no number which is divisible by 5 we got output as blank\n",
    "for num in nums:\n",
    "    if num % 5 == 0:\n",
    "        print(num)  \n",
    "        break\n",
    "    else:\n",
    "        print('Number nhi mila') #every iteration it cheking condition        "
   ]
  },
  {
   "cell_type": "code",
   "execution_count": 9,
   "id": "22da9daa-27df-41b2-834e-ba40c142f4c6",
   "metadata": {},
   "outputs": [
    {
     "name": "stdout",
     "output_type": "stream",
     "text": [
      "Number Not Found\n"
     ]
    }
   ],
   "source": [
    "nums = [7,14,18,21,23,27] #hear there is no number which is divisible by 5 we got output as blank\n",
    "\n",
    "for num in nums:\n",
    "    if num % 5 == 0:\n",
    "        print(num)  \n",
    "        break\n",
    "else:\n",
    "        print('Number Not Found') # hear else we dont write in if block but we can write in for block only"
   ]
  },
  {
   "cell_type": "code",
   "execution_count": 10,
   "id": "a144b375-0a3b-476f-8926-c8aa023d57f3",
   "metadata": {},
   "outputs": [
    {
     "name": "stdout",
     "output_type": "stream",
     "text": [
      "10\n"
     ]
    }
   ],
   "source": [
    "nums = [10,14,18,21,20,27] #hear there is no number which is divisible by 5 we got output as blank\n",
    "\n",
    "for num in nums:\n",
    "    if num % 5 == 0:\n",
    "        print(num)  \n",
    "        break\n",
    "else:\n",
    "        print('Not Found')"
   ]
  },
  {
   "cell_type": "code",
   "execution_count": 11,
   "id": "f0157ddc-fa75-419e-be3d-d5a301cf996f",
   "metadata": {},
   "outputs": [
    {
     "name": "stdout",
     "output_type": "stream",
     "text": [
      "10\n",
      "20\n",
      "30\n",
      "Not Found\n"
     ]
    }
   ],
   "source": [
    "nums = [10,14,18,21,20,27,30] #hear there is no number which is divisible by 5 we got output as blank\n",
    "\n",
    "for num in nums:\n",
    "    if num % 5 == 0:\n",
    "        print(num)  \n",
    "        #break\n",
    "else:\n",
    "        print('Not Found')"
   ]
  },
  {
   "cell_type": "code",
   "execution_count": 12,
   "id": "37ff8917-2219-4296-b053-64f767d7a55d",
   "metadata": {},
   "outputs": [
    {
     "name": "stdout",
     "output_type": "stream",
     "text": [
      "10\n"
     ]
    }
   ],
   "source": [
    "nums = [10,14,18,21,20,27] #hear there is no number which is divisible by 5 we got output as blank\n",
    "for num in nums:\n",
    "    if num % 5 == 0:\n",
    "        print(num)  \n",
    "        break\n",
    "else:\n",
    "        print('Not Found')"
   ]
  },
  {
   "cell_type": "markdown",
   "id": "ed1d014b-9508-4d09-9126-a6be949b9fb0",
   "metadata": {},
   "source": [
    "# Prime number"
   ]
  },
  {
   "cell_type": "code",
   "execution_count": 13,
   "id": "edf931da-7a68-46bb-a190-748c8ebb87fa",
   "metadata": {},
   "outputs": [
    {
     "name": "stdout",
     "output_type": "stream",
     "text": [
      "Not prime Number\n"
     ]
    }
   ],
   "source": [
    "num = 14\n",
    "\n",
    "for i in range(2,num):\n",
    "    if num % i == 0:\n",
    "        print('Not prime Number')\n",
    "        break\n",
    "else:\n",
    "    print('Prime Number')"
   ]
  },
  {
   "cell_type": "code",
   "execution_count": 14,
   "id": "5a70de56-0d42-486b-bc43-1cc684d31eee",
   "metadata": {},
   "outputs": [
    {
     "name": "stdout",
     "output_type": "stream",
     "text": [
      "Prime Number\n"
     ]
    }
   ],
   "source": [
    "num = 13\n",
    "\n",
    "for i in range(2,num):\n",
    "    if num % i == 0:\n",
    "        print('Not prime Number')\n",
    "        break\n",
    "else:\n",
    "    print('Prime Number')"
   ]
  },
  {
   "cell_type": "markdown",
   "id": "20b65371-81aa-4dc1-9ec2-17a5f77daa6c",
   "metadata": {},
   "source": [
    "# Array in python"
   ]
  },
  {
   "cell_type": "code",
   "execution_count": 15,
   "id": "82fed354-50eb-4a24-a5a9-0977e3cd6194",
   "metadata": {},
   "outputs": [
    {
     "name": "stdin",
     "output_type": "stream",
     "text": [
      "Enter the length of the array 5\n",
      "Enter the next value 2\n",
      "Enter the next value 1\n",
      "Enter the next value 4\n",
      "Enter the next value 3\n",
      "Enter the next value 9\n"
     ]
    },
    {
     "name": "stdout",
     "output_type": "stream",
     "text": [
      "array('i', [2, 1, 4, 3, 9])\n"
     ]
    }
   ],
   "source": [
    "from array import * \n",
    "arr = array('i',[])\n",
    "\n",
    "n = int(input('Enter the length of the array'))\n",
    "\n",
    "for i in range(5):\n",
    "    x = int(input('Enter the next value'))\n",
    "    arr.append(x)\n",
    "print(arr)"
   ]
  },
  {
   "cell_type": "code",
   "execution_count": 18,
   "id": "71075748-46a7-46c6-a7fc-6eaa88d88991",
   "metadata": {},
   "outputs": [
    {
     "name": "stdin",
     "output_type": "stream",
     "text": [
      "Enter the length of the array 1\n",
      "Enter the next value 2\n",
      "Enter the next value 3\n",
      "Enter the next value 4\n",
      "Enter the next value 2\n",
      "Enter the next value 3\n"
     ]
    },
    {
     "name": "stdout",
     "output_type": "stream",
     "text": [
      "array('i', [2, 3, 4, 2, 3])\n"
     ]
    }
   ],
   "source": [
    "from array import * \n",
    "arr = array('i',[])\n",
    "\n",
    "n = int(input('Enter the length of the array'))\n",
    "\n",
    "for i in range(5):\n",
    "    x = int(input('Enter the next value'))\n",
    "    arr.append(x)\n",
    "print(arr)"
   ]
  },
  {
   "cell_type": "code",
   "execution_count": 19,
   "id": "03c3ebb1-e8c7-4dc0-bc8d-c7dbd699f652",
   "metadata": {},
   "outputs": [
    {
     "name": "stdin",
     "output_type": "stream",
     "text": [
      "Enter the length of the array 2\n",
      "Enter the next value 1\n"
     ]
    },
    {
     "ename": "TypeError",
     "evalue": "'str' object cannot be interpreted as an integer",
     "output_type": "error",
     "traceback": [
      "\u001b[1;31m---------------------------------------------------------------------------\u001b[0m",
      "\u001b[1;31mTypeError\u001b[0m                                 Traceback (most recent call last)",
      "Cell \u001b[1;32mIn[19], line 8\u001b[0m\n\u001b[0;32m      6\u001b[0m \u001b[38;5;28;01mfor\u001b[39;00m i \u001b[38;5;129;01min\u001b[39;00m \u001b[38;5;28mrange\u001b[39m(\u001b[38;5;241m5\u001b[39m):\n\u001b[0;32m      7\u001b[0m     x \u001b[38;5;241m=\u001b[39m \u001b[38;5;28minput\u001b[39m(\u001b[38;5;124m'\u001b[39m\u001b[38;5;124mEnter the next value\u001b[39m\u001b[38;5;124m'\u001b[39m)\n\u001b[1;32m----> 8\u001b[0m     arr\u001b[38;5;241m.\u001b[39mappend(x)\n\u001b[0;32m      9\u001b[0m \u001b[38;5;28mprint\u001b[39m(arr)\n",
      "\u001b[1;31mTypeError\u001b[0m: 'str' object cannot be interpreted as an integer"
     ]
    }
   ],
   "source": [
    "from array import * \n",
    "arr = array('i',[])\n",
    "\n",
    "n = input('Enter the length of the array')\n",
    "\n",
    "for i in range(5):\n",
    "    x = input('Enter the next value')\n",
    "    arr.append(x)\n",
    "print(arr)"
   ]
  },
  {
   "cell_type": "markdown",
   "id": "eb4b955b-6979-4470-b26c-a00e83432d0f",
   "metadata": {},
   "source": [
    "# Way to creating aeeay using numpy"
   ]
  },
  {
   "cell_type": "code",
   "execution_count": 20,
   "id": "2fe00c28-a724-4af3-9ea4-fbecfe07c533",
   "metadata": {},
   "outputs": [
    {
     "name": "stdout",
     "output_type": "stream",
     "text": [
      "[1 2 3 4 5]\n"
     ]
    },
    {
     "data": {
      "text/plain": [
       "numpy.ndarray"
      ]
     },
     "execution_count": 20,
     "metadata": {},
     "output_type": "execute_result"
    }
   ],
   "source": [
    "from numpy import *\n",
    "arr = array([1,2,3,4,5])\n",
    "print(arr)\n",
    "type(arr)"
   ]
  },
  {
   "cell_type": "code",
   "execution_count": 21,
   "id": "16acbca1-3359-4a6c-bff8-ee36f6676b21",
   "metadata": {},
   "outputs": [
    {
     "name": "stdout",
     "output_type": "stream",
     "text": [
      "int64\n"
     ]
    }
   ],
   "source": [
    "print(arr.dtype)"
   ]
  },
  {
   "cell_type": "code",
   "execution_count": 22,
   "id": "5614079e-0eea-4977-aca6-1f04eb6baff1",
   "metadata": {},
   "outputs": [
    {
     "name": "stdout",
     "output_type": "stream",
     "text": [
      "[1.  2.  3.  4.  5.9]\n"
     ]
    }
   ],
   "source": [
    "arr = array([1,2,3,4,5.9])\n",
    "print(arr)"
   ]
  },
  {
   "cell_type": "code",
   "execution_count": 23,
   "id": "e574f235-bf6d-4a7b-a5b0-3e4ae09f9d21",
   "metadata": {},
   "outputs": [
    {
     "name": "stdout",
     "output_type": "stream",
     "text": [
      "float64\n"
     ]
    }
   ],
   "source": [
    "print(arr.dtype)"
   ]
  },
  {
   "cell_type": "code",
   "execution_count": 24,
   "id": "b591a40f-aebf-4fe5-b870-3e1e9ebb5e54",
   "metadata": {},
   "outputs": [
    {
     "data": {
      "text/plain": [
       "array([1. , 2. , 3. , 4. , 5.9])"
      ]
     },
     "execution_count": 24,
     "metadata": {},
     "output_type": "execute_result"
    }
   ],
   "source": [
    "arr2 = array([1,2,3,4,5.9],float)\n",
    "arr2"
   ]
  },
  {
   "cell_type": "code",
   "execution_count": 25,
   "id": "654e5217-5f5f-4f45-9fb7-0ce9fb8adf83",
   "metadata": {},
   "outputs": [
    {
     "data": {
      "text/plain": [
       "array([1, 2, 3, 4, 5])"
      ]
     },
     "execution_count": 25,
     "metadata": {},
     "output_type": "execute_result"
    }
   ],
   "source": [
    "arr3 = array([1,2,3,4,5.6],int)\n",
    "arr3"
   ]
  },
  {
   "cell_type": "code",
   "execution_count": 26,
   "id": "45b8c21c-a1e1-44dc-a008-d8389c9bcbe8",
   "metadata": {},
   "outputs": [],
   "source": [
    "import numpy as np"
   ]
  },
  {
   "cell_type": "code",
   "execution_count": 27,
   "id": "48f3e17c-670a-4349-a9c8-a239bf56a920",
   "metadata": {},
   "outputs": [
    {
     "data": {
      "text/plain": [
       "array([ 0.        ,  1.77777778,  3.55555556,  5.33333333,  7.11111111,\n",
       "        8.88888889, 10.66666667, 12.44444444, 14.22222222, 16.        ])"
      ]
     },
     "execution_count": 27,
     "metadata": {},
     "output_type": "execute_result"
    }
   ],
   "source": [
    "arr4 = np.linspace(0, 16, 10) # break the code between 10 spaces between 0 to 16 but why decimal becuase we break into parts thats why it is floats\n",
    "arr4"
   ]
  },
  {
   "cell_type": "code",
   "execution_count": 28,
   "id": "3b07ad50-e48a-4169-86ff-5606018f2d08",
   "metadata": {},
   "outputs": [
    {
     "data": {
      "text/plain": [
       "array([0, 2, 4, 6, 8])"
      ]
     },
     "execution_count": 28,
     "metadata": {},
     "output_type": "execute_result"
    }
   ],
   "source": [
    "arr5 = np.arange(0,10,2) # arange - as range\n",
    "arr5"
   ]
  },
  {
   "cell_type": "code",
   "execution_count": 29,
   "id": "5b9ead28-1577-47db-896b-d881a00075ee",
   "metadata": {},
   "outputs": [
    {
     "data": {
      "text/plain": [
       "array([0., 0., 0., 0., 0.])"
      ]
     },
     "execution_count": 29,
     "metadata": {},
     "output_type": "execute_result"
    }
   ],
   "source": [
    "arr6 = np.zeros(5)\n",
    "arr6"
   ]
  },
  {
   "cell_type": "code",
   "execution_count": 30,
   "id": "e74f9b83-c05e-4f98-9207-52d53ada6747",
   "metadata": {},
   "outputs": [
    {
     "data": {
      "text/plain": [
       "array([1., 1., 1., 1., 1.])"
      ]
     },
     "execution_count": 30,
     "metadata": {},
     "output_type": "execute_result"
    }
   ],
   "source": [
    "arr7 = np.ones(5)\n",
    "arr7"
   ]
  },
  {
   "cell_type": "code",
   "execution_count": null,
   "id": "f0e24433-1de2-4ecb-8f26-d24c9de73963",
   "metadata": {},
   "outputs": [],
   "source": []
  },
  {
   "cell_type": "code",
   "execution_count": null,
   "id": "2da42a65-c971-471e-b452-f0fbd562058d",
   "metadata": {},
   "outputs": [],
   "source": []
  },
  {
   "cell_type": "code",
   "execution_count": null,
   "id": "c5020aab-df6b-461d-8e78-07fc507bcb1f",
   "metadata": {},
   "outputs": [],
   "source": []
  }
 ],
 "metadata": {
  "kernelspec": {
   "display_name": "Python 3 (ipykernel)",
   "language": "python",
   "name": "python3"
  },
  "language_info": {
   "codemirror_mode": {
    "name": "ipython",
    "version": 3
   },
   "file_extension": ".py",
   "mimetype": "text/x-python",
   "name": "python",
   "nbconvert_exporter": "python",
   "pygments_lexer": "ipython3",
   "version": "3.13.5"
  }
 },
 "nbformat": 4,
 "nbformat_minor": 5
}
