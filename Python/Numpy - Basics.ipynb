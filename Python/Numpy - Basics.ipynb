{
 "cells": [
  {
   "cell_type": "code",
   "execution_count": 1,
   "id": "9db7f736-9ebe-44a1-bec9-abbc2ef01433",
   "metadata": {},
   "outputs": [],
   "source": [
    "#NUMPY ---> library which we are using dataanlytics , business analytic , ai , datascience , every where it required "
   ]
  },
  {
   "cell_type": "code",
   "execution_count": 2,
   "id": "3ef3baaf-1f15-4182-940b-67f961acb6db",
   "metadata": {},
   "outputs": [],
   "source": [
    "# what is array ---> collection of homogenous elements\n",
    "#1d array, 2d array and nd---> multi dimensional array"
   ]
  },
  {
   "cell_type": "code",
   "execution_count": 3,
   "id": "bd107283-5413-42c6-b029-6eaeee213d39",
   "metadata": {},
   "outputs": [],
   "source": [
    "#numpy is a library which handle multidimensional array and using numpy we can convr [ text to array, image to array, video to array]"
   ]
  },
  {
   "cell_type": "code",
   "execution_count": 4,
   "id": "f9f5b34f-866f-4565-8bea-cf33332384cd",
   "metadata": {},
   "outputs": [],
   "source": [
    "#data is 2 part   1) strurcture data excel sheet and 2)unstrcured data text,audio,video,pdf,xml "
   ]
  },
  {
   "cell_type": "code",
   "execution_count": null,
   "id": "c88aed3f-98ed-4230-a032-36d12dd09173",
   "metadata": {},
   "outputs": [],
   "source": [
    "#first off all we need to import numpy"
   ]
  },
  {
   "cell_type": "code",
   "execution_count": 7,
   "id": "cc502654-11a1-4dea-a31b-0119456412f8",
   "metadata": {},
   "outputs": [],
   "source": [
    "import sys"
   ]
  },
  {
   "cell_type": "code",
   "execution_count": 8,
   "id": "dd89732f-8518-4080-b05b-b633399f42e8",
   "metadata": {},
   "outputs": [
    {
     "data": {
      "text/plain": [
       "'3.13.5 | packaged by Anaconda, Inc. | (main, Jun 12 2025, 16:37:03) [MSC v.1929 64 bit (AMD64)]'"
      ]
     },
     "execution_count": 8,
     "metadata": {},
     "output_type": "execute_result"
    }
   ],
   "source": [
    "sys.version"
   ]
  },
  {
   "cell_type": "code",
   "execution_count": 9,
   "id": "272ac3d2-8de4-4a03-bb9a-b662434a111d",
   "metadata": {},
   "outputs": [],
   "source": [
    "import numpy as np"
   ]
  },
  {
   "cell_type": "code",
   "execution_count": 10,
   "id": "7cda43f0-0f8d-4499-bdbf-7282a99f3b6e",
   "metadata": {},
   "outputs": [
    {
     "data": {
      "text/plain": [
       "'2.1.3'"
      ]
     },
     "execution_count": 10,
     "metadata": {},
     "output_type": "execute_result"
    }
   ],
   "source": [
    "np.__version__"
   ]
  },
  {
   "cell_type": "code",
   "execution_count": 11,
   "id": "519f0283-7d20-4e7b-b211-fcf449c2dc5f",
   "metadata": {},
   "outputs": [],
   "source": [
    "#create a list"
   ]
  },
  {
   "cell_type": "code",
   "execution_count": 12,
   "id": "0f97fa60-4597-41d1-83e1-c74a697330f1",
   "metadata": {},
   "outputs": [
    {
     "data": {
      "text/plain": [
       "[0, 1, 2, 3, 4, 5]"
      ]
     },
     "execution_count": 12,
     "metadata": {},
     "output_type": "execute_result"
    }
   ],
   "source": [
    "my_list=[0,1,2,3,4,5]\n",
    "my_list"
   ]
  },
  {
   "cell_type": "code",
   "execution_count": 13,
   "id": "d7c15760-c860-4f15-9a2d-4cb1a6a1a59e",
   "metadata": {},
   "outputs": [
    {
     "data": {
      "text/plain": [
       "list"
      ]
     },
     "execution_count": 13,
     "metadata": {},
     "output_type": "execute_result"
    }
   ],
   "source": [
    "type(my_list)"
   ]
  },
  {
   "cell_type": "code",
   "execution_count": 14,
   "id": "c443aa9e-d2fb-449b-87eb-d69984fc85d3",
   "metadata": {},
   "outputs": [
    {
     "data": {
      "text/plain": [
       "array([0, 1, 2, 3, 4, 5])"
      ]
     },
     "execution_count": 14,
     "metadata": {},
     "output_type": "execute_result"
    }
   ],
   "source": [
    "arr = np.array(my_list)\n",
    "arr"
   ]
  },
  {
   "cell_type": "code",
   "execution_count": 15,
   "id": "235b4e86-fb9f-42ee-8722-a92f61b91cfa",
   "metadata": {},
   "outputs": [
    {
     "data": {
      "text/plain": [
       "numpy.ndarray"
      ]
     },
     "execution_count": 15,
     "metadata": {},
     "output_type": "execute_result"
    }
   ],
   "source": [
    "type(arr)"
   ]
  },
  {
   "cell_type": "code",
   "execution_count": 16,
   "id": "26457e9f-5ce6-4d4c-8000-060217140c3f",
   "metadata": {},
   "outputs": [
    {
     "name": "stdout",
     "output_type": "stream",
     "text": [
      "<class 'numpy.ndarray'>\n",
      "<class 'list'>\n"
     ]
    }
   ],
   "source": [
    "print(type(arr))\n",
    "print(type(my_list))"
   ]
  },
  {
   "cell_type": "code",
   "execution_count": 17,
   "id": "fe4b31a5-dc93-4233-b558-80fc60300f47",
   "metadata": {},
   "outputs": [
    {
     "data": {
      "text/plain": [
       "array([0, 1, 2, 3, 4, 5, 6, 7, 8, 9])"
      ]
     },
     "execution_count": 17,
     "metadata": {},
     "output_type": "execute_result"
    }
   ],
   "source": [
    "np.arange(10)"
   ]
  },
  {
   "cell_type": "code",
   "execution_count": 18,
   "id": "cbbe545e-8fab-4121-a0d1-08c8b8d56e34",
   "metadata": {},
   "outputs": [
    {
     "data": {
      "text/plain": [
       "array([10, 11, 12, 13, 14, 15, 16, 17, 18, 19])"
      ]
     },
     "execution_count": 18,
     "metadata": {},
     "output_type": "execute_result"
    }
   ],
   "source": [
    "np.arange(10,20)"
   ]
  },
  {
   "cell_type": "code",
   "execution_count": 19,
   "id": "0b1a617a-8bca-4a8c-91f9-9d233b053892",
   "metadata": {},
   "outputs": [
    {
     "data": {
      "text/plain": [
       "array([10, 15, 20, 25, 30, 35, 40, 45])"
      ]
     },
     "execution_count": 19,
     "metadata": {},
     "output_type": "execute_result"
    }
   ],
   "source": [
    "np.arange(10,50,5)"
   ]
  },
  {
   "cell_type": "code",
   "execution_count": 20,
   "id": "6ce6a3d4-d52a-4b6b-8d33-4804c55ad938",
   "metadata": {},
   "outputs": [
    {
     "data": {
      "text/plain": [
       "array([10, 13, 16, 19, 22, 25, 28])"
      ]
     },
     "execution_count": 20,
     "metadata": {},
     "output_type": "execute_result"
    }
   ],
   "source": [
    "np.arange(10,30,3)"
   ]
  },
  {
   "cell_type": "code",
   "execution_count": 99,
   "id": "53118dc3-6bdf-43cc-b379-8fa2df82b0cf",
   "metadata": {},
   "outputs": [
    {
     "ename": "TypeError",
     "evalue": "Cannot interpret '3' as a data type",
     "output_type": "error",
     "traceback": [
      "\u001b[1;31m---------------------------------------------------------------------------\u001b[0m",
      "\u001b[1;31mTypeError\u001b[0m                                 Traceback (most recent call last)",
      "Cell \u001b[1;32mIn[99], line 1\u001b[0m\n\u001b[1;32m----> 1\u001b[0m np\u001b[38;5;241m.\u001b[39marange(\u001b[38;5;241m10\u001b[39m,\u001b[38;5;241m20\u001b[39m,\u001b[38;5;241m30\u001b[39m,\u001b[38;5;241m3\u001b[39m)\n",
      "\u001b[1;31mTypeError\u001b[0m: Cannot interpret '3' as a data type"
     ]
    }
   ],
   "source": [
    "np.arange(10,20,30,3)"
   ]
  },
  {
   "cell_type": "code",
   "execution_count": 100,
   "id": "9a1a4c24-4d20-4561-9f62-dcc26d6e104f",
   "metadata": {},
   "outputs": [
    {
     "data": {
      "text/plain": [
       "array([ 8,  9, 10, 11, 12, 13, 14, 15, 16, 17, 18, 19])"
      ]
     },
     "execution_count": 100,
     "metadata": {},
     "output_type": "execute_result"
    }
   ],
   "source": [
    "np.arange(8,20)"
   ]
  },
  {
   "cell_type": "code",
   "execution_count": 101,
   "id": "e71a6c8f-6bd7-4275-be84-ee6e26158f97",
   "metadata": {},
   "outputs": [
    {
     "data": {
      "text/plain": [
       "array([], dtype=int64)"
      ]
     },
     "execution_count": 101,
     "metadata": {},
     "output_type": "execute_result"
    }
   ],
   "source": [
    "np.arange(20,8)"
   ]
  },
  {
   "cell_type": "code",
   "execution_count": 102,
   "id": "b7b4c1b9-2cf9-485b-909e-0551e72fdc82",
   "metadata": {},
   "outputs": [
    {
     "data": {
      "text/plain": [
       "array([-20, -19, -18, -17, -16, -15, -14, -13, -12, -11, -10,  -9,  -8,\n",
       "        -7,  -6,  -5,  -4,  -3,  -2,  -1,   0,   1,   2,   3,   4,   5,\n",
       "         6,   7])"
      ]
     },
     "execution_count": 102,
     "metadata": {},
     "output_type": "execute_result"
    }
   ],
   "source": [
    "np.arange(-20,8) #1st argument < 2nd argumnet"
   ]
  },
  {
   "cell_type": "code",
   "execution_count": 103,
   "id": "1607aecd-742e-4162-a24e-ac15740437cf",
   "metadata": {},
   "outputs": [
    {
     "data": {
      "text/plain": [
       "array([-20, -19, -18, -17, -16, -15, -14, -13, -12, -11, -10,  -9,  -8,\n",
       "        -7,  -6,  -5,  -4,  -3,  -2,  -1,   0,   1,   2,   3,   4,   5,\n",
       "         6,   7])"
      ]
     },
     "execution_count": 103,
     "metadata": {},
     "output_type": "execute_result"
    }
   ],
   "source": [
    "n=np.arange(-20,8)\n",
    "n"
   ]
  },
  {
   "cell_type": "code",
   "execution_count": 104,
   "id": "ef32d4cd-838a-417b-b2c5-49e10c4a6ea1",
   "metadata": {},
   "outputs": [
    {
     "data": {
      "text/plain": [
       "array([0., 0., 0.])"
      ]
     },
     "execution_count": 104,
     "metadata": {},
     "output_type": "execute_result"
    }
   ],
   "source": [
    "np.zeros(3)"
   ]
  },
  {
   "cell_type": "code",
   "execution_count": 105,
   "id": "1f07873f-484b-4b3d-8db6-4ccb1a0d1943",
   "metadata": {},
   "outputs": [
    {
     "data": {
      "text/plain": [
       "array([0, 0, 0])"
      ]
     },
     "execution_count": 105,
     "metadata": {},
     "output_type": "execute_result"
    }
   ],
   "source": [
    "np.zeros(3,dtype=int)"
   ]
  },
  {
   "cell_type": "code",
   "execution_count": 106,
   "id": "54435b1e-7cab-41be-8f77-2638004d54ff",
   "metadata": {},
   "outputs": [
    {
     "data": {
      "text/plain": [
       "array([0., 0., 0., 0., 0.])"
      ]
     },
     "execution_count": 106,
     "metadata": {},
     "output_type": "execute_result"
    }
   ],
   "source": [
    "z=np.zeros(5)\n",
    "z"
   ]
  },
  {
   "cell_type": "code",
   "execution_count": 107,
   "id": "3fb55aa0-9154-45ac-914c-a0606eb83c88",
   "metadata": {},
   "outputs": [
    {
     "data": {
      "text/plain": [
       "array([[0., 0.],\n",
       "       [0., 0.]])"
      ]
     },
     "execution_count": 107,
     "metadata": {},
     "output_type": "execute_result"
    }
   ],
   "source": [
    "np.zeros((2,2)) #2d array (two)"
   ]
  },
  {
   "cell_type": "code",
   "execution_count": 108,
   "id": "06c8aaff-022c-4bed-96b6-fe0364c6c36b",
   "metadata": {},
   "outputs": [
    {
     "data": {
      "text/plain": [
       "array([[0, 0, 0],\n",
       "       [0, 0, 0],\n",
       "       [0, 0, 0]])"
      ]
     },
     "execution_count": 108,
     "metadata": {},
     "output_type": "execute_result"
    }
   ],
   "source": [
    "np.zeros((3,3), dtype=int) "
   ]
  },
  {
   "cell_type": "code",
   "execution_count": 109,
   "id": "f740cc53-97ea-4fb9-9c64-8aa378294abf",
   "metadata": {},
   "outputs": [],
   "source": [
    "nd=np.zeros((5,9),dtype=int)  #ND ARRAY MILTI-D ARRAY"
   ]
  },
  {
   "cell_type": "code",
   "execution_count": 110,
   "id": "04213770-22a4-4f80-b776-a77ca5919f7b",
   "metadata": {},
   "outputs": [
    {
     "data": {
      "text/plain": [
       "array([[0, 0, 0, 0, 0, 0, 0, 0, 0],\n",
       "       [0, 0, 0, 0, 0, 0, 0, 0, 0],\n",
       "       [0, 0, 0, 0, 0, 0, 0, 0, 0],\n",
       "       [0, 0, 0, 0, 0, 0, 0, 0, 0],\n",
       "       [0, 0, 0, 0, 0, 0, 0, 0, 0]])"
      ]
     },
     "execution_count": 110,
     "metadata": {},
     "output_type": "execute_result"
    }
   ],
   "source": [
    "nd"
   ]
  },
  {
   "cell_type": "code",
   "execution_count": 111,
   "id": "bcf7768c-bcdc-4054-b2b8-2c582ccff5db",
   "metadata": {},
   "outputs": [
    {
     "data": {
      "text/plain": [
       "array([1., 1., 1.])"
      ]
     },
     "execution_count": 111,
     "metadata": {},
     "output_type": "execute_result"
    }
   ],
   "source": [
    "np.ones(3)"
   ]
  },
  {
   "cell_type": "code",
   "execution_count": 112,
   "id": "93f7b526-259d-40ca-a7ef-3bb90ec7ad61",
   "metadata": {},
   "outputs": [
    {
     "data": {
      "text/plain": [
       "array([1, 1, 1])"
      ]
     },
     "execution_count": 112,
     "metadata": {},
     "output_type": "execute_result"
    }
   ],
   "source": [
    "np.ones(3,int)"
   ]
  },
  {
   "cell_type": "code",
   "execution_count": 113,
   "id": "bb7f709d-46ad-4bd5-8902-61eab73ced3f",
   "metadata": {},
   "outputs": [
    {
     "data": {
      "text/plain": [
       "array([[1, 1, 1, 1, 1, 1, 1, 1, 1, 1],\n",
       "       [1, 1, 1, 1, 1, 1, 1, 1, 1, 1],\n",
       "       [1, 1, 1, 1, 1, 1, 1, 1, 1, 1],\n",
       "       [1, 1, 1, 1, 1, 1, 1, 1, 1, 1],\n",
       "       [1, 1, 1, 1, 1, 1, 1, 1, 1, 1],\n",
       "       [1, 1, 1, 1, 1, 1, 1, 1, 1, 1],\n",
       "       [1, 1, 1, 1, 1, 1, 1, 1, 1, 1],\n",
       "       [1, 1, 1, 1, 1, 1, 1, 1, 1, 1],\n",
       "       [1, 1, 1, 1, 1, 1, 1, 1, 1, 1],\n",
       "       [1, 1, 1, 1, 1, 1, 1, 1, 1, 1]])"
      ]
     },
     "execution_count": 113,
     "metadata": {},
     "output_type": "execute_result"
    }
   ],
   "source": [
    "nd1=np.ones((10,10),int)\n",
    "nd1"
   ]
  },
  {
   "cell_type": "code",
   "execution_count": 114,
   "id": "4c9b70f3-ec0e-4320-a1db-b1698c54ebbe",
   "metadata": {},
   "outputs": [
    {
     "ename": "AttributeError",
     "evalue": "module 'numpy' has no attribute 'twice'",
     "output_type": "error",
     "traceback": [
      "\u001b[1;31m---------------------------------------------------------------------------\u001b[0m",
      "\u001b[1;31mAttributeError\u001b[0m                            Traceback (most recent call last)",
      "Cell \u001b[1;32mIn[114], line 1\u001b[0m\n\u001b[1;32m----> 1\u001b[0m nd1\u001b[38;5;241m=\u001b[39mnp\u001b[38;5;241m.\u001b[39mtwice((\u001b[38;5;241m10\u001b[39m,\u001b[38;5;241m10\u001b[39m),\u001b[38;5;28mint\u001b[39m)\n\u001b[0;32m      2\u001b[0m nd1\n",
      "File \u001b[1;32m~\\anaconda3\\Lib\\site-packages\\numpy\\__init__.py:414\u001b[0m, in \u001b[0;36m__getattr__\u001b[1;34m(attr)\u001b[0m\n\u001b[0;32m    411\u001b[0m     \u001b[38;5;28;01mimport\u001b[39;00m\u001b[38;5;250m \u001b[39m\u001b[38;5;21;01mnumpy\u001b[39;00m\u001b[38;5;21;01m.\u001b[39;00m\u001b[38;5;21;01mchar\u001b[39;00m\u001b[38;5;250m \u001b[39m\u001b[38;5;28;01mas\u001b[39;00m\u001b[38;5;250m \u001b[39m\u001b[38;5;21;01mchar\u001b[39;00m\n\u001b[0;32m    412\u001b[0m     \u001b[38;5;28;01mreturn\u001b[39;00m char\u001b[38;5;241m.\u001b[39mchararray\n\u001b[1;32m--> 414\u001b[0m \u001b[38;5;28;01mraise\u001b[39;00m \u001b[38;5;167;01mAttributeError\u001b[39;00m(\u001b[38;5;124m\"\u001b[39m\u001b[38;5;124mmodule \u001b[39m\u001b[38;5;132;01m{!r}\u001b[39;00m\u001b[38;5;124m has no attribute \u001b[39m\u001b[38;5;124m\"\u001b[39m\n\u001b[0;32m    415\u001b[0m                      \u001b[38;5;124m\"\u001b[39m\u001b[38;5;132;01m{!r}\u001b[39;00m\u001b[38;5;124m\"\u001b[39m\u001b[38;5;241m.\u001b[39mformat(\u001b[38;5;18m__name__\u001b[39m, attr))\n",
      "\u001b[1;31mAttributeError\u001b[0m: module 'numpy' has no attribute 'twice'"
     ]
    }
   ],
   "source": [
    "nd1=np.twice((10,10),int)\n",
    "nd1"
   ]
  },
  {
   "cell_type": "code",
   "execution_count": 115,
   "id": "010c2748-be5f-41e2-8721-9700fe996890",
   "metadata": {},
   "outputs": [
    {
     "data": {
      "text/plain": [
       "array([[1, 1, 1, 1, 1, 1, 1, 1, 1, 1],\n",
       "       [1, 1, 1, 1, 1, 1, 1, 1, 1, 1],\n",
       "       [1, 1, 1, 1, 1, 1, 1, 1, 1, 1],\n",
       "       [1, 1, 1, 1, 1, 1, 1, 1, 1, 1],\n",
       "       [1, 1, 1, 1, 1, 1, 1, 1, 1, 1],\n",
       "       [1, 1, 1, 1, 1, 1, 1, 1, 1, 1],\n",
       "       [1, 1, 1, 1, 1, 1, 1, 1, 1, 1],\n",
       "       [1, 1, 1, 1, 1, 1, 1, 1, 1, 1],\n",
       "       [1, 1, 1, 1, 1, 1, 1, 1, 1, 1],\n",
       "       [1, 1, 1, 1, 1, 1, 1, 1, 1, 1]])"
      ]
     },
     "execution_count": 115,
     "metadata": {},
     "output_type": "execute_result"
    }
   ],
   "source": [
    "nd1"
   ]
  },
  {
   "cell_type": "code",
   "execution_count": 116,
   "id": "9d2f6b66-e5dd-4972-b0ba-967917271dee",
   "metadata": {},
   "outputs": [
    {
     "data": {
      "text/plain": [
       "array([0, 1, 2, 3, 4, 5])"
      ]
     },
     "execution_count": 116,
     "metadata": {},
     "output_type": "execute_result"
    }
   ],
   "source": [
    "arr"
   ]
  },
  {
   "cell_type": "code",
   "execution_count": 117,
   "id": "5e93e52f-3942-4507-8a19-2ce6c3db9db3",
   "metadata": {},
   "outputs": [
    {
     "data": {
      "text/plain": [
       "array([0., 0., 0., 0., 0.])"
      ]
     },
     "execution_count": 117,
     "metadata": {},
     "output_type": "execute_result"
    }
   ],
   "source": [
    "z"
   ]
  },
  {
   "cell_type": "code",
   "execution_count": 118,
   "id": "163e74ec-b6c2-4efc-9ca4-4a4e9d6545cd",
   "metadata": {},
   "outputs": [
    {
     "data": {
      "text/plain": [
       "array([[0, 0, 0, 0, 0, 0, 0, 0, 0],\n",
       "       [0, 0, 0, 0, 0, 0, 0, 0, 0],\n",
       "       [0, 0, 0, 0, 0, 0, 0, 0, 0],\n",
       "       [0, 0, 0, 0, 0, 0, 0, 0, 0],\n",
       "       [0, 0, 0, 0, 0, 0, 0, 0, 0]])"
      ]
     },
     "execution_count": 118,
     "metadata": {},
     "output_type": "execute_result"
    }
   ],
   "source": [
    "nd"
   ]
  },
  {
   "cell_type": "code",
   "execution_count": 119,
   "id": "0861ff97-dcfa-4de6-b005-dc869ea2ce75",
   "metadata": {},
   "outputs": [
    {
     "data": {
      "text/plain": [
       "[0, 1, 2, 3, 4, 5]"
      ]
     },
     "execution_count": 119,
     "metadata": {},
     "output_type": "execute_result"
    }
   ],
   "source": [
    "my_list"
   ]
  },
  {
   "cell_type": "code",
   "execution_count": 120,
   "id": "f5595b7b-c67e-4028-a08c-7897c706545e",
   "metadata": {},
   "outputs": [],
   "source": [
    "\n",
    "\n",
    "                                                           # 04th july 2025\n",
    "\n",
    "\n"
   ]
  },
  {
   "cell_type": "code",
   "execution_count": 121,
   "id": "ec75f6d2-e107-4cf9-95de-26c0264fdc49",
   "metadata": {},
   "outputs": [
    {
     "ename": "NameError",
     "evalue": "name 'rand' is not defined",
     "output_type": "error",
     "traceback": [
      "\u001b[1;31m---------------------------------------------------------------------------\u001b[0m",
      "\u001b[1;31mNameError\u001b[0m                                 Traceback (most recent call last)",
      "Cell \u001b[1;32mIn[121], line 1\u001b[0m\n\u001b[1;32m----> 1\u001b[0m rand(\u001b[38;5;241m3\u001b[39m,\u001b[38;5;241m2\u001b[39m)\n",
      "\u001b[1;31mNameError\u001b[0m: name 'rand' is not defined"
     ]
    }
   ],
   "source": [
    "rand(3,2)"
   ]
  },
  {
   "cell_type": "code",
   "execution_count": 122,
   "id": "dabf8384-48ff-4a3b-b981-b730a1b41577",
   "metadata": {},
   "outputs": [
    {
     "data": {
      "text/plain": [
       "<bound method RandomState.rand of RandomState(MT19937) at 0x247D243BB40>"
      ]
     },
     "execution_count": 122,
     "metadata": {},
     "output_type": "execute_result"
    }
   ],
   "source": [
    "random.rand"
   ]
  },
  {
   "cell_type": "code",
   "execution_count": 123,
   "id": "648bdb28-c8a0-4208-8b94-4fb874a72a9c",
   "metadata": {},
   "outputs": [
    {
     "data": {
      "text/plain": [
       "array([0.14713825, 0.01787865])"
      ]
     },
     "execution_count": 123,
     "metadata": {},
     "output_type": "execute_result"
    }
   ],
   "source": [
    "np.random.rand(2) "
   ]
  },
  {
   "cell_type": "code",
   "execution_count": 124,
   "id": "b51fd960-bdcd-475a-81ff-a302eea71d66",
   "metadata": {},
   "outputs": [
    {
     "data": {
      "text/plain": [
       "array([0.69377768, 0.64732156, 0.46734988])"
      ]
     },
     "execution_count": 124,
     "metadata": {},
     "output_type": "execute_result"
    }
   ],
   "source": [
    "np.random.rand(3) "
   ]
  },
  {
   "cell_type": "code",
   "execution_count": 125,
   "id": "ee8e03df-b35d-4311-b653-cb7575dfcf58",
   "metadata": {},
   "outputs": [
    {
     "data": {
      "text/plain": [
       "array([[0.15209317, 0.4702235 , 0.94086648],\n",
       "       [0.48065292, 0.69952537, 0.13964118]])"
      ]
     },
     "execution_count": 125,
     "metadata": {},
     "output_type": "execute_result"
    }
   ],
   "source": [
    "np.random.rand(2,3)"
   ]
  },
  {
   "cell_type": "code",
   "execution_count": 126,
   "id": "4221cc11-060d-46d7-b88d-f5ed87083ae0",
   "metadata": {},
   "outputs": [
    {
     "data": {
      "text/plain": [
       "0"
      ]
     },
     "execution_count": 126,
     "metadata": {},
     "output_type": "execute_result"
    }
   ],
   "source": [
    "np.random.randint(3) #it grnertatee random int interval with higer exclusive"
   ]
  },
  {
   "cell_type": "code",
   "execution_count": 127,
   "id": "b5e9f094-3369-473b-9297-2f26b81fe181",
   "metadata": {},
   "outputs": [
    {
     "data": {
      "text/plain": [
       "1"
      ]
     },
     "execution_count": 127,
     "metadata": {},
     "output_type": "execute_result"
    }
   ],
   "source": [
    "np.random.randint(5)"
   ]
  },
  {
   "cell_type": "code",
   "execution_count": 128,
   "id": "5a7ad16c-8b9e-4a60-971e-b8b28f26ef67",
   "metadata": {},
   "outputs": [
    {
     "data": {
      "text/plain": [
       "3"
      ]
     },
     "execution_count": 128,
     "metadata": {},
     "output_type": "execute_result"
    }
   ],
   "source": [
    "np.random.randint(2,10) #2 iclusive 10 is exclusive"
   ]
  },
  {
   "cell_type": "code",
   "execution_count": 129,
   "id": "12903855-9d66-48ae-83ac-1580b7171cd9",
   "metadata": {},
   "outputs": [
    {
     "data": {
      "text/plain": [
       "array([9, 7, 4], dtype=int32)"
      ]
     },
     "execution_count": 129,
     "metadata": {},
     "output_type": "execute_result"
    }
   ],
   "source": [
    "np.random.randint(2, 10 ,3)"
   ]
  },
  {
   "cell_type": "code",
   "execution_count": 130,
   "id": "16d002c3-ea9d-4ad2-8b06-0ae8ef38a3cb",
   "metadata": {},
   "outputs": [
    {
     "data": {
      "text/plain": [
       "array([-26,   5,  13, -30, -27,   9,  -6,   6,   3,  -3], dtype=int32)"
      ]
     },
     "execution_count": 130,
     "metadata": {},
     "output_type": "execute_result"
    }
   ],
   "source": [
    "np.random.randint(-30,20,10)"
   ]
  },
  {
   "cell_type": "code",
   "execution_count": 131,
   "id": "17fcf785-5968-4031-a525-2ffc9572e520",
   "metadata": {},
   "outputs": [
    {
     "data": {
      "text/plain": [
       "array([[36, 23, 23, 28, 31, 29, 11, 11, 13, 31],\n",
       "       [39, 24, 16, 12, 15, 36, 13, 12, 21, 27],\n",
       "       [24, 30, 20, 19, 18, 20, 33, 14, 25, 37],\n",
       "       [23, 14, 18, 25, 27, 34, 13, 38, 13, 35],\n",
       "       [12, 18, 12, 26, 26, 22, 16, 37, 37, 35],\n",
       "       [19, 23, 29, 39, 25, 35, 28, 21, 29, 19],\n",
       "       [32, 23, 13, 37, 15, 22, 24, 21, 37, 36],\n",
       "       [22, 23, 15, 33, 39, 15, 16, 13, 19, 23],\n",
       "       [29, 13, 28, 12, 21, 22, 32, 27, 33, 18],\n",
       "       [31, 18, 29, 28, 26, 30, 17, 22, 23, 20]], dtype=int32)"
      ]
     },
     "execution_count": 131,
     "metadata": {},
     "output_type": "execute_result"
    }
   ],
   "source": [
    "np.random.randint(10,40,(10,10))"
   ]
  },
  {
   "cell_type": "code",
   "execution_count": 132,
   "id": "190d24d8-4096-4793-b6ea-897ecdca663b",
   "metadata": {},
   "outputs": [
    {
     "data": {
      "text/plain": [
       "array([[39, 29, 14, 22, 26, 34, 31, 22, 15, 14],\n",
       "       [25, 13, 12, 37, 23, 18, 26, 20, 33, 14],\n",
       "       [18, 37, 36, 25, 20, 11, 33, 22, 19, 33],\n",
       "       [15, 28, 34, 15, 17, 31, 29, 21, 39, 19],\n",
       "       [11, 24, 12, 28, 37, 24, 20, 30, 16, 38],\n",
       "       [13, 13, 26, 24, 25, 30, 28, 31, 21, 34],\n",
       "       [22, 39, 39, 14, 11, 38, 18, 22, 23, 15],\n",
       "       [19, 23, 15, 12, 27, 13, 28, 21, 13, 25],\n",
       "       [25, 36, 22, 38, 31, 35, 32, 39, 35, 25],\n",
       "       [12, 13, 20, 33, 21, 15, 35, 10, 36, 29]], dtype=int32)"
      ]
     },
     "execution_count": 132,
     "metadata": {},
     "output_type": "execute_result"
    }
   ],
   "source": [
    "m=np.random.randint(10,40,(10,10))\n",
    "m"
   ]
  },
  {
   "cell_type": "code",
   "execution_count": 133,
   "id": "86338498-583b-486b-b857-f50bace59942",
   "metadata": {},
   "outputs": [
    {
     "data": {
      "text/plain": [
       "array([0, 1, 2, 3, 4, 5])"
      ]
     },
     "execution_count": 133,
     "metadata": {},
     "output_type": "execute_result"
    }
   ],
   "source": [
    "arr"
   ]
  },
  {
   "cell_type": "code",
   "execution_count": 134,
   "id": "33e39fd6-e15e-4e67-9864-dd2b0ce9bef3",
   "metadata": {},
   "outputs": [
    {
     "data": {
      "text/plain": [
       "array([[0, 1, 2],\n",
       "       [3, 4, 5]])"
      ]
     },
     "execution_count": 134,
     "metadata": {},
     "output_type": "execute_result"
    }
   ],
   "source": [
    "arr.reshape(2,3)"
   ]
  },
  {
   "cell_type": "code",
   "execution_count": 135,
   "id": "9b0366eb-3dd9-4413-bbc5-1a0070584425",
   "metadata": {},
   "outputs": [
    {
     "ename": "ValueError",
     "evalue": "cannot reshape array of size 6 into shape (3,3)",
     "output_type": "error",
     "traceback": [
      "\u001b[1;31m---------------------------------------------------------------------------\u001b[0m",
      "\u001b[1;31mValueError\u001b[0m                                Traceback (most recent call last)",
      "Cell \u001b[1;32mIn[135], line 1\u001b[0m\n\u001b[1;32m----> 1\u001b[0m arr\u001b[38;5;241m.\u001b[39mreshape(\u001b[38;5;241m3\u001b[39m,\u001b[38;5;241m3\u001b[39m)\n",
      "\u001b[1;31mValueError\u001b[0m: cannot reshape array of size 6 into shape (3,3)"
     ]
    }
   ],
   "source": [
    "arr.reshape(3,3)"
   ]
  },
  {
   "cell_type": "code",
   "execution_count": 136,
   "id": "df523b95-4b39-4806-9975-52f741047471",
   "metadata": {},
   "outputs": [
    {
     "data": {
      "text/plain": [
       "array([[0],\n",
       "       [1],\n",
       "       [2],\n",
       "       [3],\n",
       "       [4],\n",
       "       [5]])"
      ]
     },
     "execution_count": 136,
     "metadata": {},
     "output_type": "execute_result"
    }
   ],
   "source": [
    "arr.reshape(6,1)"
   ]
  },
  {
   "cell_type": "code",
   "execution_count": 137,
   "id": "8eb0e206-865c-4026-8436-76b1fb3511a5",
   "metadata": {},
   "outputs": [
    {
     "data": {
      "text/plain": [
       "array([[0, 1, 2, 3, 4, 5]])"
      ]
     },
     "execution_count": 137,
     "metadata": {},
     "output_type": "execute_result"
    }
   ],
   "source": [
    "arr.reshape(1,6)"
   ]
  },
  {
   "cell_type": "code",
   "execution_count": 138,
   "id": "9405cda6-e885-49ff-86c2-ba3db11e4f46",
   "metadata": {},
   "outputs": [],
   "source": [
    "#slicing in matrix"
   ]
  },
  {
   "cell_type": "code",
   "execution_count": 139,
   "id": "19c46aa5-cac5-4ff7-991b-10f61349a982",
   "metadata": {},
   "outputs": [
    {
     "data": {
      "text/plain": [
       "array([[39, 29, 14, 22, 26, 34, 31, 22, 15, 14],\n",
       "       [25, 13, 12, 37, 23, 18, 26, 20, 33, 14],\n",
       "       [18, 37, 36, 25, 20, 11, 33, 22, 19, 33],\n",
       "       [15, 28, 34, 15, 17, 31, 29, 21, 39, 19],\n",
       "       [11, 24, 12, 28, 37, 24, 20, 30, 16, 38],\n",
       "       [13, 13, 26, 24, 25, 30, 28, 31, 21, 34],\n",
       "       [22, 39, 39, 14, 11, 38, 18, 22, 23, 15],\n",
       "       [19, 23, 15, 12, 27, 13, 28, 21, 13, 25],\n",
       "       [25, 36, 22, 38, 31, 35, 32, 39, 35, 25],\n",
       "       [12, 13, 20, 33, 21, 15, 35, 10, 36, 29]], dtype=int32)"
      ]
     },
     "execution_count": 139,
     "metadata": {},
     "output_type": "execute_result"
    }
   ],
   "source": [
    "m"
   ]
  },
  {
   "cell_type": "code",
   "execution_count": 140,
   "id": "c085db96-4d4c-40a3-9eb9-c251941de945",
   "metadata": {},
   "outputs": [
    {
     "data": {
      "text/plain": [
       "array([[20, 32, 25, 34, 13, 29, 24, 37, 27, 11],\n",
       "       [25, 33, 15, 22, 32, 32, 39, 13, 29, 34],\n",
       "       [17, 25, 37, 12, 29, 13, 24, 30, 18, 35],\n",
       "       [18, 15, 25, 19, 24, 12, 34, 33, 20, 28],\n",
       "       [13, 18, 27, 23, 25, 14, 19, 32, 29, 27],\n",
       "       [11, 18, 31, 38, 35, 35, 13, 18, 32, 38],\n",
       "       [13, 12, 11, 19, 23, 35, 38, 36, 25, 38],\n",
       "       [32, 10, 22, 25, 15, 31, 33, 16, 38, 35],\n",
       "       [38, 10, 22, 37, 39, 14, 39, 33, 22, 32],\n",
       "       [20, 27, 36, 35, 36, 16, 15, 22, 11, 28]], dtype=int32)"
      ]
     },
     "execution_count": 140,
     "metadata": {},
     "output_type": "execute_result"
    }
   ],
   "source": [
    "b=np.random.randint(10,40,(10,10))\n",
    "b"
   ]
  },
  {
   "cell_type": "code",
   "execution_count": 141,
   "id": "98c14f1d-6b9f-42a7-bc05-f28161ef8e8a",
   "metadata": {},
   "outputs": [
    {
     "data": {
      "text/plain": [
       "array([[20, 32, 25, 34, 13, 29, 24, 37, 27, 11],\n",
       "       [25, 33, 15, 22, 32, 32, 39, 13, 29, 34],\n",
       "       [17, 25, 37, 12, 29, 13, 24, 30, 18, 35],\n",
       "       [18, 15, 25, 19, 24, 12, 34, 33, 20, 28],\n",
       "       [13, 18, 27, 23, 25, 14, 19, 32, 29, 27],\n",
       "       [11, 18, 31, 38, 35, 35, 13, 18, 32, 38],\n",
       "       [13, 12, 11, 19, 23, 35, 38, 36, 25, 38],\n",
       "       [32, 10, 22, 25, 15, 31, 33, 16, 38, 35],\n",
       "       [38, 10, 22, 37, 39, 14, 39, 33, 22, 32],\n",
       "       [20, 27, 36, 35, 36, 16, 15, 22, 11, 28]], dtype=int32)"
      ]
     },
     "execution_count": 141,
     "metadata": {},
     "output_type": "execute_result"
    }
   ],
   "source": [
    "b[:]"
   ]
  },
  {
   "cell_type": "code",
   "execution_count": 142,
   "id": "a984725e-90fe-4606-8156-df5586048c53",
   "metadata": {},
   "outputs": [
    {
     "data": {
      "text/plain": [
       "array([[25, 33, 15, 22, 32, 32, 39, 13, 29, 34],\n",
       "       [17, 25, 37, 12, 29, 13, 24, 30, 18, 35],\n",
       "       [18, 15, 25, 19, 24, 12, 34, 33, 20, 28]], dtype=int32)"
      ]
     },
     "execution_count": 142,
     "metadata": {},
     "output_type": "execute_result"
    }
   ],
   "source": [
    "b[1:4]"
   ]
  },
  {
   "cell_type": "code",
   "execution_count": 143,
   "id": "b2a9dcfa-c062-4ead-b3f5-3910b3af1bbf",
   "metadata": {},
   "outputs": [
    {
     "data": {
      "text/plain": [
       "array([[20, 27, 36, 35, 36, 16, 15, 22, 11, 28]], dtype=int32)"
      ]
     },
     "execution_count": 143,
     "metadata": {},
     "output_type": "execute_result"
    }
   ],
   "source": [
    "b[-1:]"
   ]
  },
  {
   "cell_type": "code",
   "execution_count": 144,
   "id": "b74d8428-a497-43f7-8900-ceff3c8228dd",
   "metadata": {},
   "outputs": [
    {
     "data": {
      "text/plain": [
       "array([[20, 32, 25, 34, 13, 29, 24, 37, 27, 11],\n",
       "       [25, 33, 15, 22, 32, 32, 39, 13, 29, 34],\n",
       "       [17, 25, 37, 12, 29, 13, 24, 30, 18, 35],\n",
       "       [18, 15, 25, 19, 24, 12, 34, 33, 20, 28],\n",
       "       [13, 18, 27, 23, 25, 14, 19, 32, 29, 27],\n",
       "       [11, 18, 31, 38, 35, 35, 13, 18, 32, 38],\n",
       "       [13, 12, 11, 19, 23, 35, 38, 36, 25, 38],\n",
       "       [32, 10, 22, 25, 15, 31, 33, 16, 38, 35],\n",
       "       [38, 10, 22, 37, 39, 14, 39, 33, 22, 32]], dtype=int32)"
      ]
     },
     "execution_count": 144,
     "metadata": {},
     "output_type": "execute_result"
    }
   ],
   "source": [
    "b[:-1]"
   ]
  },
  {
   "cell_type": "code",
   "execution_count": 145,
   "id": "7e108903-8ecc-4ce9-91ef-ac9e8025ca02",
   "metadata": {},
   "outputs": [
    {
     "data": {
      "text/plain": [
       "array([[20, 32, 25, 34, 13, 29, 24, 37, 27, 11],\n",
       "       [25, 33, 15, 22, 32, 32, 39, 13, 29, 34],\n",
       "       [17, 25, 37, 12, 29, 13, 24, 30, 18, 35],\n",
       "       [18, 15, 25, 19, 24, 12, 34, 33, 20, 28],\n",
       "       [13, 18, 27, 23, 25, 14, 19, 32, 29, 27],\n",
       "       [11, 18, 31, 38, 35, 35, 13, 18, 32, 38],\n",
       "       [13, 12, 11, 19, 23, 35, 38, 36, 25, 38],\n",
       "       [32, 10, 22, 25, 15, 31, 33, 16, 38, 35],\n",
       "       [38, 10, 22, 37, 39, 14, 39, 33, 22, 32],\n",
       "       [20, 27, 36, 35, 36, 16, 15, 22, 11, 28]], dtype=int32)"
      ]
     },
     "execution_count": 145,
     "metadata": {},
     "output_type": "execute_result"
    }
   ],
   "source": [
    "b"
   ]
  },
  {
   "cell_type": "code",
   "execution_count": 146,
   "id": "abbfdf99-edd7-41a7-b838-1616af187fd1",
   "metadata": {},
   "outputs": [
    {
     "data": {
      "text/plain": [
       "array([[20, 32, 25, 34, 13, 29, 24, 37, 27, 11],\n",
       "       [25, 33, 15, 22, 32, 32, 39, 13, 29, 34],\n",
       "       [17, 25, 37, 12, 29, 13, 24, 30, 18, 35],\n",
       "       [18, 15, 25, 19, 24, 12, 34, 33, 20, 28],\n",
       "       [13, 18, 27, 23, 25, 14, 19, 32, 29, 27],\n",
       "       [11, 18, 31, 38, 35, 35, 13, 18, 32, 38],\n",
       "       [13, 12, 11, 19, 23, 35, 38, 36, 25, 38],\n",
       "       [32, 10, 22, 25, 15, 31, 33, 16, 38, 35],\n",
       "       [38, 10, 22, 37, 39, 14, 39, 33, 22, 32]], dtype=int32)"
      ]
     },
     "execution_count": 146,
     "metadata": {},
     "output_type": "execute_result"
    }
   ],
   "source": [
    "b[:-1]"
   ]
  },
  {
   "cell_type": "code",
   "execution_count": 147,
   "id": "ff288040-ce64-4ae8-b81e-f3a1897a98c7",
   "metadata": {},
   "outputs": [
    {
     "data": {
      "text/plain": [
       "array([[20, 32, 25, 34, 13, 29, 24, 37, 27, 11],\n",
       "       [25, 33, 15, 22, 32, 32, 39, 13, 29, 34],\n",
       "       [17, 25, 37, 12, 29, 13, 24, 30, 18, 35],\n",
       "       [18, 15, 25, 19, 24, 12, 34, 33, 20, 28],\n",
       "       [13, 18, 27, 23, 25, 14, 19, 32, 29, 27],\n",
       "       [11, 18, 31, 38, 35, 35, 13, 18, 32, 38],\n",
       "       [13, 12, 11, 19, 23, 35, 38, 36, 25, 38],\n",
       "       [32, 10, 22, 25, 15, 31, 33, 16, 38, 35]], dtype=int32)"
      ]
     },
     "execution_count": 147,
     "metadata": {},
     "output_type": "execute_result"
    }
   ],
   "source": [
    "b[:-2]"
   ]
  },
  {
   "cell_type": "code",
   "execution_count": 148,
   "id": "03ab51a2-d6cb-4db0-87d9-3ec1cdcb299c",
   "metadata": {},
   "outputs": [
    {
     "data": {
      "text/plain": [
       "array([[25, 33, 15, 22, 32, 32, 39, 13, 29, 34],\n",
       "       [17, 25, 37, 12, 29, 13, 24, 30, 18, 35],\n",
       "       [18, 15, 25, 19, 24, 12, 34, 33, 20, 28]], dtype=int32)"
      ]
     },
     "execution_count": 148,
     "metadata": {},
     "output_type": "execute_result"
    }
   ],
   "source": [
    "b[1:4]"
   ]
  },
  {
   "cell_type": "code",
   "execution_count": 149,
   "id": "3056278c-8b8c-49d1-91c5-4aff4bcd234a",
   "metadata": {},
   "outputs": [
    {
     "data": {
      "text/plain": [
       "np.int32(15)"
      ]
     },
     "execution_count": 149,
     "metadata": {},
     "output_type": "execute_result"
    }
   ],
   "source": [
    "b[1,2]"
   ]
  },
  {
   "cell_type": "code",
   "execution_count": 150,
   "id": "5dc91c24-5561-450f-aac1-58f2ecdc9ab9",
   "metadata": {},
   "outputs": [
    {
     "data": {
      "text/plain": [
       "array([[20, 32, 25, 34, 13, 29, 24, 37, 27, 11],\n",
       "       [25, 33, 15, 22, 32, 32, 39, 13, 29, 34],\n",
       "       [17, 25, 37, 12, 29, 13, 24, 30, 18, 35],\n",
       "       [18, 15, 25, 19, 24, 12, 34, 33, 20, 28],\n",
       "       [13, 18, 27, 23, 25, 14, 19, 32, 29, 27],\n",
       "       [11, 18, 31, 38, 35, 35, 13, 18, 32, 38],\n",
       "       [13, 12, 11, 19, 23, 35, 38, 36, 25, 38],\n",
       "       [32, 10, 22, 25, 15, 31, 33, 16, 38, 35],\n",
       "       [38, 10, 22, 37, 39, 14, 39, 33, 22, 32],\n",
       "       [20, 27, 36, 35, 36, 16, 15, 22, 11, 28]], dtype=int32)"
      ]
     },
     "execution_count": 150,
     "metadata": {},
     "output_type": "execute_result"
    }
   ],
   "source": [
    "b"
   ]
  },
  {
   "cell_type": "code",
   "execution_count": 151,
   "id": "d978b282-72cb-4c77-81d9-53459912b8b1",
   "metadata": {},
   "outputs": [
    {
     "data": {
      "text/plain": [
       "np.int32(13)"
      ]
     },
     "execution_count": 151,
     "metadata": {},
     "output_type": "execute_result"
    }
   ],
   "source": [
    "b[1,7]"
   ]
  },
  {
   "cell_type": "code",
   "execution_count": 152,
   "id": "04b2b143-f3c5-4d8b-b89f-da632f0634c5",
   "metadata": {},
   "outputs": [
    {
     "data": {
      "text/plain": [
       "np.int32(22)"
      ]
     },
     "execution_count": 152,
     "metadata": {},
     "output_type": "execute_result"
    }
   ],
   "source": [
    "b[1,3]"
   ]
  },
  {
   "cell_type": "code",
   "execution_count": 153,
   "id": "8bf772dc-3a83-435b-97a0-c7ffe94b9301",
   "metadata": {},
   "outputs": [
    {
     "data": {
      "text/plain": [
       "array([[20, 32, 25, 34, 13, 29, 24, 37, 27, 11],\n",
       "       [25, 33, 15, 22, 32, 32, 39, 13, 29, 34],\n",
       "       [17, 25, 37, 12, 29, 13, 24, 30, 18, 35],\n",
       "       [18, 15, 25, 19, 24, 12, 34, 33, 20, 28],\n",
       "       [13, 18, 27, 23, 25, 14, 19, 32, 29, 27],\n",
       "       [11, 18, 31, 38, 35, 35, 13, 18, 32, 38],\n",
       "       [13, 12, 11, 19, 23, 35, 38, 36, 25, 38],\n",
       "       [32, 10, 22, 25, 15, 31, 33, 16, 38, 35],\n",
       "       [38, 10, 22, 37, 39, 14, 39, 33, 22, 32],\n",
       "       [20, 27, 36, 35, 36, 16, 15, 22, 11, 28]], dtype=int32)"
      ]
     },
     "execution_count": 153,
     "metadata": {},
     "output_type": "execute_result"
    }
   ],
   "source": [
    "b"
   ]
  },
  {
   "cell_type": "code",
   "execution_count": 154,
   "id": "03632ede-11ab-4cbe-ad27-3ad6b3e90d2c",
   "metadata": {},
   "outputs": [
    {
     "data": {
      "text/plain": [
       "np.int32(34)"
      ]
     },
     "execution_count": 154,
     "metadata": {},
     "output_type": "execute_result"
    }
   ],
   "source": [
    "b[1,-1]"
   ]
  },
  {
   "cell_type": "code",
   "execution_count": 155,
   "id": "fac1a049-1dad-4f83-b460-a0644fcb0ce1",
   "metadata": {},
   "outputs": [],
   "source": [
    "#numpy operations"
   ]
  },
  {
   "cell_type": "code",
   "execution_count": 156,
   "id": "a528a3c4-68d7-41e6-98bb-412b4f2c36df",
   "metadata": {},
   "outputs": [
    {
     "data": {
      "text/plain": [
       "array([0, 1, 2, 3, 4, 5])"
      ]
     },
     "execution_count": 156,
     "metadata": {},
     "output_type": "execute_result"
    }
   ],
   "source": [
    "arr"
   ]
  },
  {
   "cell_type": "code",
   "execution_count": 157,
   "id": "ce07fc70-e1b4-4f30-a321-762ce81359e2",
   "metadata": {},
   "outputs": [
    {
     "data": {
      "text/plain": [
       "np.int64(5)"
      ]
     },
     "execution_count": 157,
     "metadata": {},
     "output_type": "execute_result"
    }
   ],
   "source": [
    "arr.max()"
   ]
  },
  {
   "cell_type": "code",
   "execution_count": 158,
   "id": "a6000a2e-53ef-4b25-b37c-dfead08056aa",
   "metadata": {},
   "outputs": [
    {
     "data": {
      "text/plain": [
       "np.int64(0)"
      ]
     },
     "execution_count": 158,
     "metadata": {},
     "output_type": "execute_result"
    }
   ],
   "source": [
    "arr.min()"
   ]
  },
  {
   "cell_type": "code",
   "execution_count": 159,
   "id": "63824f0c-bdac-4857-9cd0-99bf65618145",
   "metadata": {},
   "outputs": [
    {
     "ename": "TypeError",
     "evalue": "'builtin_function_or_method' object is not subscriptable",
     "output_type": "error",
     "traceback": [
      "\u001b[1;31m---------------------------------------------------------------------------\u001b[0m",
      "\u001b[1;31mTypeError\u001b[0m                                 Traceback (most recent call last)",
      "Cell \u001b[1;32mIn[159], line 2\u001b[0m\n\u001b[0;32m      1\u001b[0m \u001b[38;5;28;01mfrom\u001b[39;00m\u001b[38;5;250m \u001b[39m\u001b[38;5;21;01mnumpy\u001b[39;00m\u001b[38;5;250m \u001b[39m\u001b[38;5;28;01mimport\u001b[39;00m \u001b[38;5;241m*\u001b[39m\n\u001b[1;32m----> 2\u001b[0m a\u001b[38;5;241m=\u001b[39marray[(\u001b[38;5;241m1\u001b[39m,\u001b[38;5;241m2\u001b[39m,\u001b[38;5;241m3\u001b[39m,\u001b[38;5;241m4\u001b[39m,\u001b[38;5;241m5\u001b[39m,\u001b[38;5;241m9\u001b[39m)]\n\u001b[0;32m      3\u001b[0m median (a)\n",
      "\u001b[1;31mTypeError\u001b[0m: 'builtin_function_or_method' object is not subscriptable"
     ]
    }
   ],
   "source": [
    "from numpy import *\n",
    "a=array[(1,2,3,4,5,9)]\n",
    "median (a)"
   ]
  },
  {
   "cell_type": "code",
   "execution_count": 160,
   "id": "3e86a8e1-26a8-4508-8459-89607d21e04c",
   "metadata": {},
   "outputs": [
    {
     "data": {
      "text/plain": [
       "array([[ 0,  1,  2,  3,  4,  5,  6,  7,  8,  9],\n",
       "       [10, 11, 12, 13, 14, 15, 16, 17, 18, 19],\n",
       "       [20, 21, 22, 23, 24, 25, 26, 27, 28, 29],\n",
       "       [30, 31, 32, 33, 34, 35, 36, 37, 38, 39],\n",
       "       [40, 41, 42, 43, 44, 45, 46, 47, 48, 49],\n",
       "       [50, 51, 52, 53, 54, 55, 56, 57, 58, 59],\n",
       "       [60, 61, 62, 63, 64, 65, 66, 67, 68, 69],\n",
       "       [70, 71, 72, 73, 74, 75, 76, 77, 78, 79],\n",
       "       [80, 81, 82, 83, 84, 85, 86, 87, 88, 89],\n",
       "       [90, 91, 92, 93, 94, 95, 96, 97, 98, 99]])"
      ]
     },
     "execution_count": 160,
     "metadata": {},
     "output_type": "execute_result"
    }
   ],
   "source": [
    "mat=np.arange(0,100).reshape(10,10)\n",
    "mat"
   ]
  },
  {
   "cell_type": "code",
   "execution_count": 161,
   "id": "d2006974-9a47-4847-ad44-1135f5f0d95c",
   "metadata": {},
   "outputs": [],
   "source": [
    "row=4\n",
    "col=5"
   ]
  },
  {
   "cell_type": "code",
   "execution_count": 162,
   "id": "6b4007a1-4f93-4c09-8471-2b98b8f45dea",
   "metadata": {},
   "outputs": [
    {
     "data": {
      "text/plain": [
       "5"
      ]
     },
     "execution_count": 162,
     "metadata": {},
     "output_type": "execute_result"
    }
   ],
   "source": [
    "col"
   ]
  },
  {
   "cell_type": "code",
   "execution_count": 163,
   "id": "e98b693e-13ff-441b-adef-86f8072d4605",
   "metadata": {},
   "outputs": [
    {
     "data": {
      "text/plain": [
       "array([[ 0,  1,  2,  3,  4,  5,  6,  7,  8,  9],\n",
       "       [10, 11, 12, 13, 14, 15, 16, 17, 18, 19],\n",
       "       [20, 21, 22, 23, 24, 25, 26, 27, 28, 29],\n",
       "       [30, 31, 32, 33, 34, 35, 36, 37, 38, 39],\n",
       "       [40, 41, 42, 43, 44, 45, 46, 47, 48, 49],\n",
       "       [50, 51, 52, 53, 54, 55, 56, 57, 58, 59],\n",
       "       [60, 61, 62, 63, 64, 65, 66, 67, 68, 69],\n",
       "       [70, 71, 72, 73, 74, 75, 76, 77, 78, 79],\n",
       "       [80, 81, 82, 83, 84, 85, 86, 87, 88, 89],\n",
       "       [90, 91, 92, 93, 94, 95, 96, 97, 98, 99]])"
      ]
     },
     "execution_count": 163,
     "metadata": {},
     "output_type": "execute_result"
    }
   ],
   "source": [
    "mat"
   ]
  },
  {
   "cell_type": "code",
   "execution_count": 164,
   "id": "8ae864e7-8da0-44d2-baca-c92103574611",
   "metadata": {},
   "outputs": [
    {
     "data": {
      "text/plain": [
       "array([10, 11, 12, 13, 14, 15, 16, 17, 18, 19])"
      ]
     },
     "execution_count": 164,
     "metadata": {},
     "output_type": "execute_result"
    }
   ],
   "source": [
    "mat[1] #how to print rows"
   ]
  },
  {
   "cell_type": "code",
   "execution_count": 165,
   "id": "dae7bdd4-93ac-4ac0-96a8-4bc0175d5a6f",
   "metadata": {},
   "outputs": [
    {
     "data": {
      "text/plain": [
       "array([ 5, 15, 25, 35, 45, 55, 65, 75, 85, 95])"
      ]
     },
     "execution_count": 165,
     "metadata": {},
     "output_type": "execute_result"
    }
   ],
   "source": [
    "mat[:,col] #how to print col"
   ]
  },
  {
   "cell_type": "code",
   "execution_count": 166,
   "id": "44ba0e5a-e3b3-4d36-9e30-24fac7fae37f",
   "metadata": {},
   "outputs": [
    {
     "data": {
      "text/plain": [
       "array([ 3, 13, 23, 33, 43, 53, 63, 73, 83, 93])"
      ]
     },
     "execution_count": 166,
     "metadata": {},
     "output_type": "execute_result"
    }
   ],
   "source": [
    "mat[:,3]"
   ]
  },
  {
   "cell_type": "code",
   "execution_count": 167,
   "id": "85adcef6-14d3-41d1-9636-9d6c6bde53a0",
   "metadata": {},
   "outputs": [
    {
     "data": {
      "text/plain": [
       "array([30, 31, 32, 33, 34, 35, 36, 37, 38, 39])"
      ]
     },
     "execution_count": 167,
     "metadata": {},
     "output_type": "execute_result"
    }
   ],
   "source": [
    "mat[3]"
   ]
  },
  {
   "cell_type": "code",
   "execution_count": 168,
   "id": "8b71a802-fbb0-44cc-a2d3-2eed45914d4c",
   "metadata": {},
   "outputs": [
    {
     "data": {
      "text/plain": [
       "array([[ 0,  1,  2,  3,  4,  5,  6,  7,  8,  9],\n",
       "       [10, 11, 12, 13, 14, 15, 16, 17, 18, 19],\n",
       "       [20, 21, 22, 23, 24, 25, 26, 27, 28, 29],\n",
       "       [30, 31, 32, 33, 34, 35, 36, 37, 38, 39],\n",
       "       [40, 41, 42, 43, 44, 45, 46, 47, 48, 49],\n",
       "       [50, 51, 52, 53, 54, 55, 56, 57, 58, 59],\n",
       "       [60, 61, 62, 63, 64, 65, 66, 67, 68, 69],\n",
       "       [70, 71, 72, 73, 74, 75, 76, 77, 78, 79],\n",
       "       [80, 81, 82, 83, 84, 85, 86, 87, 88, 89],\n",
       "       [90, 91, 92, 93, 94, 95, 96, 97, 98, 99]])"
      ]
     },
     "execution_count": 168,
     "metadata": {},
     "output_type": "execute_result"
    }
   ],
   "source": [
    "mat"
   ]
  },
  {
   "cell_type": "code",
   "execution_count": 169,
   "id": "2c3b1921-94cb-44af-9d77-4138ae8596b2",
   "metadata": {},
   "outputs": [
    {
     "data": {
      "text/plain": [
       "array([ 9, 19, 29, 39, 49, 59, 69, 79, 89, 99])"
      ]
     },
     "execution_count": 169,
     "metadata": {},
     "output_type": "execute_result"
    }
   ],
   "source": [
    "mat[::,-1]"
   ]
  },
  {
   "cell_type": "code",
   "execution_count": 170,
   "id": "9699b9f5-fd4c-46e9-80f5-c95c8ebe038a",
   "metadata": {},
   "outputs": [
    {
     "data": {
      "text/plain": [
       "array([[90, 91, 92, 93, 94, 95, 96, 97, 98, 99],\n",
       "       [70, 71, 72, 73, 74, 75, 76, 77, 78, 79],\n",
       "       [50, 51, 52, 53, 54, 55, 56, 57, 58, 59],\n",
       "       [30, 31, 32, 33, 34, 35, 36, 37, 38, 39],\n",
       "       [10, 11, 12, 13, 14, 15, 16, 17, 18, 19]])"
      ]
     },
     "execution_count": 170,
     "metadata": {},
     "output_type": "execute_result"
    }
   ],
   "source": [
    "mat[::-2]"
   ]
  },
  {
   "cell_type": "code",
   "execution_count": 171,
   "id": "43026ddc-053d-4a20-882d-92d3a0a6187b",
   "metadata": {},
   "outputs": [
    {
     "data": {
      "text/plain": [
       "array([[ 0,  1,  2,  3,  4,  5,  6,  7,  8,  9],\n",
       "       [10, 11, 12, 13, 14, 15, 16, 17, 18, 19],\n",
       "       [20, 21, 22, 23, 24, 25, 26, 27, 28, 29],\n",
       "       [30, 31, 32, 33, 34, 35, 36, 37, 38, 39],\n",
       "       [40, 41, 42, 43, 44, 45, 46, 47, 48, 49],\n",
       "       [50, 51, 52, 53, 54, 55, 56, 57, 58, 59],\n",
       "       [60, 61, 62, 63, 64, 65, 66, 67, 68, 69],\n",
       "       [70, 71, 72, 73, 74, 75, 76, 77, 78, 79],\n",
       "       [80, 81, 82, 83, 84, 85, 86, 87, 88, 89],\n",
       "       [90, 91, 92, 93, 94, 95, 96, 97, 98, 99]])"
      ]
     },
     "execution_count": 171,
     "metadata": {},
     "output_type": "execute_result"
    }
   ],
   "source": [
    "mat"
   ]
  },
  {
   "cell_type": "code",
   "execution_count": 172,
   "id": "ffdc322b-0deb-415a-8493-2ffaf2b6d96d",
   "metadata": {},
   "outputs": [
    {
     "data": {
      "text/plain": [
       "array([[22, 23],\n",
       "       [32, 33],\n",
       "       [42, 43],\n",
       "       [52, 53]])"
      ]
     },
     "execution_count": 172,
     "metadata": {},
     "output_type": "execute_result"
    }
   ],
   "source": [
    "mat[2:6,2:4]"
   ]
  },
  {
   "cell_type": "code",
   "execution_count": 173,
   "id": "53748126-da18-4399-a27f-d94261315da6",
   "metadata": {},
   "outputs": [
    {
     "data": {
      "text/plain": [
       "array([[ 0,  1,  2,  3,  4,  5,  6,  7,  8,  9],\n",
       "       [10, 11, 12, 13, 14, 15, 16, 17, 18, 19],\n",
       "       [20, 21, 22, 23, 24, 25, 26, 27, 28, 29],\n",
       "       [30, 31, 32, 33, 34, 35, 36, 37, 38, 39],\n",
       "       [40, 41, 42, 43, 44, 45, 46, 47, 48, 49],\n",
       "       [50, 51, 52, 53, 54, 55, 56, 57, 58, 59],\n",
       "       [60, 61, 62, 63, 64, 65, 66, 67, 68, 69],\n",
       "       [70, 71, 72, 73, 74, 75, 76, 77, 78, 79],\n",
       "       [80, 81, 82, 83, 84, 85, 86, 87, 88, 89],\n",
       "       [90, 91, 92, 93, 94, 95, 96, 97, 98, 99]])"
      ]
     },
     "execution_count": 173,
     "metadata": {},
     "output_type": "execute_result"
    }
   ],
   "source": [
    "mat"
   ]
  },
  {
   "cell_type": "code",
   "execution_count": 174,
   "id": "32ddac62-b6e6-4731-9fdb-8efa7920b2b7",
   "metadata": {},
   "outputs": [
    {
     "data": {
      "text/plain": [
       "array([[12, 13]])"
      ]
     },
     "execution_count": 174,
     "metadata": {},
     "output_type": "execute_result"
    }
   ],
   "source": [
    "mat[1:2,2:4] "
   ]
  },
  {
   "cell_type": "code",
   "execution_count": 175,
   "id": "806bc54d-2209-4eb1-b785-911839df1bf6",
   "metadata": {},
   "outputs": [
    {
     "data": {
      "text/plain": [
       "array([[32, 33],\n",
       "       [42, 43]])"
      ]
     },
     "execution_count": 175,
     "metadata": {},
     "output_type": "execute_result"
    }
   ],
   "source": [
    "mat[3:5,2:4] "
   ]
  },
  {
   "cell_type": "code",
   "execution_count": 176,
   "id": "bed9152d-0937-4f9c-8ed1-ac7e681d8f46",
   "metadata": {},
   "outputs": [],
   "source": [
    "# masking or filter"
   ]
  },
  {
   "cell_type": "code",
   "execution_count": 177,
   "id": "e6ce8d2d-d908-4d0b-a5a9-52183c39c827",
   "metadata": {},
   "outputs": [
    {
     "data": {
      "text/plain": [
       "array([[ 0,  1,  2,  3,  4,  5,  6,  7,  8,  9],\n",
       "       [10, 11, 12, 13, 14, 15, 16, 17, 18, 19],\n",
       "       [20, 21, 22, 23, 24, 25, 26, 27, 28, 29],\n",
       "       [30, 31, 32, 33, 34, 35, 36, 37, 38, 39],\n",
       "       [40, 41, 42, 43, 44, 45, 46, 47, 48, 49],\n",
       "       [50, 51, 52, 53, 54, 55, 56, 57, 58, 59],\n",
       "       [60, 61, 62, 63, 64, 65, 66, 67, 68, 69],\n",
       "       [70, 71, 72, 73, 74, 75, 76, 77, 78, 79],\n",
       "       [80, 81, 82, 83, 84, 85, 86, 87, 88, 89],\n",
       "       [90, 91, 92, 93, 94, 95, 96, 97, 98, 99]])"
      ]
     },
     "execution_count": 177,
     "metadata": {},
     "output_type": "execute_result"
    }
   ],
   "source": [
    "mat"
   ]
  },
  {
   "cell_type": "code",
   "execution_count": 178,
   "id": "12c01d74-dd14-4b0c-bb74-c573ace32810",
   "metadata": {},
   "outputs": [
    {
     "data": {
      "text/plain": [
       "array([[False, False, False, False, False, False, False, False, False,\n",
       "        False],\n",
       "       [False, False, False, False, False, False, False, False, False,\n",
       "        False],\n",
       "       [False, False, False, False, False, False, False, False, False,\n",
       "        False],\n",
       "       [False, False, False, False, False, False, False, False, False,\n",
       "        False],\n",
       "       [False, False, False, False, False, False, False, False, False,\n",
       "        False],\n",
       "       [False,  True,  True,  True,  True,  True,  True,  True,  True,\n",
       "         True],\n",
       "       [ True,  True,  True,  True,  True,  True,  True,  True,  True,\n",
       "         True],\n",
       "       [ True,  True,  True,  True,  True,  True,  True,  True,  True,\n",
       "         True],\n",
       "       [ True,  True,  True,  True,  True,  True,  True,  True,  True,\n",
       "         True],\n",
       "       [ True,  True,  True,  True,  True,  True,  True,  True,  True,\n",
       "         True]])"
      ]
     },
     "execution_count": 178,
     "metadata": {},
     "output_type": "execute_result"
    }
   ],
   "source": [
    "mat>50"
   ]
  },
  {
   "cell_type": "code",
   "execution_count": 179,
   "id": "874b11fe-46ce-4ab5-acea-087ef0c4114a",
   "metadata": {},
   "outputs": [
    {
     "data": {
      "text/plain": [
       "array([51, 52, 53, 54, 55, 56, 57, 58, 59, 60, 61, 62, 63, 64, 65, 66, 67,\n",
       "       68, 69, 70, 71, 72, 73, 74, 75, 76, 77, 78, 79, 80, 81, 82, 83, 84,\n",
       "       85, 86, 87, 88, 89, 90, 91, 92, 93, 94, 95, 96, 97, 98, 99])"
      ]
     },
     "execution_count": 179,
     "metadata": {},
     "output_type": "execute_result"
    }
   ],
   "source": [
    "mat [mat>50]"
   ]
  },
  {
   "cell_type": "code",
   "execution_count": 180,
   "id": "e57aad04-4dbf-4415-a2ee-ceb534ea737f",
   "metadata": {},
   "outputs": [
    {
     "data": {
      "text/plain": [
       "array([50, 51, 52, 53, 54, 55, 56, 57, 58, 59, 60, 61, 62, 63, 64, 65, 66,\n",
       "       67, 68, 69, 70, 71, 72, 73, 74, 75, 76, 77, 78, 79, 80, 81, 82, 83,\n",
       "       84, 85, 86, 87, 88, 89, 90, 91, 92, 93, 94, 95, 96, 97, 98, 99])"
      ]
     },
     "execution_count": 180,
     "metadata": {},
     "output_type": "execute_result"
    }
   ],
   "source": [
    "mat [mat>=50]"
   ]
  },
  {
   "cell_type": "code",
   "execution_count": 181,
   "id": "718a5c59-a749-48e1-99b7-44d3236e5d17",
   "metadata": {},
   "outputs": [
    {
     "data": {
      "text/plain": [
       "array([50])"
      ]
     },
     "execution_count": 181,
     "metadata": {},
     "output_type": "execute_result"
    }
   ],
   "source": [
    "mat [mat==50]"
   ]
  },
  {
   "cell_type": "code",
   "execution_count": 182,
   "id": "40607264-8737-4d9c-b4d2-f099d6be330b",
   "metadata": {},
   "outputs": [
    {
     "data": {
      "text/plain": [
       "array([ 0,  1,  2,  3,  4,  5,  6,  7,  8,  9, 10, 11, 12, 13, 14, 15, 16,\n",
       "       17, 18, 19, 20, 21, 22, 23, 24, 25, 26, 27, 28, 29, 30, 31, 32, 33,\n",
       "       34, 35, 36, 37, 38, 39, 40, 41, 42, 43, 44, 45, 46, 47, 48, 49])"
      ]
     },
     "execution_count": 182,
     "metadata": {},
     "output_type": "execute_result"
    }
   ],
   "source": [
    "mat [mat<50]"
   ]
  },
  {
   "cell_type": "code",
   "execution_count": 183,
   "id": "0f9d3608-670c-4e85-958f-1c07f9e43476",
   "metadata": {},
   "outputs": [
    {
     "data": {
      "text/plain": [
       "array([ 0,  1,  2,  3,  4,  5,  6,  7,  8,  9, 10, 11, 12, 13, 14, 15, 16,\n",
       "       17, 18, 19, 20, 21, 22, 23, 24, 25, 26, 27, 28, 29, 30, 31, 32, 33,\n",
       "       34, 35, 36, 37, 38, 39, 40, 41, 42, 43, 44, 45, 46, 47, 48, 49, 50])"
      ]
     },
     "execution_count": 183,
     "metadata": {},
     "output_type": "execute_result"
    }
   ],
   "source": [
    "mat [mat<=50]"
   ]
  },
  {
   "cell_type": "code",
   "execution_count": 184,
   "id": "8c53df75-d3d9-48fc-86b2-0cf4f94d1ab3",
   "metadata": {},
   "outputs": [
    {
     "data": {
      "text/plain": [
       "array([ 0,  1,  2,  3,  4,  5,  6,  7,  8,  9, 10, 11, 12, 13, 14, 15, 16,\n",
       "       17, 18, 19, 20, 21, 22, 23, 24, 25, 26, 27, 28, 29, 30, 31, 32, 33,\n",
       "       34, 35, 36, 37, 38, 39, 40, 41, 42, 43, 44, 45, 46, 47, 48, 49, 51,\n",
       "       52, 53, 54, 55, 56, 57, 58, 59, 60, 61, 62, 63, 64, 65, 66, 67, 68,\n",
       "       69, 70, 71, 72, 73, 74, 75, 76, 77, 78, 79, 80, 81, 82, 83, 84, 85,\n",
       "       86, 87, 88, 89, 90, 91, 92, 93, 94, 95, 96, 97, 98, 99])"
      ]
     },
     "execution_count": 184,
     "metadata": {},
     "output_type": "execute_result"
    }
   ],
   "source": [
    "mat [mat!=50]"
   ]
  },
  {
   "cell_type": "code",
   "execution_count": 185,
   "id": "ae6de3b3-eccd-476e-9db5-bf6e5afa2261",
   "metadata": {},
   "outputs": [
    {
     "data": {
      "text/plain": [
       "array([99])"
      ]
     },
     "execution_count": 185,
     "metadata": {},
     "output_type": "execute_result"
    }
   ],
   "source": [
    "mat [mat==99]"
   ]
  }
 ],
 "metadata": {
  "kernelspec": {
   "display_name": "Python 3 (ipykernel)",
   "language": "python",
   "name": "python3"
  },
  "language_info": {
   "codemirror_mode": {
    "name": "ipython",
    "version": 3
   },
   "file_extension": ".py",
   "mimetype": "text/x-python",
   "name": "python",
   "nbconvert_exporter": "python",
   "pygments_lexer": "ipython3",
   "version": "3.13.5"
  }
 },
 "nbformat": 4,
 "nbformat_minor": 5
}
