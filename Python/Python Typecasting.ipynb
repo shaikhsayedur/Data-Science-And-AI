{
 "cells": [
  {
   "cell_type": "markdown",
   "id": "9df05220-3888-41aa-bb6b-687c00be85d5",
   "metadata": {},
   "source": [
    "Python Typecasting"
   ]
  },
  {
   "cell_type": "markdown",
   "id": "0acf1176-a627-40b1-b550-af2dc115f771",
   "metadata": {},
   "source": [
    "#in int"
   ]
  },
  {
   "cell_type": "code",
   "execution_count": 1,
   "id": "8a09557b-84d5-4356-b395-0964a0c2efe4",
   "metadata": {},
   "outputs": [
    {
     "data": {
      "text/plain": [
       "3"
      ]
     },
     "execution_count": 1,
     "metadata": {},
     "output_type": "execute_result"
    }
   ],
   "source": [
    "int(3.4) # floating value into integer are possible"
   ]
  },
  {
   "cell_type": "code",
   "execution_count": 2,
   "id": "080f2d59-a4de-4dc1-b3a1-7ba505933551",
   "metadata": {},
   "outputs": [
    {
     "ename": "TypeError",
     "evalue": "'float' object cannot be interpreted as an integer",
     "output_type": "error",
     "traceback": [
      "\u001b[1;31m---------------------------------------------------------------------------\u001b[0m",
      "\u001b[1;31mTypeError\u001b[0m                                 Traceback (most recent call last)",
      "Cell \u001b[1;32mIn[2], line 1\u001b[0m\n\u001b[1;32m----> 1\u001b[0m \u001b[38;5;28mint\u001b[39m(\u001b[38;5;241m3.4\u001b[39m,\u001b[38;5;241m3.1\u001b[39m)\n",
      "\u001b[1;31mTypeError\u001b[0m: 'float' object cannot be interpreted as an integer"
     ]
    }
   ],
   "source": [
    "int(3.4,3.1) # error because of two arguments"
   ]
  },
  {
   "cell_type": "code",
   "execution_count": 3,
   "id": "70a11642-3c0a-4967-af4a-6b782adad2fa",
   "metadata": {},
   "outputs": [
    {
     "data": {
      "text/plain": [
       "1"
      ]
     },
     "execution_count": 3,
     "metadata": {},
     "output_type": "execute_result"
    }
   ],
   "source": [
    "int(True) # boolean into integer are possible"
   ]
  },
  {
   "cell_type": "code",
   "execution_count": 4,
   "id": "79e470d7-4173-44f4-bccf-e90daf0e0e14",
   "metadata": {},
   "outputs": [
    {
     "ename": "TypeError",
     "evalue": "int() argument must be a string, a bytes-like object or a real number, not 'complex'",
     "output_type": "error",
     "traceback": [
      "\u001b[1;31m---------------------------------------------------------------------------\u001b[0m",
      "\u001b[1;31mTypeError\u001b[0m                                 Traceback (most recent call last)",
      "Cell \u001b[1;32mIn[4], line 1\u001b[0m\n\u001b[1;32m----> 1\u001b[0m \u001b[38;5;28mint\u001b[39m(\u001b[38;5;241m1\u001b[39m\u001b[38;5;241m+\u001b[39m\u001b[38;5;241m2\u001b[39mj)\n",
      "\u001b[1;31mTypeError\u001b[0m: int() argument must be a string, a bytes-like object or a real number, not 'complex'"
     ]
    }
   ],
   "source": [
    "int(1+2j) # error because complex value into integer are not possible"
   ]
  },
  {
   "cell_type": "code",
   "execution_count": 5,
   "id": "20d6f8c9-be15-43f2-bfc7-bdeff32adc4a",
   "metadata": {},
   "outputs": [
    {
     "data": {
      "text/plain": [
       "10"
      ]
     },
     "execution_count": 5,
     "metadata": {},
     "output_type": "execute_result"
    }
   ],
   "source": [
    "int('10') # possible"
   ]
  },
  {
   "cell_type": "code",
   "execution_count": 6,
   "id": "73eb20ca-d8d2-48d8-8f7d-1e016f869fb5",
   "metadata": {},
   "outputs": [
    {
     "ename": "ValueError",
     "evalue": "invalid literal for int() with base 10: 'ten'",
     "output_type": "error",
     "traceback": [
      "\u001b[1;31m---------------------------------------------------------------------------\u001b[0m",
      "\u001b[1;31mValueError\u001b[0m                                Traceback (most recent call last)",
      "Cell \u001b[1;32mIn[6], line 1\u001b[0m\n\u001b[1;32m----> 1\u001b[0m \u001b[38;5;28mint\u001b[39m(\u001b[38;5;124m'\u001b[39m\u001b[38;5;124mten\u001b[39m\u001b[38;5;124m'\u001b[39m)\n",
      "\u001b[1;31mValueError\u001b[0m: invalid literal for int() with base 10: 'ten'"
     ]
    }
   ],
   "source": [
    "int('ten') #error because string with text into integer are not possible in type casting"
   ]
  },
  {
   "cell_type": "markdown",
   "id": "9b29b08b-15c5-4c89-8a65-97cf95da6789",
   "metadata": {},
   "source": [
    "#In Float"
   ]
  },
  {
   "cell_type": "code",
   "execution_count": 7,
   "id": "f082f570-9faf-4ceb-8213-36d278677785",
   "metadata": {},
   "outputs": [
    {
     "data": {
      "text/plain": [
       "23.0"
      ]
     },
     "execution_count": 7,
     "metadata": {},
     "output_type": "execute_result"
    }
   ],
   "source": [
    "float(23) # possible"
   ]
  },
  {
   "cell_type": "code",
   "execution_count": 8,
   "id": "d645b057-e61a-4d7c-b13d-3f3500a64a9d",
   "metadata": {},
   "outputs": [
    {
     "data": {
      "text/plain": [
       "1.0"
      ]
     },
     "execution_count": 8,
     "metadata": {},
     "output_type": "execute_result"
    }
   ],
   "source": [
    "float(True) # possible"
   ]
  },
  {
   "cell_type": "code",
   "execution_count": 9,
   "id": "1dc554a4-ca76-487c-b7e3-be49f6aedbad",
   "metadata": {},
   "outputs": [
    {
     "data": {
      "text/plain": [
       "0.0"
      ]
     },
     "execution_count": 9,
     "metadata": {},
     "output_type": "execute_result"
    }
   ],
   "source": [
    "float(False) # possible"
   ]
  },
  {
   "cell_type": "code",
   "execution_count": 10,
   "id": "6e009087-e97a-4106-8606-6bac4de30b51",
   "metadata": {},
   "outputs": [
    {
     "ename": "TypeError",
     "evalue": "float() argument must be a string or a real number, not 'complex'",
     "output_type": "error",
     "traceback": [
      "\u001b[1;31m---------------------------------------------------------------------------\u001b[0m",
      "\u001b[1;31mTypeError\u001b[0m                                 Traceback (most recent call last)",
      "Cell \u001b[1;32mIn[10], line 1\u001b[0m\n\u001b[1;32m----> 1\u001b[0m \u001b[38;5;28mfloat\u001b[39m(\u001b[38;5;241m1\u001b[39m\u001b[38;5;241m+\u001b[39m\u001b[38;5;241m2\u001b[39mj)\n",
      "\u001b[1;31mTypeError\u001b[0m: float() argument must be a string or a real number, not 'complex'"
     ]
    }
   ],
   "source": [
    "float(1+2j) # error because complex into float are not possible in type casting"
   ]
  },
  {
   "cell_type": "code",
   "execution_count": 11,
   "id": "73eca756-e363-4404-8eec-ce513eab0856",
   "metadata": {},
   "outputs": [
    {
     "data": {
      "text/plain": [
       "10.0"
      ]
     },
     "execution_count": 11,
     "metadata": {},
     "output_type": "execute_result"
    }
   ],
   "source": [
    "float('10') # possible"
   ]
  },
  {
   "cell_type": "code",
   "execution_count": 12,
   "id": "235defac-8fb0-4b31-a646-2218b8ddc57f",
   "metadata": {},
   "outputs": [
    {
     "ename": "ValueError",
     "evalue": "could not convert string to float: 'ten'",
     "output_type": "error",
     "traceback": [
      "\u001b[1;31m---------------------------------------------------------------------------\u001b[0m",
      "\u001b[1;31mValueError\u001b[0m                                Traceback (most recent call last)",
      "Cell \u001b[1;32mIn[12], line 1\u001b[0m\n\u001b[1;32m----> 1\u001b[0m \u001b[38;5;28mfloat\u001b[39m(\u001b[38;5;124m'\u001b[39m\u001b[38;5;124mten\u001b[39m\u001b[38;5;124m'\u001b[39m)\n",
      "\u001b[1;31mValueError\u001b[0m: could not convert string to float: 'ten'"
     ]
    }
   ],
   "source": [
    "float('ten') # error because string with text into float are not possible "
   ]
  },
  {
   "cell_type": "markdown",
   "id": "8813e9b6-61a1-47ac-9751-4da839b98899",
   "metadata": {},
   "source": [
    "#In Complex"
   ]
  },
  {
   "cell_type": "code",
   "execution_count": 13,
   "id": "808c855d-cc70-4ba9-94f3-872717f0e5a2",
   "metadata": {},
   "outputs": [
    {
     "data": {
      "text/plain": [
       "(10+0j)"
      ]
     },
     "execution_count": 13,
     "metadata": {},
     "output_type": "execute_result"
    }
   ],
   "source": [
    "complex(10) #possible"
   ]
  },
  {
   "cell_type": "code",
   "execution_count": 14,
   "id": "a1850e35-d1b4-4228-b100-d6f5b6df65ae",
   "metadata": {},
   "outputs": [
    {
     "data": {
      "text/plain": [
       "(10+20j)"
      ]
     },
     "execution_count": 14,
     "metadata": {},
     "output_type": "execute_result"
    }
   ],
   "source": [
    "complex(10,20) #possible"
   ]
  },
  {
   "cell_type": "code",
   "execution_count": 15,
   "id": "c0cbcebd-2537-48b5-9338-3400b227029f",
   "metadata": {},
   "outputs": [
    {
     "ename": "TypeError",
     "evalue": "complex() takes at most 2 arguments (3 given)",
     "output_type": "error",
     "traceback": [
      "\u001b[1;31m---------------------------------------------------------------------------\u001b[0m",
      "\u001b[1;31mTypeError\u001b[0m                                 Traceback (most recent call last)",
      "Cell \u001b[1;32mIn[15], line 1\u001b[0m\n\u001b[1;32m----> 1\u001b[0m \u001b[38;5;28mcomplex\u001b[39m(\u001b[38;5;241m10\u001b[39m,\u001b[38;5;241m20\u001b[39m,\u001b[38;5;241m30\u001b[39m)\n",
      "\u001b[1;31mTypeError\u001b[0m: complex() takes at most 2 arguments (3 given)"
     ]
    }
   ],
   "source": [
    "complex(10,20,30) #error because of three arguments"
   ]
  },
  {
   "cell_type": "code",
   "execution_count": 16,
   "id": "4e5501af-b669-4a23-b317-07ba2cb60af4",
   "metadata": {},
   "outputs": [
    {
     "data": {
      "text/plain": [
       "(3.4+0j)"
      ]
     },
     "execution_count": 16,
     "metadata": {},
     "output_type": "execute_result"
    }
   ],
   "source": [
    "complex(3.4) #possible"
   ]
  },
  {
   "cell_type": "code",
   "execution_count": 17,
   "id": "b28d7d7d-f51f-47e6-9098-024f600d976f",
   "metadata": {},
   "outputs": [
    {
     "data": {
      "text/plain": [
       "(3.4+34j)"
      ]
     },
     "execution_count": 17,
     "metadata": {},
     "output_type": "execute_result"
    }
   ],
   "source": [
    "complex(3.4,34) #possible"
   ]
  },
  {
   "cell_type": "code",
   "execution_count": 18,
   "id": "acb3ad5a-c569-418d-882d-941bb3c705bd",
   "metadata": {},
   "outputs": [
    {
     "data": {
      "text/plain": [
       "(1+0j)"
      ]
     },
     "execution_count": 18,
     "metadata": {},
     "output_type": "execute_result"
    }
   ],
   "source": [
    "complex(True,False) #possible"
   ]
  },
  {
   "cell_type": "markdown",
   "id": "9dab2715-8565-45b3-ace1-3a6750c14447",
   "metadata": {},
   "source": [
    "#In Boolean"
   ]
  },
  {
   "cell_type": "code",
   "execution_count": 19,
   "id": "8c1b1e0e-0ba6-4711-971e-45482bc16ab5",
   "metadata": {},
   "outputs": [
    {
     "data": {
      "text/plain": [
       "True"
      ]
     },
     "execution_count": 19,
     "metadata": {},
     "output_type": "execute_result"
    }
   ],
   "source": [
    "bool(1) #possible"
   ]
  },
  {
   "cell_type": "code",
   "execution_count": 20,
   "id": "54add604-2273-4309-b7ec-77311ebdfda3",
   "metadata": {},
   "outputs": [
    {
     "data": {
      "text/plain": [
       "False"
      ]
     },
     "execution_count": 20,
     "metadata": {},
     "output_type": "execute_result"
    }
   ],
   "source": [
    "bool(0) #possible"
   ]
  },
  {
   "cell_type": "code",
   "execution_count": 21,
   "id": "194e804b-2725-4c9c-b715-54519bf23435",
   "metadata": {},
   "outputs": [
    {
     "data": {
      "text/plain": [
       "False"
      ]
     },
     "execution_count": 21,
     "metadata": {},
     "output_type": "execute_result"
    }
   ],
   "source": [
    "bool() #possible"
   ]
  },
  {
   "cell_type": "code",
   "execution_count": 22,
   "id": "647600d0-b465-4bec-a889-f1039f28f393",
   "metadata": {},
   "outputs": [
    {
     "data": {
      "text/plain": [
       "True"
      ]
     },
     "execution_count": 22,
     "metadata": {},
     "output_type": "execute_result"
    }
   ],
   "source": [
    "bool(1+2j) # it is also possible"
   ]
  },
  {
   "cell_type": "code",
   "execution_count": 23,
   "id": "19451d20-6cba-4dc9-af9f-0f989ae9948d",
   "metadata": {},
   "outputs": [
    {
     "data": {
      "text/plain": [
       "True"
      ]
     },
     "execution_count": 23,
     "metadata": {},
     "output_type": "execute_result"
    }
   ],
   "source": [
    "bool('ten') # possible"
   ]
  },
  {
   "cell_type": "code",
   "execution_count": null,
   "id": "20294b0d-b523-4e05-a920-f0d5be3e102e",
   "metadata": {},
   "outputs": [],
   "source": []
  }
 ],
 "metadata": {
  "kernelspec": {
   "display_name": "Python 3 (ipykernel)",
   "language": "python",
   "name": "python3"
  },
  "language_info": {
   "codemirror_mode": {
    "name": "ipython",
    "version": 3
   },
   "file_extension": ".py",
   "mimetype": "text/x-python",
   "name": "python",
   "nbconvert_exporter": "python",
   "pygments_lexer": "ipython3",
   "version": "3.13.5"
  }
 },
 "nbformat": 4,
 "nbformat_minor": 5
}
