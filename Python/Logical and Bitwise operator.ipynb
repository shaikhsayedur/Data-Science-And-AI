{
 "cells": [
  {
   "cell_type": "code",
   "execution_count": 91,
   "id": "46cd04a1-dcf2-45b0-83de-dffaac56c5a4",
   "metadata": {},
   "outputs": [],
   "source": [
    "a=5 #logical operator\n",
    "b=4\n"
   ]
  },
  {
   "cell_type": "code",
   "execution_count": 92,
   "id": "474a2771-49f9-45e6-b00d-a8935a209818",
   "metadata": {},
   "outputs": [
    {
     "data": {
      "text/plain": [
       "True"
      ]
     },
     "execution_count": 92,
     "metadata": {},
     "output_type": "execute_result"
    }
   ],
   "source": [
    "a<8 and b<5  #refer to truth table"
   ]
  },
  {
   "cell_type": "code",
   "execution_count": 93,
   "id": "5ff3af9d-0cdd-4544-80dd-73e190eb4601",
   "metadata": {},
   "outputs": [
    {
     "data": {
      "text/plain": [
       "False"
      ]
     },
     "execution_count": 93,
     "metadata": {},
     "output_type": "execute_result"
    }
   ],
   "source": [
    "a<8 and b<2"
   ]
  },
  {
   "cell_type": "code",
   "execution_count": 94,
   "id": "dd5a67a8-b179-4cbd-ac87-3630ec98d87f",
   "metadata": {},
   "outputs": [
    {
     "data": {
      "text/plain": [
       "True"
      ]
     },
     "execution_count": 94,
     "metadata": {},
     "output_type": "execute_result"
    }
   ],
   "source": [
    "a<8 or b<2 "
   ]
  },
  {
   "cell_type": "code",
   "execution_count": 95,
   "id": "d305f211-111f-4fa9-bfb0-df3d3c6384fd",
   "metadata": {},
   "outputs": [
    {
     "data": {
      "text/plain": [
       "False"
      ]
     },
     "execution_count": 95,
     "metadata": {},
     "output_type": "execute_result"
    }
   ],
   "source": [
    "a>8 or b<2"
   ]
  },
  {
   "cell_type": "code",
   "execution_count": 96,
   "id": "1bbeaed6-1531-46ca-a6f3-2ab92a3e3081",
   "metadata": {},
   "outputs": [
    {
     "data": {
      "text/plain": [
       "False"
      ]
     },
     "execution_count": 96,
     "metadata": {},
     "output_type": "execute_result"
    }
   ],
   "source": [
    "x = False\n",
    "x"
   ]
  },
  {
   "cell_type": "code",
   "execution_count": 97,
   "id": "b4fcfaef-0fed-4d29-a1c1-1164a39ae5c1",
   "metadata": {},
   "outputs": [
    {
     "data": {
      "text/plain": [
       "True"
      ]
     },
     "execution_count": 97,
     "metadata": {},
     "output_type": "execute_result"
    }
   ],
   "source": [
    "not x #you can reverse the operation"
   ]
  },
  {
   "cell_type": "code",
   "execution_count": 98,
   "id": "418a5889-2265-43a2-bc1e-3cffb5f327da",
   "metadata": {},
   "outputs": [
    {
     "data": {
      "text/plain": [
       "True"
      ]
     },
     "execution_count": 98,
     "metadata": {},
     "output_type": "execute_result"
    }
   ],
   "source": [
    "x =not x\n",
    "x"
   ]
  },
  {
   "cell_type": "code",
   "execution_count": 99,
   "id": "ddff7c40-23c4-43d3-8c1f-dd7e18a6e9fc",
   "metadata": {},
   "outputs": [
    {
     "data": {
      "text/plain": [
       "True"
      ]
     },
     "execution_count": 99,
     "metadata": {},
     "output_type": "execute_result"
    }
   ],
   "source": [
    "x"
   ]
  },
  {
   "cell_type": "code",
   "execution_count": 100,
   "id": "8cddc5a3-2769-461f-b849-8cf82d4cdf47",
   "metadata": {},
   "outputs": [
    {
     "data": {
      "text/plain": [
       "False"
      ]
     },
     "execution_count": 100,
     "metadata": {},
     "output_type": "execute_result"
    }
   ],
   "source": [
    "not x"
   ]
  },
  {
   "cell_type": "code",
   "execution_count": 101,
   "id": "87651086-c744-4ea9-b16f-358316265fea",
   "metadata": {},
   "outputs": [],
   "source": [
    "#number system divide into 4 parts"
   ]
  },
  {
   "cell_type": "code",
   "execution_count": 102,
   "id": "d190d291-83cd-42bb-b1b4-f30c54b35017",
   "metadata": {},
   "outputs": [],
   "source": [
    "#binary = 2 (0b) 1-2"
   ]
  },
  {
   "cell_type": "code",
   "execution_count": 103,
   "id": "e259f3fb-d430-4875-aa40-61ff5cadad09",
   "metadata": {},
   "outputs": [],
   "source": [
    "#octal =8(0o) 0-7"
   ]
  },
  {
   "cell_type": "code",
   "execution_count": 104,
   "id": "ca48fe34-0908-49c3-81d9-304eac705a4e",
   "metadata": {},
   "outputs": [],
   "source": [
    "#decimal= base 10 (0x) 0-9"
   ]
  },
  {
   "cell_type": "code",
   "execution_count": 105,
   "id": "607303ec-5e26-4c5e-8543-101259854631",
   "metadata": {},
   "outputs": [],
   "source": [
    "#hexadecimal =base 16 (0xa,b,c,d,e,f) 0-9 a-f"
   ]
  },
  {
   "cell_type": "code",
   "execution_count": 106,
   "id": "db5ddd74-37db-4da1-b97f-70263240d250",
   "metadata": {},
   "outputs": [
    {
     "data": {
      "text/plain": [
       "25"
      ]
     },
     "execution_count": 106,
     "metadata": {},
     "output_type": "execute_result"
    }
   ],
   "source": [
    "25"
   ]
  },
  {
   "cell_type": "code",
   "execution_count": 107,
   "id": "18f43c43-4653-4fac-ba72-a394f39b8419",
   "metadata": {},
   "outputs": [
    {
     "data": {
      "text/plain": [
       "'0b11001'"
      ]
     },
     "execution_count": 107,
     "metadata": {},
     "output_type": "execute_result"
    }
   ],
   "source": [
    "bin(25)"
   ]
  },
  {
   "cell_type": "code",
   "execution_count": 108,
   "id": "74ce2c5e-eb98-4fc6-a252-c8be7c84a2a7",
   "metadata": {},
   "outputs": [
    {
     "data": {
      "text/plain": [
       "25"
      ]
     },
     "execution_count": 108,
     "metadata": {},
     "output_type": "execute_result"
    }
   ],
   "source": [
    "int(0b11001)"
   ]
  },
  {
   "cell_type": "code",
   "execution_count": 109,
   "id": "7ffc0e71-32c5-4aee-9482-ca2eadd4e06e",
   "metadata": {},
   "outputs": [
    {
     "data": {
      "text/plain": [
       "'0b11110'"
      ]
     },
     "execution_count": 109,
     "metadata": {},
     "output_type": "execute_result"
    }
   ],
   "source": [
    "bin(30)"
   ]
  },
  {
   "cell_type": "code",
   "execution_count": 110,
   "id": "fedfe2aa-3215-422c-885b-7a65b46bef4a",
   "metadata": {},
   "outputs": [
    {
     "data": {
      "text/plain": [
       "30"
      ]
     },
     "execution_count": 110,
     "metadata": {},
     "output_type": "execute_result"
    }
   ],
   "source": [
    "int(0b11110)"
   ]
  },
  {
   "cell_type": "code",
   "execution_count": 111,
   "id": "c9920547-bb1f-4b57-a69c-4d627152f436",
   "metadata": {},
   "outputs": [
    {
     "data": {
      "text/plain": [
       "'0o31'"
      ]
     },
     "execution_count": 111,
     "metadata": {},
     "output_type": "execute_result"
    }
   ],
   "source": [
    "oct(25)"
   ]
  },
  {
   "cell_type": "code",
   "execution_count": 112,
   "id": "728eeb74-2fad-4516-852e-fa917a71c670",
   "metadata": {},
   "outputs": [
    {
     "data": {
      "text/plain": [
       "25"
      ]
     },
     "execution_count": 112,
     "metadata": {},
     "output_type": "execute_result"
    }
   ],
   "source": [
    "int(0o31)"
   ]
  },
  {
   "cell_type": "code",
   "execution_count": 113,
   "id": "bd47deb9-d372-41df-91f2-cbd6b6048989",
   "metadata": {},
   "outputs": [
    {
     "data": {
      "text/plain": [
       "30"
      ]
     },
     "execution_count": 113,
     "metadata": {},
     "output_type": "execute_result"
    }
   ],
   "source": [
    "int(0b11110)"
   ]
  },
  {
   "cell_type": "code",
   "execution_count": 114,
   "id": "3ddd7284-06ab-4e71-a662-2db044606be3",
   "metadata": {},
   "outputs": [
    {
     "data": {
      "text/plain": [
       "25"
      ]
     },
     "execution_count": 114,
     "metadata": {},
     "output_type": "execute_result"
    }
   ],
   "source": [
    "0o31"
   ]
  },
  {
   "cell_type": "code",
   "execution_count": 115,
   "id": "39ea0af8-31ed-448f-b894-188854087c41",
   "metadata": {},
   "outputs": [
    {
     "data": {
      "text/plain": [
       "'0b111'"
      ]
     },
     "execution_count": 115,
     "metadata": {},
     "output_type": "execute_result"
    }
   ],
   "source": [
    "bin(7)"
   ]
  },
  {
   "cell_type": "code",
   "execution_count": 116,
   "id": "d35009a5-ff53-4f4e-a580-2f62df199500",
   "metadata": {},
   "outputs": [
    {
     "data": {
      "text/plain": [
       "7"
      ]
     },
     "execution_count": 116,
     "metadata": {},
     "output_type": "execute_result"
    }
   ],
   "source": [
    "int(0b111)"
   ]
  },
  {
   "cell_type": "code",
   "execution_count": 117,
   "id": "4a612c0a-f05c-4aaf-a18c-c610130ae5de",
   "metadata": {},
   "outputs": [
    {
     "data": {
      "text/plain": [
       "'0xa'"
      ]
     },
     "execution_count": 117,
     "metadata": {},
     "output_type": "execute_result"
    }
   ],
   "source": [
    "#hexadecimal number system\n",
    "hex(10)"
   ]
  },
  {
   "cell_type": "code",
   "execution_count": 118,
   "id": "57048acd-9f87-40bb-928a-f2867eff6de2",
   "metadata": {},
   "outputs": [
    {
     "data": {
      "text/plain": [
       "'0xb'"
      ]
     },
     "execution_count": 118,
     "metadata": {},
     "output_type": "execute_result"
    }
   ],
   "source": [
    "hex(11)"
   ]
  },
  {
   "cell_type": "code",
   "execution_count": 119,
   "id": "53fa5494-aa18-480f-a294-2f02dc1349a9",
   "metadata": {},
   "outputs": [
    {
     "data": {
      "text/plain": [
       "'0x100'"
      ]
     },
     "execution_count": 119,
     "metadata": {},
     "output_type": "execute_result"
    }
   ],
   "source": [
    "hex(256)"
   ]
  },
  {
   "cell_type": "code",
   "execution_count": 120,
   "id": "dbe68e7a-9a77-4941-b2b3-eefc5b514999",
   "metadata": {},
   "outputs": [
    {
     "data": {
      "text/plain": [
       "25"
      ]
     },
     "execution_count": 120,
     "metadata": {},
     "output_type": "execute_result"
    }
   ],
   "source": [
    "0x19"
   ]
  },
  {
   "cell_type": "code",
   "execution_count": 121,
   "id": "cc797032-c7ca-4dc9-b0af-629e5073c077",
   "metadata": {},
   "outputs": [
    {
     "data": {
      "text/plain": [
       "21"
      ]
     },
     "execution_count": 121,
     "metadata": {},
     "output_type": "execute_result"
    }
   ],
   "source": [
    "0x15"
   ]
  },
  {
   "cell_type": "code",
   "execution_count": 122,
   "id": "01676c24-3f3c-44e6-b874-1e49cbec9689",
   "metadata": {},
   "outputs": [],
   "source": [
    "#swap two varibales in python"
   ]
  },
  {
   "cell_type": "code",
   "execution_count": 123,
   "id": "dd51414e-33f5-4868-bf2a-8c34ccf71563",
   "metadata": {},
   "outputs": [],
   "source": [
    "a=5\n",
    "b=6\n"
   ]
  },
  {
   "cell_type": "code",
   "execution_count": 124,
   "id": "e254aa2e-cf5e-4e3b-9cfd-00ae275e8b1c",
   "metadata": {},
   "outputs": [],
   "source": [
    "a=b\n",
    "b=a"
   ]
  },
  {
   "cell_type": "code",
   "execution_count": 125,
   "id": "ecf3370f-3181-4306-8623-69e9159c3e34",
   "metadata": {},
   "outputs": [
    {
     "name": "stdout",
     "output_type": "stream",
     "text": [
      "6\n",
      "6\n"
     ]
    }
   ],
   "source": [
    "print(a)\n",
    "print(b)"
   ]
  },
  {
   "cell_type": "code",
   "execution_count": 126,
   "id": "bc080483-7096-4158-9b4f-fcd6774ad742",
   "metadata": {},
   "outputs": [],
   "source": [
    "a1=7\n",
    "b1=8"
   ]
  },
  {
   "cell_type": "code",
   "execution_count": 127,
   "id": "1a2036c4-4ba8-41f8-87de-e37952af1d4f",
   "metadata": {},
   "outputs": [],
   "source": [
    "temp=a1\n",
    "a1=b1\n",
    "b1=temp"
   ]
  },
  {
   "cell_type": "code",
   "execution_count": 128,
   "id": "edd9952c-784c-4902-96f8-69f7df5acc70",
   "metadata": {},
   "outputs": [
    {
     "name": "stdout",
     "output_type": "stream",
     "text": [
      "8\n",
      "7\n"
     ]
    }
   ],
   "source": [
    "print(a1)\n",
    "print(b1)"
   ]
  },
  {
   "cell_type": "code",
   "execution_count": 129,
   "id": "e7a26b06-611c-4070-8be0-5eb2445025f8",
   "metadata": {},
   "outputs": [],
   "source": [
    "#swap variables using third variable"
   ]
  },
  {
   "cell_type": "code",
   "execution_count": 130,
   "id": "bfbcb033-6c24-48f6-b1ed-0a2716a71433",
   "metadata": {},
   "outputs": [],
   "source": [
    "a2=5\n",
    "b2=6"
   ]
  },
  {
   "cell_type": "code",
   "execution_count": 131,
   "id": "0d7ec36a-bfd3-4676-b5a4-ec832682743b",
   "metadata": {},
   "outputs": [],
   "source": [
    "a2=a2+b2\n",
    "b2=a2-b2\n",
    "a2=a2-b2"
   ]
  },
  {
   "cell_type": "code",
   "execution_count": 132,
   "id": "d203e8eb-1391-45d1-9f49-781914a0a75c",
   "metadata": {},
   "outputs": [
    {
     "name": "stdout",
     "output_type": "stream",
     "text": [
      "6\n",
      "5\n"
     ]
    }
   ],
   "source": [
    "print(a2)\n",
    "print(b2)"
   ]
  },
  {
   "cell_type": "code",
   "execution_count": 133,
   "id": "72613607-a29e-46fe-8ef2-d14285699055",
   "metadata": {},
   "outputs": [
    {
     "data": {
      "text/plain": [
       "6"
      ]
     },
     "execution_count": 133,
     "metadata": {},
     "output_type": "execute_result"
    }
   ],
   "source": [
    "0b110\n"
   ]
  },
  {
   "cell_type": "code",
   "execution_count": 134,
   "id": "4058c0be-f779-4679-9349-f5b0a743bd8b",
   "metadata": {},
   "outputs": [
    {
     "data": {
      "text/plain": [
       "5"
      ]
     },
     "execution_count": 134,
     "metadata": {},
     "output_type": "execute_result"
    }
   ],
   "source": [
    "0b101"
   ]
  },
  {
   "cell_type": "code",
   "execution_count": 135,
   "id": "8f9c2693-04d7-48d1-88b2-4935de9b981c",
   "metadata": {},
   "outputs": [
    {
     "name": "stdout",
     "output_type": "stream",
     "text": [
      "6\n",
      "5\n"
     ]
    }
   ],
   "source": [
    "print(0b110)\n",
    "print(0b101)"
   ]
  },
  {
   "cell_type": "code",
   "execution_count": 136,
   "id": "4f4f5316-3b4b-420c-8214-385164167b63",
   "metadata": {},
   "outputs": [
    {
     "name": "stdout",
     "output_type": "stream",
     "text": [
      "5\n",
      "6\n"
     ]
    }
   ],
   "source": [
    "print(0b101)\n",
    "print(0b110)"
   ]
  },
  {
   "cell_type": "code",
   "execution_count": 137,
   "id": "5ec0d5e2-cf85-4aff-9531-a5da6488a94d",
   "metadata": {},
   "outputs": [
    {
     "name": "stdout",
     "output_type": "stream",
     "text": [
      "0b1011\n",
      "11\n"
     ]
    }
   ],
   "source": [
    "print(bin(11))\n",
    "print(0b1011)"
   ]
  },
  {
   "cell_type": "code",
   "execution_count": 138,
   "id": "c68b7965-ee3f-42fa-ab47-00851c8c0914",
   "metadata": {},
   "outputs": [
    {
     "name": "stdout",
     "output_type": "stream",
     "text": [
      "6\n",
      "5\n"
     ]
    }
   ],
   "source": [
    "print(a2)\n",
    "print(b2)"
   ]
  },
  {
   "cell_type": "code",
   "execution_count": 139,
   "id": "ae7a4f2c-f297-4a0c-85bc-1fdb1f1261ac",
   "metadata": {},
   "outputs": [],
   "source": [
    "a2=a2^b2\n",
    "b2=a2^b2\n",
    "a2=a2^b2"
   ]
  },
  {
   "cell_type": "code",
   "execution_count": 140,
   "id": "8b2d856c-48f8-46e1-ba49-1bcdccad667c",
   "metadata": {},
   "outputs": [
    {
     "name": "stdout",
     "output_type": "stream",
     "text": [
      "5\n",
      "6\n"
     ]
    }
   ],
   "source": [
    "print(a2)\n",
    "print(b2)"
   ]
  },
  {
   "cell_type": "code",
   "execution_count": 141,
   "id": "de0e3d08-f49d-4f98-a50c-4e80c6f22d74",
   "metadata": {},
   "outputs": [
    {
     "data": {
      "text/plain": [
       "(5, 6)"
      ]
     },
     "execution_count": 141,
     "metadata": {},
     "output_type": "execute_result"
    }
   ],
   "source": [
    "a2,b2"
   ]
  },
  {
   "cell_type": "code",
   "execution_count": 142,
   "id": "2d76749e-3805-430c-b3c4-5155d24647d0",
   "metadata": {},
   "outputs": [],
   "source": [
    "a2,b2=b2,a2"
   ]
  },
  {
   "cell_type": "code",
   "execution_count": 143,
   "id": "2c301be7-70be-43c8-b153-0d7d508386b7",
   "metadata": {},
   "outputs": [
    {
     "name": "stdout",
     "output_type": "stream",
     "text": [
      "6\n",
      "5\n"
     ]
    }
   ],
   "source": [
    "print(a2)\n",
    "print(b2)"
   ]
  },
  {
   "cell_type": "code",
   "execution_count": 144,
   "id": "b3eab6d1-05a1-40a8-8282-7a7658e42291",
   "metadata": {},
   "outputs": [
    {
     "name": "stdout",
     "output_type": "stream",
     "text": [
      "0b1100\n"
     ]
    }
   ],
   "source": [
    "print(bin(12)) #bitwise operaror"
   ]
  },
  {
   "cell_type": "code",
   "execution_count": 145,
   "id": "2a30fb5b-9f18-4695-a13d-e3b6eb8cb870",
   "metadata": {},
   "outputs": [
    {
     "data": {
      "text/plain": [
       "-13"
      ]
     },
     "execution_count": 145,
     "metadata": {},
     "output_type": "execute_result"
    }
   ],
   "source": [
    "~12 #compliment"
   ]
  },
  {
   "cell_type": "code",
   "execution_count": 146,
   "id": "668a0716-0887-4037-981c-d4a666922956",
   "metadata": {},
   "outputs": [
    {
     "data": {
      "text/plain": [
       "-47"
      ]
     },
     "execution_count": 146,
     "metadata": {},
     "output_type": "execute_result"
    }
   ],
   "source": [
    "~46"
   ]
  },
  {
   "cell_type": "code",
   "execution_count": 147,
   "id": "cff9a7e5-c566-4876-95f7-a60b0e256965",
   "metadata": {},
   "outputs": [
    {
     "data": {
      "text/plain": [
       "-55"
      ]
     },
     "execution_count": 147,
     "metadata": {},
     "output_type": "execute_result"
    }
   ],
   "source": [
    "~54"
   ]
  },
  {
   "cell_type": "code",
   "execution_count": 148,
   "id": "94aa9691-7782-4fcc-99cc-38430be1fd09",
   "metadata": {},
   "outputs": [
    {
     "data": {
      "text/plain": [
       "-11"
      ]
     },
     "execution_count": 148,
     "metadata": {},
     "output_type": "execute_result"
    }
   ],
   "source": [
    "~10"
   ]
  },
  {
   "cell_type": "code",
   "execution_count": 149,
   "id": "219f28bc-a11b-42c0-a00d-be2d00ca57ab",
   "metadata": {},
   "outputs": [
    {
     "data": {
      "text/plain": [
       "-53"
      ]
     },
     "execution_count": 149,
     "metadata": {},
     "output_type": "execute_result"
    }
   ],
   "source": [
    "~52"
   ]
  },
  {
   "cell_type": "code",
   "execution_count": null,
   "id": "68a661cf-ed2c-4112-9098-f8af27be18a5",
   "metadata": {},
   "outputs": [],
   "source": []
  },
  {
   "cell_type": "code",
   "execution_count": 150,
   "id": "e2eb9e3b-03f6-4e9e-8d9d-d2cba004dd83",
   "metadata": {},
   "outputs": [
    {
     "data": {
      "text/plain": [
       "12"
      ]
     },
     "execution_count": 150,
     "metadata": {},
     "output_type": "execute_result"
    }
   ],
   "source": [
    "12&13"
   ]
  },
  {
   "cell_type": "code",
   "execution_count": 151,
   "id": "1c022bb7-76e9-4122-85ad-257d4ed01691",
   "metadata": {},
   "outputs": [
    {
     "data": {
      "text/plain": [
       "13"
      ]
     },
     "execution_count": 151,
     "metadata": {},
     "output_type": "execute_result"
    }
   ],
   "source": [
    "12|13"
   ]
  },
  {
   "cell_type": "code",
   "execution_count": 152,
   "id": "49615e21-ce62-47bb-be9d-b5f19fff6500",
   "metadata": {},
   "outputs": [
    {
     "data": {
      "text/plain": [
       "0"
      ]
     },
     "execution_count": 152,
     "metadata": {},
     "output_type": "execute_result"
    }
   ],
   "source": [
    "1&0"
   ]
  },
  {
   "cell_type": "code",
   "execution_count": 153,
   "id": "ba4e0a6c-c3d3-4c4c-a11a-76c5310c79e9",
   "metadata": {},
   "outputs": [
    {
     "data": {
      "text/plain": [
       "1"
      ]
     },
     "execution_count": 153,
     "metadata": {},
     "output_type": "execute_result"
    }
   ],
   "source": [
    "1|0"
   ]
  },
  {
   "cell_type": "code",
   "execution_count": 154,
   "id": "33725da0-aa45-472c-9986-a8920b8fe06a",
   "metadata": {},
   "outputs": [
    {
     "data": {
      "text/plain": [
       "15"
      ]
     },
     "execution_count": 154,
     "metadata": {},
     "output_type": "execute_result"
    }
   ],
   "source": [
    "12|15"
   ]
  },
  {
   "cell_type": "code",
   "execution_count": 155,
   "id": "11e57188-74ca-4046-a460-481aae30f406",
   "metadata": {},
   "outputs": [
    {
     "data": {
      "text/plain": [
       "'0b1101'"
      ]
     },
     "execution_count": 155,
     "metadata": {},
     "output_type": "execute_result"
    }
   ],
   "source": [
    "bin(13)"
   ]
  },
  {
   "cell_type": "code",
   "execution_count": 156,
   "id": "afd298c1-05ef-40fc-9d4b-603cb26b6131",
   "metadata": {},
   "outputs": [
    {
     "name": "stdout",
     "output_type": "stream",
     "text": [
      "0b100011\n",
      "0b101000\n"
     ]
    }
   ],
   "source": [
    "print(bin(35))\n",
    "print(bin(40))"
   ]
  },
  {
   "cell_type": "code",
   "execution_count": 157,
   "id": "d4b64f6b-44eb-4edf-9b56-8dc545faa5aa",
   "metadata": {},
   "outputs": [
    {
     "data": {
      "text/plain": [
       "32"
      ]
     },
     "execution_count": 157,
     "metadata": {},
     "output_type": "execute_result"
    }
   ],
   "source": [
    "35&40"
   ]
  },
  {
   "cell_type": "code",
   "execution_count": 158,
   "id": "6c4a998e-1915-4387-8d4a-fea8c6e0e743",
   "metadata": {},
   "outputs": [
    {
     "data": {
      "text/plain": [
       "43"
      ]
     },
     "execution_count": 158,
     "metadata": {},
     "output_type": "execute_result"
    }
   ],
   "source": [
    "35|40"
   ]
  },
  {
   "cell_type": "code",
   "execution_count": 159,
   "id": "981c27d3-fc07-47f5-898f-0c1b3d8bbe2f",
   "metadata": {},
   "outputs": [],
   "source": [
    "#compliment operator"
   ]
  },
  {
   "cell_type": "code",
   "execution_count": 160,
   "id": "4e20dcfe-ea26-46aa-a4c8-3afc92e440c0",
   "metadata": {},
   "outputs": [
    {
     "data": {
      "text/plain": [
       "-13"
      ]
     },
     "execution_count": 160,
     "metadata": {},
     "output_type": "execute_result"
    }
   ],
   "source": [
    "~12"
   ]
  },
  {
   "cell_type": "code",
   "execution_count": 161,
   "id": "035f183e-fb02-45e3-ae41-a630d0f08a46",
   "metadata": {},
   "outputs": [
    {
     "data": {
      "text/plain": [
       "-51"
      ]
     },
     "execution_count": 161,
     "metadata": {},
     "output_type": "execute_result"
    }
   ],
   "source": [
    "~50"
   ]
  },
  {
   "cell_type": "code",
   "execution_count": 162,
   "id": "bb12b7e6-8bf1-40c9-9660-8e87ae673e1c",
   "metadata": {},
   "outputs": [
    {
     "data": {
      "text/plain": [
       "1"
      ]
     },
     "execution_count": 162,
     "metadata": {},
     "output_type": "execute_result"
    }
   ],
   "source": [
    "12^13"
   ]
  },
  {
   "cell_type": "code",
   "execution_count": 163,
   "id": "d97c3632-4129-40b6-ade3-0ff236511098",
   "metadata": {},
   "outputs": [
    {
     "data": {
      "text/plain": [
       "7"
      ]
     },
     "execution_count": 163,
     "metadata": {},
     "output_type": "execute_result"
    }
   ],
   "source": [
    "25^30"
   ]
  },
  {
   "cell_type": "code",
   "execution_count": 164,
   "id": "410af646-8c88-4786-9304-3b15c9d6e130",
   "metadata": {},
   "outputs": [
    {
     "data": {
      "text/plain": [
       "'0b111'"
      ]
     },
     "execution_count": 164,
     "metadata": {},
     "output_type": "execute_result"
    }
   ],
   "source": [
    "bin(7)"
   ]
  },
  {
   "cell_type": "code",
   "execution_count": 165,
   "id": "0faa9f0f-7769-4fe7-99bc-16b6edffab58",
   "metadata": {},
   "outputs": [
    {
     "name": "stdout",
     "output_type": "stream",
     "text": [
      "0b11001\n",
      "0b11110\n"
     ]
    }
   ],
   "source": [
    "print(bin(25))\n",
    "print(bin(30))"
   ]
  },
  {
   "cell_type": "code",
   "execution_count": 166,
   "id": "de8bbffc-0893-49aa-9466-c50af9e5334d",
   "metadata": {},
   "outputs": [
    {
     "data": {
      "text/plain": [
       "'0b11001'"
      ]
     },
     "execution_count": 166,
     "metadata": {},
     "output_type": "execute_result"
    }
   ],
   "source": [
    "bin(25)"
   ]
  },
  {
   "cell_type": "code",
   "execution_count": 167,
   "id": "c1d80545-1a19-4e81-811d-55d0a066e27b",
   "metadata": {},
   "outputs": [
    {
     "data": {
      "text/plain": [
       "'0b11110'"
      ]
     },
     "execution_count": 167,
     "metadata": {},
     "output_type": "execute_result"
    }
   ],
   "source": [
    "bin(30)"
   ]
  },
  {
   "cell_type": "code",
   "execution_count": 168,
   "id": "1431fe4a-901c-441a-a6b4-cf5dc0529206",
   "metadata": {},
   "outputs": [
    {
     "data": {
      "text/plain": [
       "252"
      ]
     },
     "execution_count": 168,
     "metadata": {},
     "output_type": "execute_result"
    }
   ],
   "source": [
    "int(0b11111100)"
   ]
  },
  {
   "cell_type": "code",
   "execution_count": 169,
   "id": "0f6df1f8-144c-454e-8e9c-45a5451dfdf1",
   "metadata": {},
   "outputs": [],
   "source": [
    "#left shift right shift"
   ]
  },
  {
   "cell_type": "code",
   "execution_count": 170,
   "id": "7faa4ff0-f009-4f64-9a45-2b02c4ac8e40",
   "metadata": {},
   "outputs": [
    {
     "data": {
      "text/plain": [
       "'0b1010'"
      ]
     },
     "execution_count": 170,
     "metadata": {},
     "output_type": "execute_result"
    }
   ],
   "source": [
    "bin(10)"
   ]
  },
  {
   "cell_type": "code",
   "execution_count": 171,
   "id": "0aa0f1ce-0ab4-4b24-84ce-e6b744432e17",
   "metadata": {},
   "outputs": [],
   "source": [
    "#left shift we gain the bit"
   ]
  },
  {
   "cell_type": "code",
   "execution_count": 172,
   "id": "659343ce-7ac3-4ae2-a13f-b194a4be0acc",
   "metadata": {},
   "outputs": [
    {
     "data": {
      "text/plain": [
       "20"
      ]
     },
     "execution_count": 172,
     "metadata": {},
     "output_type": "execute_result"
    }
   ],
   "source": [
    "10<<1"
   ]
  },
  {
   "cell_type": "code",
   "execution_count": 173,
   "id": "49ebe539-398b-4915-ac29-e17747a81613",
   "metadata": {},
   "outputs": [
    {
     "data": {
      "text/plain": [
       "40"
      ]
     },
     "execution_count": 173,
     "metadata": {},
     "output_type": "execute_result"
    }
   ],
   "source": [
    "10<<2"
   ]
  },
  {
   "cell_type": "code",
   "execution_count": 174,
   "id": "a390e796-e283-408b-8076-9bbdf35286a8",
   "metadata": {},
   "outputs": [],
   "source": [
    "#right shift we lose the bit"
   ]
  },
  {
   "cell_type": "code",
   "execution_count": 175,
   "id": "47576589-a651-4a76-96c2-d58a8182450f",
   "metadata": {},
   "outputs": [
    {
     "data": {
      "text/plain": [
       "5"
      ]
     },
     "execution_count": 175,
     "metadata": {},
     "output_type": "execute_result"
    }
   ],
   "source": [
    "10>>1"
   ]
  },
  {
   "cell_type": "code",
   "execution_count": 176,
   "id": "fef39d3c-ad52-4c2c-bb06-a893bcaf7591",
   "metadata": {},
   "outputs": [
    {
     "data": {
      "text/plain": [
       "2"
      ]
     },
     "execution_count": 176,
     "metadata": {},
     "output_type": "execute_result"
    }
   ],
   "source": [
    "10>>2\n"
   ]
  },
  {
   "cell_type": "code",
   "execution_count": 177,
   "id": "2c9d20dc-644a-42c3-93c7-456b87cd467b",
   "metadata": {},
   "outputs": [
    {
     "data": {
      "text/plain": [
       "1"
      ]
     },
     "execution_count": 177,
     "metadata": {},
     "output_type": "execute_result"
    }
   ],
   "source": [
    "10>>3"
   ]
  },
  {
   "cell_type": "code",
   "execution_count": 178,
   "id": "4adda9ed-9c4a-4eed-877d-aa53280a93f1",
   "metadata": {},
   "outputs": [
    {
     "data": {
      "text/plain": [
       "0"
      ]
     },
     "execution_count": 178,
     "metadata": {},
     "output_type": "execute_result"
    }
   ],
   "source": [
    "10>>5"
   ]
  },
  {
   "cell_type": "code",
   "execution_count": 179,
   "id": "106d3116-f33d-40cd-a663-46dc92b67212",
   "metadata": {},
   "outputs": [
    {
     "data": {
      "text/plain": [
       "'0b10100'"
      ]
     },
     "execution_count": 179,
     "metadata": {},
     "output_type": "execute_result"
    }
   ],
   "source": [
    "bin(20)"
   ]
  },
  {
   "cell_type": "code",
   "execution_count": 90,
   "id": "dd797aa3-839a-4ba2-bfd1-c378b1798896",
   "metadata": {},
   "outputs": [
    {
     "data": {
      "text/plain": [
       "1"
      ]
     },
     "execution_count": 90,
     "metadata": {},
     "output_type": "execute_result"
    }
   ],
   "source": [
    "20>>4"
   ]
  },
  {
   "cell_type": "code",
   "execution_count": null,
   "id": "28fd0b0a-5458-4a00-a35e-7a828a844a02",
   "metadata": {},
   "outputs": [],
   "source": []
  }
 ],
 "metadata": {
  "kernelspec": {
   "display_name": "Python 3 (ipykernel)",
   "language": "python",
   "name": "python3"
  },
  "language_info": {
   "codemirror_mode": {
    "name": "ipython",
    "version": 3
   },
   "file_extension": ".py",
   "mimetype": "text/x-python",
   "name": "python",
   "nbconvert_exporter": "python",
   "pygments_lexer": "ipython3",
   "version": "3.13.5"
  }
 },
 "nbformat": 4,
 "nbformat_minor": 5
}
