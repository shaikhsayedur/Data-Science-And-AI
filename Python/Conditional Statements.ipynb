{
 "cells": [
  {
   "cell_type": "code",
   "execution_count": 1,
   "id": "a140e1a2-e10a-46bd-a0b5-f65a3b6180fe",
   "metadata": {},
   "outputs": [
    {
     "name": "stdout",
     "output_type": "stream",
     "text": [
      "hello\n"
     ]
    }
   ],
   "source": [
    "if True:\n",
    "    print('hello')"
   ]
  },
  {
   "cell_type": "code",
   "execution_count": 2,
   "id": "b85c46c0-d226-4d00-9d5a-033af57b51c1",
   "metadata": {},
   "outputs": [
    {
     "ename": "IndentationError",
     "evalue": "expected an indented block after 'if' statement on line 1 (1785633973.py, line 2)",
     "output_type": "error",
     "traceback": [
      "\u001b[1;36m  Cell \u001b[1;32mIn[2], line 2\u001b[1;36m\u001b[0m\n\u001b[1;33m    print('hello')\u001b[0m\n\u001b[1;37m    ^\u001b[0m\n\u001b[1;31mIndentationError\u001b[0m\u001b[1;31m:\u001b[0m expected an indented block after 'if' statement on line 1\n"
     ]
    }
   ],
   "source": [
    "if True:\n",
    "print('hello')"
   ]
  },
  {
   "cell_type": "code",
   "execution_count": 3,
   "id": "cc3e725c-0eee-4c8a-8dc7-17ce071abe4d",
   "metadata": {},
   "outputs": [
    {
     "name": "stdout",
     "output_type": "stream",
     "text": [
      "hello\n"
     ]
    }
   ],
   "source": [
    "if True:\n",
    "    print('hello')"
   ]
  },
  {
   "cell_type": "code",
   "execution_count": 4,
   "id": "5b720af5-53f8-4ba1-a9c0-2e5c6592082f",
   "metadata": {},
   "outputs": [],
   "source": [
    "if False:\n",
    "    print('bye')"
   ]
  },
  {
   "cell_type": "code",
   "execution_count": 5,
   "id": "dff190ad-fbda-458a-8ed3-73a4ae43a63f",
   "metadata": {},
   "outputs": [
    {
     "name": "stdout",
     "output_type": "stream",
     "text": [
      "hiii\n",
      "bye for now\n"
     ]
    }
   ],
   "source": [
    "if True: \n",
    "    print('hiii')\n",
    "    \n",
    "print('bye for now')"
   ]
  },
  {
   "cell_type": "code",
   "execution_count": 6,
   "id": "3f110873-cecc-42c8-970f-cc532ef567c7",
   "metadata": {},
   "outputs": [
    {
     "name": "stdout",
     "output_type": "stream",
     "text": [
      "bye for now\n"
     ]
    }
   ],
   "source": [
    "if False: \n",
    "    print('hiii')\n",
    "    \n",
    "print('bye for now')"
   ]
  },
  {
   "cell_type": "code",
   "execution_count": 7,
   "id": "7d58598d-c4d7-48d9-8d3d-f76cc506180c",
   "metadata": {},
   "outputs": [
    {
     "name": "stdout",
     "output_type": "stream",
     "text": [
      "hiii\n",
      "bye for now\n"
     ]
    }
   ],
   "source": [
    "if True: \n",
    "    print('hiii')\n",
    "    \n",
    "print('bye for now')"
   ]
  },
  {
   "cell_type": "code",
   "execution_count": 8,
   "id": "884e9a60-2e07-4668-9899-44b649e4f826",
   "metadata": {},
   "outputs": [
    {
     "name": "stdout",
     "output_type": "stream",
     "text": [
      "Data Science\n"
     ]
    }
   ],
   "source": [
    "if True: \n",
    "    print('Data Science')\n",
    "    \n",
    "else:\n",
    "    print('bye for now')"
   ]
  },
  {
   "cell_type": "code",
   "execution_count": 9,
   "id": "b5a0cf17-3339-41b6-88dd-62b552897cb9",
   "metadata": {},
   "outputs": [
    {
     "name": "stdout",
     "output_type": "stream",
     "text": [
      "bye for now\n"
     ]
    }
   ],
   "source": [
    "if False:\n",
    "    print('data science ')\n",
    "\n",
    "else:\n",
    "    print('bye for now')"
   ]
  },
  {
   "cell_type": "code",
   "execution_count": 10,
   "id": "52fc0caf-a5d1-4cae-8a53-c0f78755ebe3",
   "metadata": {},
   "outputs": [],
   "source": [
    "#write a python code to check weather number is even or odd \n"
   ]
  },
  {
   "cell_type": "code",
   "execution_count": 11,
   "id": "c1091217-1ff9-473a-9315-d70b038e7c60",
   "metadata": {},
   "outputs": [
    {
     "name": "stdout",
     "output_type": "stream",
     "text": [
      "Even number\n"
     ]
    }
   ],
   "source": [
    "x = 4\n",
    "r = x % 2\n",
    "if r == 0:\n",
    "    print('Even number')"
   ]
  },
  {
   "cell_type": "code",
   "execution_count": 12,
   "id": "c30ae95c-750b-454d-bfe5-3c819773fabe",
   "metadata": {},
   "outputs": [],
   "source": [
    "x = 5\n",
    "r = x % 2\n",
    "if r == 0:\n",
    "    print('Even number')"
   ]
  },
  {
   "cell_type": "code",
   "execution_count": 13,
   "id": "e12d6d38-8949-4914-a9dc-fb0f56e5a7d0",
   "metadata": {},
   "outputs": [
    {
     "name": "stdout",
     "output_type": "stream",
     "text": [
      "Even number\n"
     ]
    }
   ],
   "source": [
    "x = 6\n",
    "r = x % 2\n",
    "if r == 0:\n",
    "    print('Even number')\n",
    "\n",
    "    if r == 1:\n",
    "        print('odd number')\n"
   ]
  },
  {
   "cell_type": "code",
   "execution_count": 14,
   "id": "597cd902-1259-4702-bcab-925d5b1bfe57",
   "metadata": {},
   "outputs": [
    {
     "name": "stdout",
     "output_type": "stream",
     "text": [
      "Even number\n"
     ]
    }
   ],
   "source": [
    "x = 6\n",
    "r = x % 2 \n",
    "if r == 0:\n",
    "    print('Even number')\n",
    "else:\n",
    "    print('odd number')"
   ]
  },
  {
   "cell_type": "code",
   "execution_count": 15,
   "id": "51b2dfba-abc2-4917-9594-090b05bd867e",
   "metadata": {},
   "outputs": [
    {
     "name": "stdout",
     "output_type": "stream",
     "text": [
      "Even number\n",
      "Odd number\n"
     ]
    }
   ],
   "source": [
    "x=6\n",
    "r=x % 2\n",
    "if r == 0:\n",
    "    print('Even number')\n",
    "    print('Odd number')"
   ]
  },
  {
   "cell_type": "code",
   "execution_count": 16,
   "id": "810f0c7e-ea4a-4d5f-be2c-d7cc75f2e78b",
   "metadata": {},
   "outputs": [
    {
     "name": "stdout",
     "output_type": "stream",
     "text": [
      "Even number\n"
     ]
    }
   ],
   "source": [
    "x = 4\n",
    "r = x % 2 \n",
    "\n",
    "if r == 0:\n",
    "    print('Even number')\n",
    "else:\n",
    "    print('odd number')"
   ]
  },
  {
   "cell_type": "code",
   "execution_count": 17,
   "id": "707bc413-6ed7-4ba7-8962-03445f85bb63",
   "metadata": {},
   "outputs": [
    {
     "name": "stdout",
     "output_type": "stream",
     "text": [
      "odd number\n"
     ]
    }
   ],
   "source": [
    "x = 5\n",
    "r = x % 2 \n",
    "\n",
    "if r == 0:   \n",
    "    print('Even number')\n",
    "else:     \n",
    "    print('odd number')"
   ]
  },
  {
   "cell_type": "code",
   "execution_count": 18,
   "id": "9f84d250-e454-4835-ab53-8eca3408efbf",
   "metadata": {},
   "outputs": [
    {
     "name": "stdout",
     "output_type": "stream",
     "text": [
      "Even number\n"
     ]
    }
   ],
   "source": [
    "x = 10\n",
    "r = x % 2\n",
    "if r == 0:\n",
    "    print('Even number')\n",
    "    if r ==1:\n",
    "        print('Odd number')"
   ]
  },
  {
   "cell_type": "code",
   "execution_count": 19,
   "id": "47e92012-7ed7-4a7c-8f80-b146a2ca63fa",
   "metadata": {},
   "outputs": [
    {
     "name": "stdout",
     "output_type": "stream",
     "text": [
      "odd number\n"
     ]
    }
   ],
   "source": [
    "x = 9\n",
    "r = x % 2 \n",
    "if r == 0:\n",
    "    print('Even number')\n",
    "if r != 0:\n",
    "    print('odd number')"
   ]
  },
  {
   "cell_type": "code",
   "execution_count": 20,
   "id": "6134dfa0-cec1-4bf1-a5db-e854add93ff0",
   "metadata": {},
   "outputs": [],
   "source": [
    "# NESTED IF"
   ]
  },
  {
   "cell_type": "code",
   "execution_count": 21,
   "id": "6e52614c-96b3-40e3-87dc-57b324053e01",
   "metadata": {},
   "outputs": [
    {
     "name": "stdout",
     "output_type": "stream",
     "text": [
      "Odd Number\n"
     ]
    }
   ],
   "source": [
    "x=3\n",
    "r=x%2\n",
    "if r == 0:\n",
    "    print('Even number')\n",
    "    if x>5:\n",
    "        print('greater number')\n",
    "  \n",
    "else:\n",
    "    print('Odd Number')"
   ]
  },
  {
   "cell_type": "code",
   "execution_count": 22,
   "id": "f2dd76a1-14a8-4b72-b7dc-3602f84ecade",
   "metadata": {},
   "outputs": [
    {
     "name": "stdout",
     "output_type": "stream",
     "text": [
      "Even number\n",
      "greater number\n"
     ]
    }
   ],
   "source": [
    "x = 6\n",
    "r = x % 2\n",
    "if r == 0:\n",
    "    print('Even number')\n",
    "    \n",
    "    if x>5:\n",
    "        print('greater number')\n",
    "    else:\n",
    "        print('smaller number')\n",
    "  \n",
    "else:\n",
    "    print('Odd Number')"
   ]
  },
  {
   "cell_type": "code",
   "execution_count": 23,
   "id": "d6c84b9e-59e2-4dff-88cd-eb54deb3692a",
   "metadata": {},
   "outputs": [
    {
     "name": "stdout",
     "output_type": "stream",
     "text": [
      "four\n"
     ]
    }
   ],
   "source": [
    "x = 4\n",
    "\n",
    "if x == 1:\n",
    "    print('one')\n",
    "if x == 2:\n",
    "    print('Two')\n",
    "if x == 3:\n",
    "    print('Three')\n",
    "if x == 4:\n",
    "    print('four')"
   ]
  },
  {
   "cell_type": "code",
   "execution_count": 24,
   "id": "4069fb99-3720-44b8-aed1-cab100a383ca",
   "metadata": {},
   "outputs": [
    {
     "name": "stdout",
     "output_type": "stream",
     "text": [
      "Two\n"
     ]
    }
   ],
   "source": [
    "x = 2\n",
    "\n",
    "if x == 1:\n",
    "    print('one')\n",
    "elif x == 2:\n",
    "    print('Two')\n",
    "elif x == 3:\n",
    "    print('Three')\n",
    "elif x == 4:\n",
    "    print('four')"
   ]
  },
  {
   "cell_type": "code",
   "execution_count": 25,
   "id": "7c6aa74d-de70-4167-88f2-29d99da785c4",
   "metadata": {},
   "outputs": [],
   "source": [
    "x = 10\n",
    "\n",
    "if x == 1:\n",
    "    print('one')\n",
    "elif x == 2:\n",
    "    print('Two')\n",
    "elif x == 3:\n",
    "    print('Three')\n",
    "elif x == 4:\n",
    "    print('four')"
   ]
  },
  {
   "cell_type": "code",
   "execution_count": 26,
   "id": "348bb55b-1f10-47a8-8ac2-b169a86eef5b",
   "metadata": {},
   "outputs": [
    {
     "name": "stdout",
     "output_type": "stream",
     "text": [
      "number not found\n"
     ]
    }
   ],
   "source": [
    "x = 10\n",
    "\n",
    "if x == 1:\n",
    "    print('one')\n",
    "    \n",
    "elif x == 2:\n",
    "    print('Two')\n",
    "elif x == 3:\n",
    "    print('Three')\n",
    "elif x == 4:\n",
    "    print('four')\n",
    "\n",
    "else:\n",
    "    print('number not found')"
   ]
  },
  {
   "cell_type": "code",
   "execution_count": 27,
   "id": "542a3b9a-88fa-40d9-9a0f-f0e9162c792b",
   "metadata": {},
   "outputs": [
    {
     "name": "stdin",
     "output_type": "stream",
     "text": [
      "Enter a number:  -85\n"
     ]
    },
    {
     "name": "stdout",
     "output_type": "stream",
     "text": [
      "Negative\n"
     ]
    }
   ],
   "source": [
    "num = int(input(\"Enter a number: \"))\n",
    "\n",
    "if num > 0:\n",
    " print(\"Positive\")\n",
    "elif num < 0:\n",
    " print(\"Negative\")\n",
    "else:\n",
    " print(\"Zero\")"
   ]
  },
  {
   "cell_type": "code",
   "execution_count": 28,
   "id": "f00be350-35d4-450f-80b6-4e1936dae976",
   "metadata": {},
   "outputs": [],
   "source": [
    "#Short hand if"
   ]
  },
  {
   "cell_type": "code",
   "execution_count": 29,
   "id": "ea22db87-7d87-4613-8755-001e92949d7a",
   "metadata": {},
   "outputs": [
    {
     "name": "stdout",
     "output_type": "stream",
     "text": [
      "Eligible to vote\n"
     ]
    }
   ],
   "source": [
    "age=19\n",
    "if age > 18: print(\"Eligible to vote\")"
   ]
  },
  {
   "cell_type": "code",
   "execution_count": 30,
   "id": "0c6a5c4f-ee53-4517-ad26-bc0664ca72e1",
   "metadata": {},
   "outputs": [],
   "source": [
    "#Short hand if else"
   ]
  },
  {
   "cell_type": "code",
   "execution_count": 31,
   "id": "71acde47-7d98-4e53-84c4-b3c2c121aa7a",
   "metadata": {},
   "outputs": [
    {
     "name": "stdout",
     "output_type": "stream",
     "text": [
      "Travel for free\n"
     ]
    }
   ],
   "source": [
    "age = 10\n",
    "if age <= 12:\n",
    "    print(\"Travel for free\")\n",
    "else:\n",
    "    print(\"pay for ticket\")\n"
   ]
  },
  {
   "cell_type": "code",
   "execution_count": 32,
   "id": "eea12283-c7df-4e8b-850a-926ead7b9046",
   "metadata": {},
   "outputs": [
    {
     "name": "stdout",
     "output_type": "stream",
     "text": [
      "Result: passs\n"
     ]
    }
   ],
   "source": [
    "marks =45\n",
    "result=\"passs\" if marks>=40 else \"fail\"\n",
    "print(f\"Result: {result}\")"
   ]
  },
  {
   "cell_type": "code",
   "execution_count": 33,
   "id": "92267d8b-fe57-4768-a569-1f739b1b8351",
   "metadata": {},
   "outputs": [],
   "source": [
    "#ELIF statement"
   ]
  },
  {
   "cell_type": "code",
   "execution_count": 34,
   "id": "50377c41-1a62-49dd-8a99-987d344a3345",
   "metadata": {},
   "outputs": [
    {
     "name": "stdout",
     "output_type": "stream",
     "text": [
      "Chota baccha\n"
     ]
    }
   ],
   "source": [
    "age = 11\n",
    "\n",
    "if age <= 12:\n",
    "    print(\"Chota baccha\")\n",
    "elif age <= 19:\n",
    "    print(\"college wala baccha\")\n",
    "elif age <= 35:\n",
    "    print(\"job wala aadmi\")\n",
    "else:\n",
    "    print(\"pension wala aadmi\")"
   ]
  },
  {
   "cell_type": "code",
   "execution_count": 35,
   "id": "42dbaa00-938a-4e9f-906a-1ee5dd80b080",
   "metadata": {},
   "outputs": [],
   "source": [
    "# NESTED if stmt\n"
   ]
  },
  {
   "cell_type": "code",
   "execution_count": 36,
   "id": "ef4d5204-a026-49f7-8d93-bbcba4713bcb",
   "metadata": {},
   "outputs": [
    {
     "name": "stdout",
     "output_type": "stream",
     "text": [
      "30% senior discount!\n"
     ]
    }
   ],
   "source": [
    "age = 70\n",
    "is_member = True\n",
    "\n",
    "if age >= 60:\n",
    "    if is_member:\n",
    "        print(\"30% senior discount!\")\n",
    "    else:\n",
    "        print(\"20% senior discount.\")\n",
    "else:\n",
    "    print(\"Not eligible for a senior discount.\")"
   ]
  },
  {
   "cell_type": "code",
   "execution_count": null,
   "id": "119d45fd-2d11-4a7c-a965-adf042b8cbe3",
   "metadata": {},
   "outputs": [],
   "source": []
  },
  {
   "cell_type": "code",
   "execution_count": null,
   "id": "9efed861-1a45-4010-bcb8-30ee293c4032",
   "metadata": {},
   "outputs": [],
   "source": []
  },
  {
   "cell_type": "code",
   "execution_count": null,
   "id": "0eaa3c4b-1f5c-459a-85a2-48679dfed5aa",
   "metadata": {},
   "outputs": [],
   "source": []
  },
  {
   "cell_type": "code",
   "execution_count": null,
   "id": "1643ee9d-b7fe-471a-9672-c43b94f6b3fc",
   "metadata": {},
   "outputs": [],
   "source": []
  },
  {
   "cell_type": "code",
   "execution_count": null,
   "id": "f5e5d976-23cf-4046-9b72-0a195e2bd45b",
   "metadata": {},
   "outputs": [],
   "source": []
  },
  {
   "cell_type": "code",
   "execution_count": null,
   "id": "ad6672c4-1c17-427c-9598-d3ca11d54e93",
   "metadata": {},
   "outputs": [],
   "source": []
  },
  {
   "cell_type": "code",
   "execution_count": null,
   "id": "545a5491-14d8-43e1-9022-b29e0f273fb5",
   "metadata": {},
   "outputs": [],
   "source": []
  },
  {
   "cell_type": "code",
   "execution_count": null,
   "id": "d339754e-e534-4956-b342-d9521bf36f08",
   "metadata": {},
   "outputs": [],
   "source": []
  },
  {
   "cell_type": "code",
   "execution_count": null,
   "id": "4f5376d2-971c-4408-b2ea-cbf4de40f061",
   "metadata": {},
   "outputs": [],
   "source": []
  },
  {
   "cell_type": "code",
   "execution_count": null,
   "id": "c1673b05-abe0-4ba4-8ddb-d338d88f32f6",
   "metadata": {},
   "outputs": [],
   "source": []
  },
  {
   "cell_type": "code",
   "execution_count": null,
   "id": "ad01aee5-ca8b-48fa-b4f3-d0d9e3cdd37d",
   "metadata": {},
   "outputs": [],
   "source": []
  },
  {
   "cell_type": "code",
   "execution_count": null,
   "id": "2e217112-6a9d-4c28-aa21-911026844a34",
   "metadata": {},
   "outputs": [],
   "source": []
  },
  {
   "cell_type": "code",
   "execution_count": null,
   "id": "776557e4-262d-4296-95ea-2af01e731f6b",
   "metadata": {},
   "outputs": [],
   "source": []
  },
  {
   "cell_type": "code",
   "execution_count": null,
   "id": "3fe65508-3cf6-4c9f-badb-1554f0a0df27",
   "metadata": {},
   "outputs": [],
   "source": []
  },
  {
   "cell_type": "code",
   "execution_count": null,
   "id": "cda1cd81-b3d2-48da-a4f1-eecbacc79c80",
   "metadata": {},
   "outputs": [],
   "source": []
  },
  {
   "cell_type": "code",
   "execution_count": null,
   "id": "e1630bd7-f331-4cd4-a3b8-5086a9c6c24a",
   "metadata": {},
   "outputs": [],
   "source": []
  },
  {
   "cell_type": "code",
   "execution_count": null,
   "id": "e3fd4c83-b222-447d-9e5f-a202f63c1b7f",
   "metadata": {},
   "outputs": [],
   "source": []
  },
  {
   "cell_type": "code",
   "execution_count": null,
   "id": "6926e9c5-f80f-4721-a8ff-4bed1867d395",
   "metadata": {},
   "outputs": [],
   "source": []
  },
  {
   "cell_type": "code",
   "execution_count": null,
   "id": "a0e48fe4-0560-4dee-9741-79a70846c359",
   "metadata": {},
   "outputs": [],
   "source": []
  },
  {
   "cell_type": "code",
   "execution_count": null,
   "id": "41534398-e244-45bd-82ce-617d726531dc",
   "metadata": {},
   "outputs": [],
   "source": []
  },
  {
   "cell_type": "code",
   "execution_count": null,
   "id": "06960c93-f28b-4e74-897e-f76da9db7efa",
   "metadata": {},
   "outputs": [],
   "source": []
  },
  {
   "cell_type": "code",
   "execution_count": null,
   "id": "8616b77d-95bc-4437-99c4-cd42b79c36d9",
   "metadata": {},
   "outputs": [],
   "source": []
  },
  {
   "cell_type": "code",
   "execution_count": null,
   "id": "4653881f-481c-4fa0-994c-98cfa4a8e662",
   "metadata": {},
   "outputs": [],
   "source": []
  },
  {
   "cell_type": "code",
   "execution_count": null,
   "id": "de5217e1-ef48-41aa-beae-3efdf0a0287b",
   "metadata": {},
   "outputs": [],
   "source": []
  }
 ],
 "metadata": {
  "kernelspec": {
   "display_name": "Python 3 (ipykernel)",
   "language": "python",
   "name": "python3"
  },
  "language_info": {
   "codemirror_mode": {
    "name": "ipython",
    "version": 3
   },
   "file_extension": ".py",
   "mimetype": "text/x-python",
   "name": "python",
   "nbconvert_exporter": "python",
   "pygments_lexer": "ipython3",
   "version": "3.13.5"
  }
 },
 "nbformat": 4,
 "nbformat_minor": 5
}
