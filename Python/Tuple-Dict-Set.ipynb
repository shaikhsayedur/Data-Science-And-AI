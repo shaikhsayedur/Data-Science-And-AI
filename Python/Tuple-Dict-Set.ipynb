{
 "cells": [
  {
   "cell_type": "markdown",
   "id": "5bdbe683-278d-412e-93e9-cff014dc86a4",
   "metadata": {},
   "source": [
    "Tuple"
   ]
  },
  {
   "cell_type": "code",
   "execution_count": 4,
   "id": "b03f0c70-9f9b-4a8d-b2c1-1734263202f8",
   "metadata": {},
   "outputs": [
    {
     "data": {
      "text/plain": [
       "(1, 2, 3, 'sayedur')"
      ]
     },
     "execution_count": 4,
     "metadata": {},
     "output_type": "execute_result"
    }
   ],
   "source": [
    "tup1=(1,2,3,\"sayedur\") #craeting a tuple \n",
    "tup1"
   ]
  },
  {
   "cell_type": "code",
   "execution_count": 5,
   "id": "2d6e7cb9-3dd5-414e-b8d2-bcf0c802685d",
   "metadata": {},
   "outputs": [],
   "source": [
    "#Tuple is an ordered collection of elements\n",
    "#Tuples are immutable"
   ]
  },
  {
   "cell_type": "code",
   "execution_count": 6,
   "id": "8fb6040a-b56e-4249-b58b-78b8221f65de",
   "metadata": {},
   "outputs": [
    {
     "data": {
      "text/plain": [
       "(1, 2, 3, 'sayedur')"
      ]
     },
     "execution_count": 6,
     "metadata": {},
     "output_type": "execute_result"
    }
   ],
   "source": [
    "tup1"
   ]
  },
  {
   "cell_type": "code",
   "execution_count": 7,
   "id": "af1dcd5e-471d-45af-9810-7515d7d67a3f",
   "metadata": {},
   "outputs": [
    {
     "data": {
      "text/plain": [
       "1"
      ]
     },
     "execution_count": 7,
     "metadata": {},
     "output_type": "execute_result"
    }
   ],
   "source": [
    "tup1.count(3) # count() returns how many times a specific value appears in a tuple.\n",
    "1"
   ]
  },
  {
   "cell_type": "code",
   "execution_count": 8,
   "id": "f1f1fcfb-5a21-41eb-9200-b350045de805",
   "metadata": {},
   "outputs": [
    {
     "data": {
      "text/plain": [
       "'sayedur'"
      ]
     },
     "execution_count": 8,
     "metadata": {},
     "output_type": "execute_result"
    }
   ],
   "source": [
    "tup1[-1] # Backword indexing"
   ]
  },
  {
   "cell_type": "code",
   "execution_count": 9,
   "id": "4f763da2-7aa0-41e6-b64c-79acdabe452e",
   "metadata": {},
   "outputs": [],
   "source": [
    "#Slicing"
   ]
  },
  {
   "cell_type": "code",
   "execution_count": 10,
   "id": "1fc49562-968c-4ca4-906b-910a2598672b",
   "metadata": {},
   "outputs": [
    {
     "data": {
      "text/plain": [
       "(1, 2, 3, 'sayedur')"
      ]
     },
     "execution_count": 10,
     "metadata": {},
     "output_type": "execute_result"
    }
   ],
   "source": [
    "tup1"
   ]
  },
  {
   "cell_type": "code",
   "execution_count": 11,
   "id": "cd02b30d-e338-4b82-b886-867a1e888075",
   "metadata": {},
   "outputs": [
    {
     "data": {
      "text/plain": [
       "(2, 3)"
      ]
     },
     "execution_count": 11,
     "metadata": {},
     "output_type": "execute_result"
    }
   ],
   "source": [
    "tup1[1:3] "
   ]
  },
  {
   "cell_type": "code",
   "execution_count": 12,
   "id": "47baa136-2aa3-4765-b589-e3dc41044bb6",
   "metadata": {},
   "outputs": [
    {
     "data": {
      "text/plain": [
       "('sayedur', 3, 2, 1)"
      ]
     },
     "execution_count": 12,
     "metadata": {},
     "output_type": "execute_result"
    }
   ],
   "source": [
    "tup1[::-1] # it's reverse the tuple eelemts"
   ]
  },
  {
   "cell_type": "code",
   "execution_count": 13,
   "id": "cb16a10c-dc54-48a4-8214-33fc992211ee",
   "metadata": {},
   "outputs": [
    {
     "data": {
      "text/plain": [
       "(1, 2, 3, 'sayedur')"
      ]
     },
     "execution_count": 13,
     "metadata": {},
     "output_type": "execute_result"
    }
   ],
   "source": [
    "tup1"
   ]
  },
  {
   "cell_type": "code",
   "execution_count": 14,
   "id": "48553547-eeb6-45a9-a56c-3a929e00b0dc",
   "metadata": {},
   "outputs": [],
   "source": [
    "tup2 = (4,5,6,7)"
   ]
  },
  {
   "cell_type": "code",
   "execution_count": 15,
   "id": "f03282c0-ee8a-42cc-95c9-b543f196eae5",
   "metadata": {},
   "outputs": [
    {
     "data": {
      "text/plain": [
       "(4, 5, 6, 7)"
      ]
     },
     "execution_count": 15,
     "metadata": {},
     "output_type": "execute_result"
    }
   ],
   "source": [
    "tup2"
   ]
  },
  {
   "cell_type": "code",
   "execution_count": 16,
   "id": "abb4cc19-e051-41d8-b603-10f53b5b3fb6",
   "metadata": {},
   "outputs": [
    {
     "data": {
      "text/plain": [
       "(1, 2, 3, 'sayedur', 4, 5, 6, 7)"
      ]
     },
     "execution_count": 16,
     "metadata": {},
     "output_type": "execute_result"
    }
   ],
   "source": [
    "tup1 + tup2 # Concatenation"
   ]
  },
  {
   "cell_type": "code",
   "execution_count": 17,
   "id": "c6fd0ab7-be16-4d3c-a21d-a9bc4fd073c7",
   "metadata": {},
   "outputs": [
    {
     "data": {
      "text/plain": [
       "(4, 5, 6, 7, 1, 2, 3, 'sayedur')"
      ]
     },
     "execution_count": 17,
     "metadata": {},
     "output_type": "execute_result"
    }
   ],
   "source": [
    "tup2 + tup1"
   ]
  },
  {
   "cell_type": "code",
   "execution_count": 18,
   "id": "0a6382f7-f5e7-4c3c-87b9-697bec6e33ee",
   "metadata": {},
   "outputs": [
    {
     "data": {
      "text/plain": [
       "(1, 2, 3, 'sayedur')"
      ]
     },
     "execution_count": 18,
     "metadata": {},
     "output_type": "execute_result"
    }
   ],
   "source": [
    "tup1"
   ]
  },
  {
   "cell_type": "code",
   "execution_count": 19,
   "id": "2b7bb560-3e40-4fc5-a566-c9c1c29fb856",
   "metadata": {},
   "outputs": [
    {
     "data": {
      "text/plain": [
       "(1, 2, 3, 'sayedur', 1, 2, 3, 'sayedur')"
      ]
     },
     "execution_count": 19,
     "metadata": {},
     "output_type": "execute_result"
    }
   ],
   "source": [
    "tup1*2 # Repeating elements"
   ]
  },
  {
   "cell_type": "code",
   "execution_count": 20,
   "id": "fcd3c898-064e-49c2-bff8-ea771a48e4dd",
   "metadata": {},
   "outputs": [
    {
     "data": {
      "text/plain": [
       "(1, 2, 3, 'sayedur', 1, 2, 3, 'sayedur', 1, 2, 3, 'sayedur')"
      ]
     },
     "execution_count": 20,
     "metadata": {},
     "output_type": "execute_result"
    }
   ],
   "source": [
    "tup1*3"
   ]
  },
  {
   "cell_type": "code",
   "execution_count": 21,
   "id": "3e463b82-aea1-45c2-8ec8-2fe122d13bea",
   "metadata": {},
   "outputs": [
    {
     "data": {
      "text/plain": [
       "(1, 2, 3, 'sayedur', 1, 2, 3, 'sayedur', 4, 5, 6, 7)"
      ]
     },
     "execution_count": 21,
     "metadata": {},
     "output_type": "execute_result"
    }
   ],
   "source": [
    "tup1*2 + tup2 # Repeating + Concatenation\n"
   ]
  },
  {
   "cell_type": "code",
   "execution_count": 22,
   "id": "4913678e-4355-46f7-ad13-8298a97d29ef",
   "metadata": {},
   "outputs": [
    {
     "data": {
      "text/plain": [
       "(4, 5, 6, 7)"
      ]
     },
     "execution_count": 22,
     "metadata": {},
     "output_type": "execute_result"
    }
   ],
   "source": [
    "tup2"
   ]
  },
  {
   "cell_type": "code",
   "execution_count": 23,
   "id": "00358cdd-facf-401b-93c6-6abd43fc8a8c",
   "metadata": {},
   "outputs": [
    {
     "data": {
      "text/plain": [
       "7"
      ]
     },
     "execution_count": 23,
     "metadata": {},
     "output_type": "execute_result"
    }
   ],
   "source": [
    "max(tup2) # print the maximum value from tuple\n"
   ]
  },
  {
   "cell_type": "code",
   "execution_count": 24,
   "id": "900d447f-f788-43e8-ac71-25909fa44434",
   "metadata": {},
   "outputs": [
    {
     "data": {
      "text/plain": [
       "4"
      ]
     },
     "execution_count": 24,
     "metadata": {},
     "output_type": "execute_result"
    }
   ],
   "source": [
    "min(tup2) # for minimum value"
   ]
  },
  {
   "cell_type": "code",
   "execution_count": 25,
   "id": "0a235046-6cdc-44fc-af1d-1338b122a2a8",
   "metadata": {},
   "outputs": [
    {
     "data": {
      "text/plain": [
       "(1, 2, 3, 'sayedur')"
      ]
     },
     "execution_count": 25,
     "metadata": {},
     "output_type": "execute_result"
    }
   ],
   "source": [
    "tup1"
   ]
  },
  {
   "cell_type": "code",
   "execution_count": 27,
   "id": "ed6db3cc-3bf4-46d3-9488-2706d0d378d9",
   "metadata": {},
   "outputs": [
    {
     "ename": "TypeError",
     "evalue": "'>' not supported between instances of 'str' and 'int'",
     "output_type": "error",
     "traceback": [
      "\u001b[1;31m---------------------------------------------------------------------------\u001b[0m",
      "\u001b[1;31mTypeError\u001b[0m                                 Traceback (most recent call last)",
      "Cell \u001b[1;32mIn[27], line 1\u001b[0m\n\u001b[1;32m----> 1\u001b[0m \u001b[38;5;28mmax\u001b[39m(tup1)\n",
      "\u001b[1;31mTypeError\u001b[0m: '>' not supported between instances of 'str' and 'int'"
     ]
    }
   ],
   "source": [
    "max(tup1) # it is show error if tuple have sting element"
   ]
  },
  {
   "cell_type": "code",
   "execution_count": 28,
   "id": "94445a5b-9c50-4453-9f00-355ca43ac2f4",
   "metadata": {},
   "outputs": [],
   "source": [
    "#TUPLE COMPLETED"
   ]
  },
  {
   "cell_type": "markdown",
   "id": "00356fdf-0c0c-47c4-b28b-c695e74de89f",
   "metadata": {},
   "source": [
    "Dictionary"
   ]
  },
  {
   "cell_type": "code",
   "execution_count": 30,
   "id": "ff5239a5-4b5e-475d-9ade-89570bda7e71",
   "metadata": {},
   "outputs": [],
   "source": [
    "# Dictionary is an unordered collection of key-values pairs enclosed with {}.\n",
    "# Dict is mutable."
   ]
  },
  {
   "cell_type": "code",
   "execution_count": 32,
   "id": "87e6beae-8743-4b5c-8d10-b8dd43dea042",
   "metadata": {},
   "outputs": [],
   "source": [
    "d1 = { \"apple\" : 200 , \"banana\" : 50 , \"grapes\" : 250 } # Creating a new dict"
   ]
  },
  {
   "cell_type": "code",
   "execution_count": 33,
   "id": "9c1902aa-4d9b-41c0-824d-2fb56471bd9c",
   "metadata": {},
   "outputs": [
    {
     "data": {
      "text/plain": [
       "{'apple': 200, 'banana': 50, 'grapes': 250}"
      ]
     },
     "execution_count": 33,
     "metadata": {},
     "output_type": "execute_result"
    }
   ],
   "source": [
    "d1"
   ]
  },
  {
   "cell_type": "code",
   "execution_count": 34,
   "id": "e1407772-d0c8-47e0-bd76-f97e753e0f88",
   "metadata": {},
   "outputs": [
    {
     "data": {
      "text/plain": [
       "dict_keys(['apple', 'banana', 'grapes'])"
      ]
     },
     "execution_count": 34,
     "metadata": {},
     "output_type": "execute_result"
    }
   ],
   "source": [
    "d1.keys() # extracking keys "
   ]
  },
  {
   "cell_type": "code",
   "execution_count": 35,
   "id": "33a6b1e0-c0d2-451f-bdd7-64758202fe0c",
   "metadata": {},
   "outputs": [
    {
     "data": {
      "text/plain": [
       "dict_values([200, 50, 250])"
      ]
     },
     "execution_count": 35,
     "metadata": {},
     "output_type": "execute_result"
    }
   ],
   "source": [
    "d1.values() # extracking values"
   ]
  },
  {
   "cell_type": "code",
   "execution_count": 36,
   "id": "cb205b28-5310-4034-95c2-18bec2ea9824",
   "metadata": {},
   "outputs": [],
   "source": [
    "d1[\"watermeloon\"] = 75 # add new element"
   ]
  },
  {
   "cell_type": "code",
   "execution_count": 37,
   "id": "8325f20c-6853-43f4-acf0-4aed26ec2a26",
   "metadata": {},
   "outputs": [
    {
     "data": {
      "text/plain": [
       "{'apple': 200, 'banana': 50, 'grapes': 250, 'watermeloon': 75}"
      ]
     },
     "execution_count": 37,
     "metadata": {},
     "output_type": "execute_result"
    }
   ],
   "source": [
    "d1"
   ]
  },
  {
   "cell_type": "code",
   "execution_count": 39,
   "id": "1603fd6e-de28-44a8-9227-3bb927edaf57",
   "metadata": {},
   "outputs": [],
   "source": [
    "d1[\"banana\"] = 30 # modifying values"
   ]
  },
  {
   "cell_type": "code",
   "execution_count": 40,
   "id": "e2d253fe-e680-4951-acc1-d89cc9083bd8",
   "metadata": {},
   "outputs": [
    {
     "data": {
      "text/plain": [
       "{'apple': 200, 'banana': 30, 'grapes': 250, 'watermeloon': 75}"
      ]
     },
     "execution_count": 40,
     "metadata": {},
     "output_type": "execute_result"
    }
   ],
   "source": [
    "d1"
   ]
  },
  {
   "cell_type": "code",
   "execution_count": 54,
   "id": "833562d7-895a-499d-9d0c-d2e33cad569d",
   "metadata": {},
   "outputs": [],
   "source": [
    "d2 = {\"name\":\"sayedur\",\"age\":20,\"city\":\"parbhani\"}"
   ]
  },
  {
   "cell_type": "code",
   "execution_count": 55,
   "id": "eb0c827f-ac25-408e-b044-8b9ccbe79458",
   "metadata": {},
   "outputs": [
    {
     "data": {
      "text/plain": [
       "{'name': 'sayedur', 'age': 20, 'city': 'parbhani'}"
      ]
     },
     "execution_count": 55,
     "metadata": {},
     "output_type": "execute_result"
    }
   ],
   "source": [
    "d2"
   ]
  },
  {
   "cell_type": "code",
   "execution_count": 56,
   "id": "4d020943-0c00-46f7-923a-873c22c8beac",
   "metadata": {},
   "outputs": [],
   "source": [
    "d1.update(d2) # marging two dict"
   ]
  },
  {
   "cell_type": "code",
   "execution_count": 57,
   "id": "5d26ec5a-488e-44f9-b978-2bc90ac33978",
   "metadata": {},
   "outputs": [
    {
     "data": {
      "text/plain": [
       "{'name': 'sayedur', 'age': 20, 'city': 'parbhani'}"
      ]
     },
     "execution_count": 57,
     "metadata": {},
     "output_type": "execute_result"
    }
   ],
   "source": [
    "d1"
   ]
  },
  {
   "cell_type": "code",
   "execution_count": 58,
   "id": "81bd38d0-0ffa-4ba2-9491-0a9139691134",
   "metadata": {},
   "outputs": [
    {
     "data": {
      "text/plain": [
       "{'name': 'sayedur', 'age': 20, 'city': 'parbhani'}"
      ]
     },
     "execution_count": 58,
     "metadata": {},
     "output_type": "execute_result"
    }
   ],
   "source": [
    "d2"
   ]
  },
  {
   "cell_type": "code",
   "execution_count": 59,
   "id": "9e482537-9e69-4b03-be08-b70d3d407de0",
   "metadata": {},
   "outputs": [
    {
     "data": {
      "text/plain": [
       "'parbhani'"
      ]
     },
     "execution_count": 59,
     "metadata": {},
     "output_type": "execute_result"
    }
   ],
   "source": [
    "d2.pop(\"city\") # remove and return elemnet "
   ]
  },
  {
   "cell_type": "code",
   "execution_count": 60,
   "id": "f960624d-fc14-4001-96b9-e1e78ebaa6dd",
   "metadata": {},
   "outputs": [
    {
     "data": {
      "text/plain": [
       "{'name': 'sayedur', 'age': 20}"
      ]
     },
     "execution_count": 60,
     "metadata": {},
     "output_type": "execute_result"
    }
   ],
   "source": [
    "d2"
   ]
  },
  {
   "cell_type": "code",
   "execution_count": 61,
   "id": "841e765c-9131-4b8f-86b5-0671b8f46f70",
   "metadata": {},
   "outputs": [],
   "source": [
    "d1.clear() #remove all items from a dictionary."
   ]
  },
  {
   "cell_type": "code",
   "execution_count": 62,
   "id": "dd95afd4-9418-4bd5-84f8-3137a3fc6062",
   "metadata": {},
   "outputs": [
    {
     "data": {
      "text/plain": [
       "{}"
      ]
     },
     "execution_count": 62,
     "metadata": {},
     "output_type": "execute_result"
    }
   ],
   "source": [
    "d1"
   ]
  },
  {
   "cell_type": "code",
   "execution_count": 63,
   "id": "b967a902-0d83-4913-975f-e8d9b9d40e82",
   "metadata": {},
   "outputs": [
    {
     "data": {
      "text/plain": [
       "dict_items([('name', 'sayedur'), ('age', 20)])"
      ]
     },
     "execution_count": 63,
     "metadata": {},
     "output_type": "execute_result"
    }
   ],
   "source": [
    "d2.items() # Returns all (key, value) pairs as tuples."
   ]
  },
  {
   "cell_type": "code",
   "execution_count": 64,
   "id": "57624c72-4264-40c9-b229-09f49ae5e14d",
   "metadata": {},
   "outputs": [],
   "source": [
    "d3 = d2.copy() # copy element from d2 and paste in d3"
   ]
  },
  {
   "cell_type": "code",
   "execution_count": 65,
   "id": "f42379bd-3a56-43ad-8a0d-2e007252f18d",
   "metadata": {},
   "outputs": [
    {
     "data": {
      "text/plain": [
       "{'name': 'sayedur', 'age': 20}"
      ]
     },
     "execution_count": 65,
     "metadata": {},
     "output_type": "execute_result"
    }
   ],
   "source": [
    "d2"
   ]
  },
  {
   "cell_type": "code",
   "execution_count": 66,
   "id": "6c062501-dfb3-49ef-b846-6fa405cc191a",
   "metadata": {},
   "outputs": [
    {
     "data": {
      "text/plain": [
       "{'name': 'sayedur', 'age': 20}"
      ]
     },
     "execution_count": 66,
     "metadata": {},
     "output_type": "execute_result"
    }
   ],
   "source": [
    "d3"
   ]
  },
  {
   "cell_type": "code",
   "execution_count": 67,
   "id": "35160824-f54f-40c9-8090-6e2878f79f16",
   "metadata": {},
   "outputs": [],
   "source": [
    "#Dict Completed"
   ]
  },
  {
   "cell_type": "markdown",
   "id": "a351f5ea-1dde-413a-a86c-b4578475d87e",
   "metadata": {},
   "source": [
    "SET"
   ]
  },
  {
   "cell_type": "code",
   "execution_count": 69,
   "id": "2ffa7d8e-7c48-44c7-8839-2c76f94ed990",
   "metadata": {},
   "outputs": [],
   "source": [
    "# set is an unordered collection of elements enclosed in {}.\n",
    "# duplicate  are not allowed in set."
   ]
  },
  {
   "cell_type": "code",
   "execution_count": 72,
   "id": "e671d120-c059-4468-a905-d340dcfab437",
   "metadata": {},
   "outputs": [],
   "source": [
    "s1 = {1,\"sayedur\",False,} # creating a set"
   ]
  },
  {
   "cell_type": "code",
   "execution_count": 73,
   "id": "f3ea40a3-38e0-43a1-a140-f5086d68b171",
   "metadata": {},
   "outputs": [
    {
     "data": {
      "text/plain": [
       "{1, False, 'sayedur'}"
      ]
     },
     "execution_count": 73,
     "metadata": {},
     "output_type": "execute_result"
    }
   ],
   "source": [
    "s1"
   ]
  },
  {
   "cell_type": "code",
   "execution_count": 74,
   "id": "768e7b6a-fa19-4648-8779-83fc7f0a6f45",
   "metadata": {},
   "outputs": [],
   "source": [
    "s1.add(\"hey\") # adding new element"
   ]
  },
  {
   "cell_type": "code",
   "execution_count": 75,
   "id": "59fca508-96a6-4f67-91b8-43363ec9c45f",
   "metadata": {},
   "outputs": [
    {
     "data": {
      "text/plain": [
       "{1, False, 'hey', 'sayedur'}"
      ]
     },
     "execution_count": 75,
     "metadata": {},
     "output_type": "execute_result"
    }
   ],
   "source": [
    "s1"
   ]
  },
  {
   "cell_type": "code",
   "execution_count": 76,
   "id": "51471075-6f23-42a8-8ba4-4a771fb63b8b",
   "metadata": {},
   "outputs": [],
   "source": [
    "s1.remove(False) # removing elemnt from set"
   ]
  },
  {
   "cell_type": "code",
   "execution_count": 77,
   "id": "6befe932-c55f-4f7e-8e2e-a4813bc002e6",
   "metadata": {},
   "outputs": [
    {
     "data": {
      "text/plain": [
       "{1, 'hey', 'sayedur'}"
      ]
     },
     "execution_count": 77,
     "metadata": {},
     "output_type": "execute_result"
    }
   ],
   "source": [
    "s1"
   ]
  },
  {
   "cell_type": "code",
   "execution_count": 78,
   "id": "a54986cc-a8b8-4cef-b579-20eb5aa72fe2",
   "metadata": {},
   "outputs": [],
   "source": [
    "#Functions"
   ]
  },
  {
   "cell_type": "code",
   "execution_count": 79,
   "id": "d415cf65-ecec-4667-9de5-04cdc03f599f",
   "metadata": {},
   "outputs": [
    {
     "data": {
      "text/plain": [
       "{1, 'hey', 'sayedur'}"
      ]
     },
     "execution_count": 79,
     "metadata": {},
     "output_type": "execute_result"
    }
   ],
   "source": [
    "s1"
   ]
  },
  {
   "cell_type": "code",
   "execution_count": 80,
   "id": "5441d5c2-3882-43f1-a4cd-6c1483abffd6",
   "metadata": {},
   "outputs": [],
   "source": [
    "s2 = {\"hello\",20,} # creating another set"
   ]
  },
  {
   "cell_type": "code",
   "execution_count": 81,
   "id": "85816b77-fbd9-4174-828d-db27abb0e70d",
   "metadata": {},
   "outputs": [
    {
     "data": {
      "text/plain": [
       "{20, 'hello'}"
      ]
     },
     "execution_count": 81,
     "metadata": {},
     "output_type": "execute_result"
    }
   ],
   "source": [
    "s2"
   ]
  },
  {
   "cell_type": "code",
   "execution_count": 82,
   "id": "2f7ff474-7e3e-498f-9c4d-1c50c9636ce0",
   "metadata": {},
   "outputs": [
    {
     "data": {
      "text/plain": [
       "{1, 20, 'hello', 'hey', 'sayedur'}"
      ]
     },
     "execution_count": 82,
     "metadata": {},
     "output_type": "execute_result"
    }
   ],
   "source": [
    "s1.union(s2) # appending s2 into s1."
   ]
  },
  {
   "cell_type": "code",
   "execution_count": 83,
   "id": "fadc1198-8ac3-4b51-a2c1-e87ac48dcb86",
   "metadata": {},
   "outputs": [],
   "source": [
    "new1 = {1,2,3,4,5}"
   ]
  },
  {
   "cell_type": "code",
   "execution_count": 84,
   "id": "ac1fae27-1eb0-42b9-aa8e-1b2c5663c16a",
   "metadata": {},
   "outputs": [
    {
     "data": {
      "text/plain": [
       "{1, 2, 3, 4, 5}"
      ]
     },
     "execution_count": 84,
     "metadata": {},
     "output_type": "execute_result"
    }
   ],
   "source": [
    "new1"
   ]
  },
  {
   "cell_type": "code",
   "execution_count": 85,
   "id": "db853986-fdc2-4c5f-9024-b884da6b1ae6",
   "metadata": {},
   "outputs": [
    {
     "data": {
      "text/plain": [
       "{1, 2, 3, 4}"
      ]
     },
     "execution_count": 85,
     "metadata": {},
     "output_type": "execute_result"
    }
   ],
   "source": [
    "new2 = {2,1,3,4}\n",
    "new2"
   ]
  },
  {
   "cell_type": "code",
   "execution_count": 86,
   "id": "263bd9f3-7663-4d92-8f69-011df8a3dea9",
   "metadata": {},
   "outputs": [
    {
     "data": {
      "text/plain": [
       "{1, 2, 3, 4}"
      ]
     },
     "execution_count": 86,
     "metadata": {},
     "output_type": "execute_result"
    }
   ],
   "source": [
    "new1.intersection(new2) # finding common values between two sets"
   ]
  },
  {
   "cell_type": "code",
   "execution_count": 87,
   "id": "2c96f3b6-d293-4daf-94ce-4f683fd976bd",
   "metadata": {},
   "outputs": [],
   "source": [
    "new1.update([10,20,30]) # adding multiple elemet "
   ]
  },
  {
   "cell_type": "code",
   "execution_count": 89,
   "id": "3479e9be-d20f-4e42-99e2-17075ddbb75f",
   "metadata": {},
   "outputs": [
    {
     "data": {
      "text/plain": [
       "{1, 2, 3, 4, 5, 10, 20, 30}"
      ]
     },
     "execution_count": 89,
     "metadata": {},
     "output_type": "execute_result"
    }
   ],
   "source": [
    "new1"
   ]
  },
  {
   "cell_type": "code",
   "execution_count": 90,
   "id": "97da42c1-b71c-4e6b-b25d-4afb6a6cd17f",
   "metadata": {},
   "outputs": [],
   "source": [
    "new1.clear() # clear all set elemts"
   ]
  },
  {
   "cell_type": "code",
   "execution_count": 91,
   "id": "19636bec-75cd-47c7-8154-4ef9fa7f0ede",
   "metadata": {},
   "outputs": [
    {
     "data": {
      "text/plain": [
       "set()"
      ]
     },
     "execution_count": 91,
     "metadata": {},
     "output_type": "execute_result"
    }
   ],
   "source": [
    "new1"
   ]
  },
  {
   "cell_type": "code",
   "execution_count": null,
   "id": "1c9663c7-fdc6-4929-8b54-11b30a4e8e47",
   "metadata": {},
   "outputs": [],
   "source": []
  },
  {
   "cell_type": "code",
   "execution_count": null,
   "id": "b6817464-8d3c-4fc9-90f9-fa858ecc0c95",
   "metadata": {},
   "outputs": [],
   "source": []
  },
  {
   "cell_type": "code",
   "execution_count": null,
   "id": "30b3dd3b-56a2-43e5-9b22-69db4deb8ee4",
   "metadata": {},
   "outputs": [],
   "source": []
  },
  {
   "cell_type": "code",
   "execution_count": null,
   "id": "569dd788-5d09-4f82-832a-955a859d4728",
   "metadata": {},
   "outputs": [],
   "source": []
  },
  {
   "cell_type": "code",
   "execution_count": null,
   "id": "7c8d7d97-c814-4c5a-bdd6-b327b7f7ed19",
   "metadata": {},
   "outputs": [],
   "source": []
  },
  {
   "cell_type": "code",
   "execution_count": null,
   "id": "b78fe8f4-5ee3-46c5-a781-c9575f98e6c9",
   "metadata": {},
   "outputs": [],
   "source": []
  },
  {
   "cell_type": "code",
   "execution_count": null,
   "id": "1bc32cf7-f7b5-458a-b0e1-4a51792afe3a",
   "metadata": {},
   "outputs": [],
   "source": []
  }
 ],
 "metadata": {
  "kernelspec": {
   "display_name": "Python 3 (ipykernel)",
   "language": "python",
   "name": "python3"
  },
  "language_info": {
   "codemirror_mode": {
    "name": "ipython",
    "version": 3
   },
   "file_extension": ".py",
   "mimetype": "text/x-python",
   "name": "python",
   "nbconvert_exporter": "python",
   "pygments_lexer": "ipython3",
   "version": "3.13.5"
  }
 },
 "nbformat": 4,
 "nbformat_minor": 5
}
