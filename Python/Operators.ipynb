{
 "cells": [
  {
   "cell_type": "markdown",
   "id": "487adf78-1335-40e8-84de-54c1ddd9320d",
   "metadata": {},
   "source": [
    "Arithmatic operator"
   ]
  },
  {
   "cell_type": "code",
   "execution_count": 1,
   "id": "a869a130-77c3-44eb-9c88-3b903248e698",
   "metadata": {},
   "outputs": [],
   "source": [
    "x,y=10,20"
   ]
  },
  {
   "cell_type": "code",
   "execution_count": 2,
   "id": "4a14dd6a-7a16-472c-8051-824314670468",
   "metadata": {},
   "outputs": [
    {
     "data": {
      "text/plain": [
       "30"
      ]
     },
     "execution_count": 2,
     "metadata": {},
     "output_type": "execute_result"
    }
   ],
   "source": [
    "x + y # addition"
   ]
  },
  {
   "cell_type": "code",
   "execution_count": 3,
   "id": "ad4f7e7f-7f3f-458c-83b9-85d927bcdaab",
   "metadata": {},
   "outputs": [
    {
     "data": {
      "text/plain": [
       "-10"
      ]
     },
     "execution_count": 3,
     "metadata": {},
     "output_type": "execute_result"
    }
   ],
   "source": [
    "x-y #substraction"
   ]
  },
  {
   "cell_type": "code",
   "execution_count": 4,
   "id": "f33ba1ae-74fc-4676-bfe7-9113750ecbae",
   "metadata": {},
   "outputs": [
    {
     "data": {
      "text/plain": [
       "200"
      ]
     },
     "execution_count": 4,
     "metadata": {},
     "output_type": "execute_result"
    }
   ],
   "source": [
    "x * y # multiplication"
   ]
  },
  {
   "cell_type": "code",
   "execution_count": 5,
   "id": "b17eead2-44ee-45e3-bfb4-ba0e6e3bb495",
   "metadata": {},
   "outputs": [
    {
     "data": {
      "text/plain": [
       "0.5"
      ]
     },
     "execution_count": 5,
     "metadata": {},
     "output_type": "execute_result"
    }
   ],
   "source": [
    "x / y #division"
   ]
  },
  {
   "cell_type": "code",
   "execution_count": 6,
   "id": "cdfc91e7-cac9-421b-99ec-9415ab921a31",
   "metadata": {},
   "outputs": [
    {
     "data": {
      "text/plain": [
       "0"
      ]
     },
     "execution_count": 6,
     "metadata": {},
     "output_type": "execute_result"
    }
   ],
   "source": [
    "x // y # float Division"
   ]
  },
  {
   "cell_type": "code",
   "execution_count": 7,
   "id": "1cbb41b1-4966-4a45-bdce-18cf3aeb9d2c",
   "metadata": {},
   "outputs": [
    {
     "data": {
      "text/plain": [
       "10"
      ]
     },
     "execution_count": 7,
     "metadata": {},
     "output_type": "execute_result"
    }
   ],
   "source": [
    "x % y # modulus"
   ]
  },
  {
   "cell_type": "code",
   "execution_count": 8,
   "id": "15159695-9af6-4220-be18-ede89277a6c9",
   "metadata": {},
   "outputs": [
    {
     "data": {
      "text/plain": [
       "100000000000000000000"
      ]
     },
     "execution_count": 8,
     "metadata": {},
     "output_type": "execute_result"
    }
   ],
   "source": [
    "x ** y # Exponentiation "
   ]
  },
  {
   "cell_type": "markdown",
   "id": "0325cbde-dddd-4442-9b1f-b59ec5ba56c0",
   "metadata": {},
   "source": [
    "Assignment Operators"
   ]
  },
  {
   "cell_type": "code",
   "execution_count": 9,
   "id": "d6d78390-32ed-434e-902f-3f7050a414ec",
   "metadata": {},
   "outputs": [],
   "source": [
    "x=2"
   ]
  },
  {
   "cell_type": "code",
   "execution_count": 10,
   "id": "991e6a95-bdda-4aec-83c8-a10064c8b2df",
   "metadata": {},
   "outputs": [
    {
     "data": {
      "text/plain": [
       "2"
      ]
     },
     "execution_count": 10,
     "metadata": {},
     "output_type": "execute_result"
    }
   ],
   "source": [
    "x"
   ]
  },
  {
   "cell_type": "code",
   "execution_count": 11,
   "id": "53baf026-02be-4f24-876a-e10c85da880d",
   "metadata": {},
   "outputs": [],
   "source": [
    "x+=2"
   ]
  },
  {
   "cell_type": "code",
   "execution_count": 12,
   "id": "535217a0-355c-4175-a278-14d6c8601bb6",
   "metadata": {},
   "outputs": [
    {
     "data": {
      "text/plain": [
       "4"
      ]
     },
     "execution_count": 12,
     "metadata": {},
     "output_type": "execute_result"
    }
   ],
   "source": [
    "x"
   ]
  },
  {
   "cell_type": "code",
   "execution_count": 13,
   "id": "a226239e-034a-40db-9282-f7ffc2125b7b",
   "metadata": {},
   "outputs": [
    {
     "data": {
      "text/plain": [
       "2"
      ]
     },
     "execution_count": 13,
     "metadata": {},
     "output_type": "execute_result"
    }
   ],
   "source": [
    "x -= 2\n",
    "x"
   ]
  },
  {
   "cell_type": "code",
   "execution_count": 14,
   "id": "3b51f8be-60fa-4b8b-8808-57a1ee5e603b",
   "metadata": {},
   "outputs": [
    {
     "data": {
      "text/plain": [
       "4"
      ]
     },
     "execution_count": 14,
     "metadata": {},
     "output_type": "execute_result"
    }
   ],
   "source": [
    "x *= 2\n",
    "x"
   ]
  },
  {
   "cell_type": "code",
   "execution_count": 15,
   "id": "b39bfe0a-7156-4f6c-a563-8e538d5c950b",
   "metadata": {},
   "outputs": [
    {
     "data": {
      "text/plain": [
       "2.0"
      ]
     },
     "execution_count": 15,
     "metadata": {},
     "output_type": "execute_result"
    }
   ],
   "source": [
    "x /= 2\n",
    "x"
   ]
  },
  {
   "cell_type": "markdown",
   "id": "6036fcd6-cc04-42be-88ef-994da3bd357a",
   "metadata": {},
   "source": [
    "Unary Operator"
   ]
  },
  {
   "cell_type": "code",
   "execution_count": 16,
   "id": "fcf99673-635d-4bb7-9a54-e261ace3fe3a",
   "metadata": {},
   "outputs": [],
   "source": [
    "n = 7\n"
   ]
  },
  {
   "cell_type": "code",
   "execution_count": 17,
   "id": "9c8b78b8-fc3d-4d22-821e-3fcc47c9c5c7",
   "metadata": {},
   "outputs": [],
   "source": [
    "m = -(n) # negattion"
   ]
  },
  {
   "cell_type": "code",
   "execution_count": 18,
   "id": "84733ec3-c0e1-45f2-a586-624bb7fe65c8",
   "metadata": {},
   "outputs": [
    {
     "data": {
      "text/plain": [
       "-7"
      ]
     },
     "execution_count": 18,
     "metadata": {},
     "output_type": "execute_result"
    }
   ],
   "source": [
    "m"
   ]
  },
  {
   "cell_type": "code",
   "execution_count": 19,
   "id": "9d8eb61a-d7f1-4551-bad4-56590c54b880",
   "metadata": {},
   "outputs": [
    {
     "data": {
      "text/plain": [
       "7"
      ]
     },
     "execution_count": 19,
     "metadata": {},
     "output_type": "execute_result"
    }
   ],
   "source": [
    "n"
   ]
  },
  {
   "cell_type": "code",
   "execution_count": 20,
   "id": "f33bc020-76aa-4a44-8cd1-e2a7d18efab1",
   "metadata": {},
   "outputs": [
    {
     "data": {
      "text/plain": [
       "-7"
      ]
     },
     "execution_count": 20,
     "metadata": {},
     "output_type": "execute_result"
    }
   ],
   "source": [
    "-n"
   ]
  },
  {
   "cell_type": "markdown",
   "id": "03e63f59-44ca-42aa-bb5d-954d0ca7b332",
   "metadata": {},
   "source": [
    "Relational Operators"
   ]
  },
  {
   "cell_type": "code",
   "execution_count": 21,
   "id": "3c82e249-5ebb-49b4-8423-26233656b887",
   "metadata": {},
   "outputs": [],
   "source": [
    "x = 5\n",
    "y = 3"
   ]
  },
  {
   "cell_type": "code",
   "execution_count": 22,
   "id": "b14a12bd-4ab6-4ad5-a068-3d5cf1607713",
   "metadata": {},
   "outputs": [
    {
     "data": {
      "text/plain": [
       "False"
      ]
     },
     "execution_count": 22,
     "metadata": {},
     "output_type": "execute_result"
    }
   ],
   "source": [
    "x == y"
   ]
  },
  {
   "cell_type": "code",
   "execution_count": 23,
   "id": "362cef1d-17d9-479c-b0d9-2267aaa434ff",
   "metadata": {},
   "outputs": [
    {
     "data": {
      "text/plain": [
       "True"
      ]
     },
     "execution_count": 23,
     "metadata": {},
     "output_type": "execute_result"
    }
   ],
   "source": [
    "x>y"
   ]
  },
  {
   "cell_type": "code",
   "execution_count": 24,
   "id": "344d9812-f350-4b61-9fa7-d928e0bfebad",
   "metadata": {},
   "outputs": [
    {
     "data": {
      "text/plain": [
       "False"
      ]
     },
     "execution_count": 24,
     "metadata": {},
     "output_type": "execute_result"
    }
   ],
   "source": [
    "x<y"
   ]
  },
  {
   "cell_type": "code",
   "execution_count": 25,
   "id": "96b1d54d-223d-4cd7-b947-03ecab0d613b",
   "metadata": {},
   "outputs": [
    {
     "data": {
      "text/plain": [
       "True"
      ]
     },
     "execution_count": 25,
     "metadata": {},
     "output_type": "execute_result"
    }
   ],
   "source": [
    "x>=y"
   ]
  },
  {
   "cell_type": "code",
   "execution_count": 26,
   "id": "75862115-1a14-4f9f-82d1-6612903fa817",
   "metadata": {},
   "outputs": [
    {
     "data": {
      "text/plain": [
       "False"
      ]
     },
     "execution_count": 26,
     "metadata": {},
     "output_type": "execute_result"
    }
   ],
   "source": [
    "x<=y"
   ]
  },
  {
   "cell_type": "code",
   "execution_count": 27,
   "id": "c07302a2-da20-4c93-8580-70a8dcb66fc5",
   "metadata": {},
   "outputs": [
    {
     "data": {
      "text/plain": [
       "True"
      ]
     },
     "execution_count": 27,
     "metadata": {},
     "output_type": "execute_result"
    }
   ],
   "source": [
    "x != y"
   ]
  },
  {
   "cell_type": "markdown",
   "id": "dbc897a4-9c76-4ebf-886c-274353fe9573",
   "metadata": {},
   "source": [
    "Logical operator"
   ]
  },
  {
   "cell_type": "code",
   "execution_count": 28,
   "id": "b7a60f20-2ae0-49d2-9f7e-1c53f3f13de3",
   "metadata": {},
   "outputs": [],
   "source": [
    "x = 5\n",
    "y = 10"
   ]
  },
  {
   "cell_type": "code",
   "execution_count": 29,
   "id": "371d9a9e-4556-459d-99bf-d73ae872b155",
   "metadata": {},
   "outputs": [
    {
     "data": {
      "text/plain": [
       "False"
      ]
     },
     "execution_count": 29,
     "metadata": {},
     "output_type": "execute_result"
    }
   ],
   "source": [
    "x < y and x==y # if both condition is true then 'and' return true"
   ]
  },
  {
   "cell_type": "code",
   "execution_count": 30,
   "id": "85a3afda-68d8-448c-90d1-945a3f9b2032",
   "metadata": {},
   "outputs": [
    {
     "data": {
      "text/plain": [
       "True"
      ]
     },
     "execution_count": 30,
     "metadata": {},
     "output_type": "execute_result"
    }
   ],
   "source": [
    "x < y and x!=y"
   ]
  },
  {
   "cell_type": "code",
   "execution_count": 31,
   "id": "e63176de-8a14-490f-bd67-decdb12338a7",
   "metadata": {},
   "outputs": [
    {
     "data": {
      "text/plain": [
       "True"
      ]
     },
     "execution_count": 31,
     "metadata": {},
     "output_type": "execute_result"
    }
   ],
   "source": [
    "x < y or x ==y # if from both one condition is true then it is return true"
   ]
  },
  {
   "cell_type": "code",
   "execution_count": 32,
   "id": "bb364838-b205-4c0a-b5f5-a35efcb7d788",
   "metadata": {},
   "outputs": [
    {
     "data": {
      "text/plain": [
       "False"
      ]
     },
     "execution_count": 32,
     "metadata": {},
     "output_type": "execute_result"
    }
   ],
   "source": [
    "x > y or x==y # false cuz both cond is false"
   ]
  },
  {
   "cell_type": "code",
   "execution_count": 33,
   "id": "d3e550b8-c75d-4ec5-ae1f-95cf8641fa0a",
   "metadata": {},
   "outputs": [
    {
     "data": {
      "text/plain": [
       "False"
      ]
     },
     "execution_count": 33,
     "metadata": {},
     "output_type": "execute_result"
    }
   ],
   "source": [
    "x = False\n",
    "x"
   ]
  },
  {
   "cell_type": "code",
   "execution_count": 34,
   "id": "af4d0f29-099c-40d1-a578-3bda422dde95",
   "metadata": {},
   "outputs": [
    {
     "data": {
      "text/plain": [
       "True"
      ]
     },
     "execution_count": 34,
     "metadata": {},
     "output_type": "execute_result"
    }
   ],
   "source": [
    "not x  # you can reverse the operation"
   ]
  },
  {
   "cell_type": "markdown",
   "id": "77d12801-bb66-4807-9ceb-7fa4e139fda8",
   "metadata": {},
   "source": [
    "Number System Conversation"
   ]
  },
  {
   "cell_type": "code",
   "execution_count": 35,
   "id": "1c0cd0dd-0cc8-407e-a0ae-dbb1e1817c26",
   "metadata": {},
   "outputs": [
    {
     "data": {
      "text/plain": [
       "35"
      ]
     },
     "execution_count": 35,
     "metadata": {},
     "output_type": "execute_result"
    }
   ],
   "source": [
    "35"
   ]
  },
  {
   "cell_type": "code",
   "execution_count": 36,
   "id": "fd647531-7dbb-463f-bad5-51df0971f232",
   "metadata": {},
   "outputs": [
    {
     "data": {
      "text/plain": [
       "'0b100011'"
      ]
     },
     "execution_count": 36,
     "metadata": {},
     "output_type": "execute_result"
    }
   ],
   "source": [
    "bin(35)"
   ]
  },
  {
   "cell_type": "code",
   "execution_count": 37,
   "id": "40539cb0-76b8-47ca-aaa9-31c240c7b35a",
   "metadata": {},
   "outputs": [
    {
     "data": {
      "text/plain": [
       "35"
      ]
     },
     "execution_count": 37,
     "metadata": {},
     "output_type": "execute_result"
    }
   ],
   "source": [
    "int(0b100011)"
   ]
  },
  {
   "cell_type": "code",
   "execution_count": 38,
   "id": "8017479c-1686-41fb-9398-7e01ae89ff9f",
   "metadata": {},
   "outputs": [
    {
     "data": {
      "text/plain": [
       "'0o17'"
      ]
     },
     "execution_count": 38,
     "metadata": {},
     "output_type": "execute_result"
    }
   ],
   "source": [
    "oct(15)"
   ]
  },
  {
   "cell_type": "code",
   "execution_count": 39,
   "id": "7405ac77-c667-4e95-9e82-2d8a64200119",
   "metadata": {},
   "outputs": [
    {
     "data": {
      "text/plain": [
       "15"
      ]
     },
     "execution_count": 39,
     "metadata": {},
     "output_type": "execute_result"
    }
   ],
   "source": [
    "int(0o17)"
   ]
  },
  {
   "cell_type": "code",
   "execution_count": 40,
   "id": "41e7dba4-056b-46fe-9c55-8332d5a2e464",
   "metadata": {},
   "outputs": [
    {
     "data": {
      "text/plain": [
       "'0x1e'"
      ]
     },
     "execution_count": 40,
     "metadata": {},
     "output_type": "execute_result"
    }
   ],
   "source": [
    "hex(30)"
   ]
  },
  {
   "cell_type": "code",
   "execution_count": 41,
   "id": "9f1b1251-8475-4432-8ae4-59a375476d62",
   "metadata": {},
   "outputs": [
    {
     "data": {
      "text/plain": [
       "30"
      ]
     },
     "execution_count": 41,
     "metadata": {},
     "output_type": "execute_result"
    }
   ],
   "source": [
    "int(0x1e)"
   ]
  },
  {
   "cell_type": "code",
   "execution_count": null,
   "id": "4eed1f7e-9f3e-4a02-949d-d6dcf7314c78",
   "metadata": {},
   "outputs": [],
   "source": []
  },
  {
   "cell_type": "code",
   "execution_count": null,
   "id": "63c901ce-e496-4c51-803f-8763eff07cce",
   "metadata": {},
   "outputs": [],
   "source": []
  },
  {
   "cell_type": "code",
   "execution_count": null,
   "id": "e8668aee-9b2e-453b-b8ec-bf42cdb5a61b",
   "metadata": {},
   "outputs": [],
   "source": []
  }
 ],
 "metadata": {
  "kernelspec": {
   "display_name": "Python 3 (ipykernel)",
   "language": "python",
   "name": "python3"
  },
  "language_info": {
   "codemirror_mode": {
    "name": "ipython",
    "version": 3
   },
   "file_extension": ".py",
   "mimetype": "text/x-python",
   "name": "python",
   "nbconvert_exporter": "python",
   "pygments_lexer": "ipython3",
   "version": "3.13.5"
  }
 },
 "nbformat": 4,
 "nbformat_minor": 5
}
