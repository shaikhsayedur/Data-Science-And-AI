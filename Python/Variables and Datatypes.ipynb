{
 "cells": [
  {
   "cell_type": "code",
   "execution_count": 1,
   "id": "6998ee4e-a91f-48cc-a101-fde9969e10b1",
   "metadata": {},
   "outputs": [],
   "source": [
    "name=\"sayedur\" #Strings"
   ]
  },
  {
   "cell_type": "code",
   "execution_count": 2,
   "id": "0ac8117a-50db-4a53-b442-db97a2c47b8f",
   "metadata": {},
   "outputs": [],
   "source": [
    "age=20 #integer value"
   ]
  },
  {
   "cell_type": "code",
   "execution_count": 3,
   "id": "253f0517-1040-47ba-bd23-83290559cfe0",
   "metadata": {},
   "outputs": [],
   "source": [
    "height=5.9 #float value"
   ]
  },
  {
   "cell_type": "code",
   "execution_count": 4,
   "id": "f06deca4-f312-4136-adf3-b0dfcc503649",
   "metadata": {},
   "outputs": [],
   "source": [
    "is_student=True #boolean"
   ]
  },
  {
   "cell_type": "code",
   "execution_count": 5,
   "id": "060432e8-cc60-4e09-9a8f-04ff496d14c6",
   "metadata": {},
   "outputs": [],
   "source": [
    "x=7"
   ]
  },
  {
   "cell_type": "code",
   "execution_count": 6,
   "id": "f0a4c856-d2ce-427b-8a54-e6fbb7f97e44",
   "metadata": {},
   "outputs": [],
   "source": [
    "y='sayedur'"
   ]
  },
  {
   "cell_type": "raw",
   "id": "1113b68a-96fd-4cd1-a7c0-c5d0b304aefa",
   "metadata": {},
   "source": []
  },
  {
   "cell_type": "code",
   "execution_count": 7,
   "id": "3d6f15a8-a895-4fcb-8fcc-1c68c272fd7a",
   "metadata": {},
   "outputs": [
    {
     "name": "stdout",
     "output_type": "stream",
     "text": [
      "7\n",
      "sayedur\n"
     ]
    }
   ],
   "source": [
    "print(x)\n",
    "print(y)"
   ]
  },
  {
   "cell_type": "markdown",
   "id": "dcb4415b-942e-4062-b1d6-03dced30b251",
   "metadata": {},
   "source": [
    "Most important things to know about the variables in python"
   ]
  },
  {
   "cell_type": "markdown",
   "id": "5918fe6a-51a6-4058-979a-c17a4e3c1ba7",
   "metadata": {},
   "source": [
    "1. Dynamic typing"
   ]
  },
  {
   "cell_type": "code",
   "execution_count": 8,
   "id": "761e984c-68f6-4f62-af56-8c7b6a36d0ec",
   "metadata": {},
   "outputs": [],
   "source": [
    "x=20 #integer"
   ]
  },
  {
   "cell_type": "code",
   "execution_count": 9,
   "id": "87dcf5da-7cfe-48be-88e3-5b48951761e7",
   "metadata": {},
   "outputs": [
    {
     "data": {
      "text/plain": [
       "20"
      ]
     },
     "execution_count": 9,
     "metadata": {},
     "output_type": "execute_result"
    }
   ],
   "source": [
    "x"
   ]
  },
  {
   "cell_type": "code",
   "execution_count": 10,
   "id": "7e702e53-ff76-4de3-8ece-7e78075bab55",
   "metadata": {},
   "outputs": [],
   "source": [
    "y='sayedur' #String"
   ]
  },
  {
   "cell_type": "code",
   "execution_count": 11,
   "id": "8e268feb-0d20-4c4f-a701-8dc8696f11e1",
   "metadata": {},
   "outputs": [
    {
     "data": {
      "text/plain": [
       "'sayedur'"
      ]
     },
     "execution_count": 11,
     "metadata": {},
     "output_type": "execute_result"
    }
   ],
   "source": [
    "y"
   ]
  },
  {
   "cell_type": "markdown",
   "id": "09c39365-3edb-424b-a883-f51b23d49ab1",
   "metadata": {},
   "source": [
    "2. case sensetive"
   ]
  },
  {
   "cell_type": "code",
   "execution_count": 12,
   "id": "717a50c2-f94d-46f9-b741-256c0d40d9dd",
   "metadata": {},
   "outputs": [],
   "source": [
    "Name = \" sayedur \" #capital"
   ]
  },
  {
   "cell_type": "code",
   "execution_count": 13,
   "id": "9a18302c-fdf1-4190-8855-c2286a3c5603",
   "metadata": {},
   "outputs": [],
   "source": [
    "name = \" shaikh \" #small"
   ]
  },
  {
   "cell_type": "code",
   "execution_count": 14,
   "id": "ed71e53c-89ca-4bbf-b49e-d498d439e46f",
   "metadata": {},
   "outputs": [
    {
     "data": {
      "text/plain": [
       "' sayedur '"
      ]
     },
     "execution_count": 14,
     "metadata": {},
     "output_type": "execute_result"
    }
   ],
   "source": [
    "Name"
   ]
  },
  {
   "cell_type": "code",
   "execution_count": 15,
   "id": "90a7f657-3701-436a-b9f0-562d6c1de264",
   "metadata": {},
   "outputs": [
    {
     "data": {
      "text/plain": [
       "' shaikh '"
      ]
     },
     "execution_count": 15,
     "metadata": {},
     "output_type": "execute_result"
    }
   ],
   "source": [
    "name"
   ]
  },
  {
   "cell_type": "markdown",
   "id": "9701ee0b-8d36-45e7-b72d-6722313c906e",
   "metadata": {},
   "source": [
    "3. Multiple assignments"
   ]
  },
  {
   "cell_type": "code",
   "execution_count": 16,
   "id": "c3393cc6-6701-4720-8c9a-dfcd3390ab00",
   "metadata": {},
   "outputs": [],
   "source": [
    "x,y,z=1,2,3"
   ]
  },
  {
   "cell_type": "code",
   "execution_count": 17,
   "id": "2990504e-5070-436e-88b8-0aa2317cc820",
   "metadata": {},
   "outputs": [
    {
     "data": {
      "text/plain": [
       "1"
      ]
     },
     "execution_count": 17,
     "metadata": {},
     "output_type": "execute_result"
    }
   ],
   "source": [
    "x"
   ]
  },
  {
   "cell_type": "code",
   "execution_count": 18,
   "id": "f2f41469-73e8-4f55-a74e-6f2e1d7a73c0",
   "metadata": {},
   "outputs": [
    {
     "data": {
      "text/plain": [
       "2"
      ]
     },
     "execution_count": 18,
     "metadata": {},
     "output_type": "execute_result"
    }
   ],
   "source": [
    "y"
   ]
  },
  {
   "cell_type": "code",
   "execution_count": 19,
   "id": "727082d3-8487-488c-854e-ee4cad6c5055",
   "metadata": {},
   "outputs": [
    {
     "data": {
      "text/plain": [
       "3"
      ]
     },
     "execution_count": 19,
     "metadata": {},
     "output_type": "execute_result"
    }
   ],
   "source": [
    "z"
   ]
  },
  {
   "cell_type": "markdown",
   "id": "05bd5a31-8a49-46ea-b09b-8dc9f7196250",
   "metadata": {},
   "source": [
    "4. Swapping variables"
   ]
  },
  {
   "cell_type": "code",
   "execution_count": 20,
   "id": "6a1febd1-3935-4e1c-8ff0-a9fd8e7770c4",
   "metadata": {},
   "outputs": [],
   "source": [
    "a,b=10,20"
   ]
  },
  {
   "cell_type": "code",
   "execution_count": 21,
   "id": "d6aa53a8-bfde-4f09-ab56-2ddf3b2c56d7",
   "metadata": {},
   "outputs": [
    {
     "data": {
      "text/plain": [
       "(10, 20)"
      ]
     },
     "execution_count": 21,
     "metadata": {},
     "output_type": "execute_result"
    }
   ],
   "source": [
    "a,b"
   ]
  },
  {
   "cell_type": "code",
   "execution_count": 22,
   "id": "934b6c42-483f-4864-bcbc-9dd286d811d4",
   "metadata": {},
   "outputs": [],
   "source": [
    "a,b=b,a"
   ]
  },
  {
   "cell_type": "code",
   "execution_count": 23,
   "id": "cea8d880-ccab-4fe0-ab2e-03595eaa7eed",
   "metadata": {},
   "outputs": [
    {
     "data": {
      "text/plain": [
       "(20, 10)"
      ]
     },
     "execution_count": 23,
     "metadata": {},
     "output_type": "execute_result"
    }
   ],
   "source": [
    "a,b"
   ]
  },
  {
   "cell_type": "code",
   "execution_count": 24,
   "id": "9cf87c0a-d394-415e-90c5-7c7636d0c89f",
   "metadata": {},
   "outputs": [
    {
     "data": {
      "text/plain": [
       "1"
      ]
     },
     "execution_count": 24,
     "metadata": {},
     "output_type": "execute_result"
    }
   ],
   "source": [
    "x"
   ]
  },
  {
   "cell_type": "code",
   "execution_count": 25,
   "id": "0616d952-7a58-49ff-91bc-c0c389bd8330",
   "metadata": {},
   "outputs": [
    {
     "data": {
      "text/plain": [
       "140711554233256"
      ]
     },
     "execution_count": 25,
     "metadata": {},
     "output_type": "execute_result"
    }
   ],
   "source": [
    "id(x) # it shows the memoery address of x variable"
   ]
  },
  {
   "cell_type": "markdown",
   "id": "a02685ca-36f4-485f-a24f-34ede27f469c",
   "metadata": {},
   "source": [
    ".Rules"
   ]
  },
  {
   "cell_type": "code",
   "execution_count": 26,
   "id": "9f633821-ab8c-4f14-93df-5caea39e61cb",
   "metadata": {},
   "outputs": [],
   "source": [
    "user_name = 'sayeduuu_shaikh' # possible"
   ]
  },
  {
   "cell_type": "code",
   "execution_count": 27,
   "id": "7f01dcbf-1cc9-4001-9808-ac0fcead88a5",
   "metadata": {},
   "outputs": [
    {
     "data": {
      "text/plain": [
       "'sayeduuu_shaikh'"
      ]
     },
     "execution_count": 27,
     "metadata": {},
     "output_type": "execute_result"
    }
   ],
   "source": [
    "user_name"
   ]
  },
  {
   "cell_type": "code",
   "execution_count": 28,
   "id": "736ddb75-aba9-4cfe-82e8-5fc545a8d148",
   "metadata": {},
   "outputs": [],
   "source": [
    "age1=21 #possible"
   ]
  },
  {
   "cell_type": "code",
   "execution_count": 29,
   "id": "22c745fd-4b0e-4105-9e4c-8a82e5f85282",
   "metadata": {},
   "outputs": [
    {
     "data": {
      "text/plain": [
       "21"
      ]
     },
     "execution_count": 29,
     "metadata": {},
     "output_type": "execute_result"
    }
   ],
   "source": [
    "age1"
   ]
  },
  {
   "cell_type": "code",
   "execution_count": 30,
   "id": "3d61a39b-087f-47c4-b25b-5c43a018ab0a",
   "metadata": {},
   "outputs": [
    {
     "ename": "SyntaxError",
     "evalue": "invalid decimal literal (817033958.py, line 1)",
     "output_type": "error",
     "traceback": [
      "\u001b[1;36m  Cell \u001b[1;32mIn[30], line 1\u001b[1;36m\u001b[0m\n\u001b[1;33m    1user = 'sayeduuu' # error because username can't start with number in python.\u001b[0m\n\u001b[1;37m    ^\u001b[0m\n\u001b[1;31mSyntaxError\u001b[0m\u001b[1;31m:\u001b[0m invalid decimal literal\n"
     ]
    }
   ],
   "source": [
    "1user = 'sayeduuu' # error because username can't start with number in python."
   ]
  },
  {
   "cell_type": "code",
   "execution_count": null,
   "id": "02ed49ae-4550-424a-8851-4e69c6418fae",
   "metadata": {},
   "outputs": [],
   "source": []
  }
 ],
 "metadata": {
  "kernelspec": {
   "display_name": "Python 3 (ipykernel)",
   "language": "python",
   "name": "python3"
  },
  "language_info": {
   "codemirror_mode": {
    "name": "ipython",
    "version": 3
   },
   "file_extension": ".py",
   "mimetype": "text/x-python",
   "name": "python",
   "nbconvert_exporter": "python",
   "pygments_lexer": "ipython3",
   "version": "3.13.5"
  }
 },
 "nbformat": 4,
 "nbformat_minor": 5
}
